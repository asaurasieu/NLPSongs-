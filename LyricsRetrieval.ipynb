{
 "cells": [
  {
   "cell_type": "code",
   "execution_count": 1,
   "metadata": {},
   "outputs": [
    {
     "name": "stdout",
     "output_type": "stream",
     "text": [
      "Requirement already satisfied: sentence-transformers in /Users/anita/.pyenv/versions/3.9.7/lib/python3.9/site-packages (2.7.0)\n",
      "Requirement already satisfied: transformers<5.0.0,>=4.34.0 in /Users/anita/.pyenv/versions/3.9.7/lib/python3.9/site-packages (from sentence-transformers) (4.39.2)\n",
      "Requirement already satisfied: tqdm in /Users/anita/.pyenv/versions/3.9.7/lib/python3.9/site-packages (from sentence-transformers) (4.66.2)\n",
      "Requirement already satisfied: torch>=1.11.0 in /Users/anita/.pyenv/versions/3.9.7/lib/python3.9/site-packages (from sentence-transformers) (2.2.1)\n",
      "Requirement already satisfied: numpy in /Users/anita/.pyenv/versions/3.9.7/lib/python3.9/site-packages (from sentence-transformers) (1.26.4)\n",
      "Requirement already satisfied: scikit-learn in /Users/anita/.pyenv/versions/3.9.7/lib/python3.9/site-packages (from sentence-transformers) (1.1.3)\n",
      "Requirement already satisfied: scipy in /Users/anita/.pyenv/versions/3.9.7/lib/python3.9/site-packages (from sentence-transformers) (1.12.0)\n",
      "Requirement already satisfied: huggingface-hub>=0.15.1 in /Users/anita/.pyenv/versions/3.9.7/lib/python3.9/site-packages (from sentence-transformers) (0.21.4)\n",
      "Requirement already satisfied: Pillow in /Users/anita/.pyenv/versions/3.9.7/lib/python3.9/site-packages (from sentence-transformers) (10.3.0)\n",
      "Requirement already satisfied: filelock in /Users/anita/.pyenv/versions/3.9.7/lib/python3.9/site-packages (from huggingface-hub>=0.15.1->sentence-transformers) (3.13.1)\n",
      "Requirement already satisfied: fsspec>=2023.5.0 in /Users/anita/.pyenv/versions/3.9.7/lib/python3.9/site-packages (from huggingface-hub>=0.15.1->sentence-transformers) (2024.2.0)\n",
      "Requirement already satisfied: requests in /Users/anita/.pyenv/versions/3.9.7/lib/python3.9/site-packages (from huggingface-hub>=0.15.1->sentence-transformers) (2.31.0)\n",
      "Requirement already satisfied: pyyaml>=5.1 in /Users/anita/.pyenv/versions/3.9.7/lib/python3.9/site-packages (from huggingface-hub>=0.15.1->sentence-transformers) (6.0.1)\n",
      "Requirement already satisfied: typing-extensions>=3.7.4.3 in /Users/anita/.pyenv/versions/3.9.7/lib/python3.9/site-packages (from huggingface-hub>=0.15.1->sentence-transformers) (4.10.0)\n",
      "Requirement already satisfied: packaging>=20.9 in /Users/anita/.pyenv/versions/3.9.7/lib/python3.9/site-packages (from huggingface-hub>=0.15.1->sentence-transformers) (23.2)\n",
      "Requirement already satisfied: sympy in /Users/anita/.pyenv/versions/3.9.7/lib/python3.9/site-packages (from torch>=1.11.0->sentence-transformers) (1.12)\n",
      "Requirement already satisfied: networkx in /Users/anita/.pyenv/versions/3.9.7/lib/python3.9/site-packages (from torch>=1.11.0->sentence-transformers) (3.2.1)\n",
      "Requirement already satisfied: jinja2 in /Users/anita/.pyenv/versions/3.9.7/lib/python3.9/site-packages (from torch>=1.11.0->sentence-transformers) (3.1.3)\n",
      "Requirement already satisfied: regex!=2019.12.17 in /Users/anita/.pyenv/versions/3.9.7/lib/python3.9/site-packages (from transformers<5.0.0,>=4.34.0->sentence-transformers) (2023.12.25)\n",
      "Requirement already satisfied: tokenizers<0.19,>=0.14 in /Users/anita/.pyenv/versions/3.9.7/lib/python3.9/site-packages (from transformers<5.0.0,>=4.34.0->sentence-transformers) (0.15.2)\n",
      "Requirement already satisfied: safetensors>=0.4.1 in /Users/anita/.pyenv/versions/3.9.7/lib/python3.9/site-packages (from transformers<5.0.0,>=4.34.0->sentence-transformers) (0.4.2)\n",
      "Requirement already satisfied: joblib>=1.0.0 in /Users/anita/.pyenv/versions/3.9.7/lib/python3.9/site-packages (from scikit-learn->sentence-transformers) (1.3.2)\n",
      "Requirement already satisfied: threadpoolctl>=2.0.0 in /Users/anita/.pyenv/versions/3.9.7/lib/python3.9/site-packages (from scikit-learn->sentence-transformers) (3.4.0)\n",
      "Requirement already satisfied: MarkupSafe>=2.0 in /Users/anita/.pyenv/versions/3.9.7/lib/python3.9/site-packages (from jinja2->torch>=1.11.0->sentence-transformers) (2.1.5)\n",
      "Requirement already satisfied: charset-normalizer<4,>=2 in /Users/anita/.pyenv/versions/3.9.7/lib/python3.9/site-packages (from requests->huggingface-hub>=0.15.1->sentence-transformers) (3.3.2)\n",
      "Requirement already satisfied: idna<4,>=2.5 in /Users/anita/.pyenv/versions/3.9.7/lib/python3.9/site-packages (from requests->huggingface-hub>=0.15.1->sentence-transformers) (3.6)\n",
      "Requirement already satisfied: urllib3<3,>=1.21.1 in /Users/anita/.pyenv/versions/3.9.7/lib/python3.9/site-packages (from requests->huggingface-hub>=0.15.1->sentence-transformers) (2.2.1)\n",
      "Requirement already satisfied: certifi>=2017.4.17 in /Users/anita/.pyenv/versions/3.9.7/lib/python3.9/site-packages (from requests->huggingface-hub>=0.15.1->sentence-transformers) (2024.2.2)\n",
      "Requirement already satisfied: mpmath>=0.19 in /Users/anita/.pyenv/versions/3.9.7/lib/python3.9/site-packages (from sympy->torch>=1.11.0->sentence-transformers) (1.3.0)\n",
      "Requirement already satisfied: lyricsgenius in /Users/anita/.pyenv/versions/3.9.7/lib/python3.9/site-packages (3.0.1)\n",
      "Requirement already satisfied: beautifulsoup4>=4.6.0 in /Users/anita/.pyenv/versions/3.9.7/lib/python3.9/site-packages (from lyricsgenius) (4.9.3)\n",
      "Requirement already satisfied: requests>=2.20.0 in /Users/anita/.pyenv/versions/3.9.7/lib/python3.9/site-packages (from lyricsgenius) (2.31.0)\n",
      "Requirement already satisfied: soupsieve>1.2 in /Users/anita/.pyenv/versions/3.9.7/lib/python3.9/site-packages (from beautifulsoup4>=4.6.0->lyricsgenius) (2.5)\n",
      "Requirement already satisfied: charset-normalizer<4,>=2 in /Users/anita/.pyenv/versions/3.9.7/lib/python3.9/site-packages (from requests>=2.20.0->lyricsgenius) (3.3.2)\n",
      "Requirement already satisfied: idna<4,>=2.5 in /Users/anita/.pyenv/versions/3.9.7/lib/python3.9/site-packages (from requests>=2.20.0->lyricsgenius) (3.6)\n",
      "Requirement already satisfied: urllib3<3,>=1.21.1 in /Users/anita/.pyenv/versions/3.9.7/lib/python3.9/site-packages (from requests>=2.20.0->lyricsgenius) (2.2.1)\n",
      "Requirement already satisfied: certifi>=2017.4.17 in /Users/anita/.pyenv/versions/3.9.7/lib/python3.9/site-packages (from requests>=2.20.0->lyricsgenius) (2024.2.2)\n",
      "Requirement already satisfied: python-dotenv in /Users/anita/.pyenv/versions/3.9.7/lib/python3.9/site-packages (1.0.1)\n",
      "Requirement already satisfied: openai in /Users/anita/.pyenv/versions/3.9.7/lib/python3.9/site-packages (0.28.0)\n",
      "Requirement already satisfied: requests>=2.20 in /Users/anita/.pyenv/versions/3.9.7/lib/python3.9/site-packages (from openai) (2.31.0)\n",
      "Requirement already satisfied: tqdm in /Users/anita/.pyenv/versions/3.9.7/lib/python3.9/site-packages (from openai) (4.66.2)\n",
      "Requirement already satisfied: aiohttp in /Users/anita/.pyenv/versions/3.9.7/lib/python3.9/site-packages (from openai) (3.9.3)\n",
      "Requirement already satisfied: charset-normalizer<4,>=2 in /Users/anita/.pyenv/versions/3.9.7/lib/python3.9/site-packages (from requests>=2.20->openai) (3.3.2)\n",
      "Requirement already satisfied: idna<4,>=2.5 in /Users/anita/.pyenv/versions/3.9.7/lib/python3.9/site-packages (from requests>=2.20->openai) (3.6)\n",
      "Requirement already satisfied: urllib3<3,>=1.21.1 in /Users/anita/.pyenv/versions/3.9.7/lib/python3.9/site-packages (from requests>=2.20->openai) (2.2.1)\n",
      "Requirement already satisfied: certifi>=2017.4.17 in /Users/anita/.pyenv/versions/3.9.7/lib/python3.9/site-packages (from requests>=2.20->openai) (2024.2.2)\n",
      "Requirement already satisfied: aiosignal>=1.1.2 in /Users/anita/.pyenv/versions/3.9.7/lib/python3.9/site-packages (from aiohttp->openai) (1.3.1)\n",
      "Requirement already satisfied: attrs>=17.3.0 in /Users/anita/.pyenv/versions/3.9.7/lib/python3.9/site-packages (from aiohttp->openai) (23.2.0)\n",
      "Requirement already satisfied: frozenlist>=1.1.1 in /Users/anita/.pyenv/versions/3.9.7/lib/python3.9/site-packages (from aiohttp->openai) (1.4.1)\n",
      "Requirement already satisfied: multidict<7.0,>=4.5 in /Users/anita/.pyenv/versions/3.9.7/lib/python3.9/site-packages (from aiohttp->openai) (6.0.5)\n",
      "Requirement already satisfied: yarl<2.0,>=1.0 in /Users/anita/.pyenv/versions/3.9.7/lib/python3.9/site-packages (from aiohttp->openai) (1.9.4)\n",
      "Requirement already satisfied: async-timeout<5.0,>=4.0 in /Users/anita/.pyenv/versions/3.9.7/lib/python3.9/site-packages (from aiohttp->openai) (4.0.3)\n"
     ]
    }
   ],
   "source": [
    "%pip3 install -U sentence-transformers\n",
    "%pip3 install lyricsgenius\n",
    "%pip install python-dotenv openai"
   ]
  },
  {
   "cell_type": "code",
   "execution_count": 2,
   "metadata": {},
   "outputs": [
    {
     "name": "stderr",
     "output_type": "stream",
     "text": [
      "[nltk_data] Downloading package stopwords to /Users/anita/nltk_data...\n",
      "[nltk_data]   Package stopwords is already up-to-date!\n",
      "[nltk_data] Downloading package punkt to /Users/anita/nltk_data...\n",
      "[nltk_data]   Package punkt is already up-to-date!\n"
     ]
    },
    {
     "data": {
      "text/plain": [
       "True"
      ]
     },
     "execution_count": 2,
     "metadata": {},
     "output_type": "execute_result"
    }
   ],
   "source": [
    "# Imports and setup\n",
    "import pandas as pd\n",
    "import numpy as np\n",
    "import torch\n",
    "import requests\n",
    "import lyricsgenius\n",
    "import dotenv \n",
    "from sentence_transformers import SentenceTransformer\n",
    "from sklearn.metrics.pairwise import cosine_similarity\n",
    "import pandas as pd\n",
    "from collections import Counter\n",
    "from nltk.probability import FreqDist\n",
    "import logging\n",
    "from langdetect import detect\n",
    "import re\n",
    "import nltk\n",
    "import pickle\n",
    "from nltk.corpus import stopwords\n",
    "from nltk.tokenize import word_tokenize\n",
    "from nltk.stem import WordNetLemmatizer\n",
    "from nltk.stem import SnowballStemmer\n",
    "from dotenv import load_dotenv\n",
    "import os\n",
    "import openai\n",
    "load_dotenv()\n",
    "api_key = os.getenv('OPENAI_API_KEY')\n",
    "\n",
    "nltk.download('stopwords')\n",
    "nltk.download('punkt')"
   ]
  },
  {
   "cell_type": "code",
   "execution_count": 3,
   "metadata": {},
   "outputs": [],
   "source": [
    "import spotipy\n",
    "from spotipy.oauth2 import SpotifyClientCredentials\n",
    "\n",
    "client_id = '1075d2afec3d414ca02ec7002f1d5576'\n",
    "client_secret = 'bb1fd201730b484983d952ecbd344b33'\n",
    "credentials = SpotifyClientCredentials(client_id=client_id, client_secret=client_secret)\n",
    "spotify = spotipy.Spotify(client_credentials_manager=credentials)"
   ]
  },
  {
   "cell_type": "markdown",
   "metadata": {},
   "source": [
    "### Clean code "
   ]
  },
  {
   "cell_type": "code",
   "execution_count": 4,
   "metadata": {},
   "outputs": [
    {
     "name": "stdout",
     "output_type": "stream",
     "text": [
      "Data loaded successfully!\n",
      "Sample data:\n"
     ]
    },
    {
     "data": {
      "text/html": [
       "<div>\n",
       "<style scoped>\n",
       "    .dataframe tbody tr th:only-of-type {\n",
       "        vertical-align: middle;\n",
       "    }\n",
       "\n",
       "    .dataframe tbody tr th {\n",
       "        vertical-align: top;\n",
       "    }\n",
       "\n",
       "    .dataframe thead th {\n",
       "        text-align: right;\n",
       "    }\n",
       "</style>\n",
       "<table border=\"1\" class=\"dataframe\">\n",
       "  <thead>\n",
       "    <tr style=\"text-align: right;\">\n",
       "      <th></th>\n",
       "      <th>artist</th>\n",
       "      <th>title</th>\n",
       "      <th>id</th>\n",
       "      <th>release_date</th>\n",
       "      <th>lyrics</th>\n",
       "    </tr>\n",
       "  </thead>\n",
       "  <tbody>\n",
       "    <tr>\n",
       "      <th>0</th>\n",
       "      <td>Ariana Grande</td>\n",
       "      <td>​thank u, next</td>\n",
       "      <td>4063065</td>\n",
       "      <td>2018-11-03</td>\n",
       "      <td>[Verse 1]\\nThought I'd end up with Sean\\nBut h...</td>\n",
       "    </tr>\n",
       "    <tr>\n",
       "      <th>1</th>\n",
       "      <td>Ariana Grande</td>\n",
       "      <td>7 rings</td>\n",
       "      <td>4067762</td>\n",
       "      <td>2019-01-18</td>\n",
       "      <td>[Verse 1]\\nYeah, breakfast at Tiffany's and bo...</td>\n",
       "    </tr>\n",
       "    <tr>\n",
       "      <th>2</th>\n",
       "      <td>Ariana Grande</td>\n",
       "      <td>​God is a woman</td>\n",
       "      <td>3681280</td>\n",
       "      <td>2018-07-13</td>\n",
       "      <td>[Chorus]\\nYou, you love it how I move you\\nYou...</td>\n",
       "    </tr>\n",
       "    <tr>\n",
       "      <th>3</th>\n",
       "      <td>Ariana Grande</td>\n",
       "      <td>Side To Side</td>\n",
       "      <td>2457495</td>\n",
       "      <td>2016-05-20</td>\n",
       "      <td>[Intro: Ariana Grande &amp; Nicki Minaj]\\nI've bee...</td>\n",
       "    </tr>\n",
       "    <tr>\n",
       "      <th>4</th>\n",
       "      <td>Ariana Grande</td>\n",
       "      <td>​​no tears left to cry</td>\n",
       "      <td>3649172</td>\n",
       "      <td>2018-04-20</td>\n",
       "      <td>[Intro]\\nRight now, I'm in a state of mind\\nI ...</td>\n",
       "    </tr>\n",
       "    <tr>\n",
       "      <th>...</th>\n",
       "      <td>...</td>\n",
       "      <td>...</td>\n",
       "      <td>...</td>\n",
       "      <td>...</td>\n",
       "      <td>...</td>\n",
       "    </tr>\n",
       "    <tr>\n",
       "      <th>3739</th>\n",
       "      <td>Taylor Swift</td>\n",
       "      <td>Taylor Swift - no body, no crime (Traducción a...</td>\n",
       "      <td>6274728</td>\n",
       "      <td>2020-12-11</td>\n",
       "      <td>[Intro: HAIM]\\nÉl lo hizo\\nÉl lo hizo\\n\\n[Vers...</td>\n",
       "    </tr>\n",
       "    <tr>\n",
       "      <th>3740</th>\n",
       "      <td>Taylor Swift</td>\n",
       "      <td>Welcome Back Grunwald</td>\n",
       "      <td>6226864</td>\n",
       "      <td>NaN</td>\n",
       "      <td>Turn WYCD on\\nYou're\\nOn your Grunwald\\nBack f...</td>\n",
       "    </tr>\n",
       "    <tr>\n",
       "      <th>3741</th>\n",
       "      <td>Taylor Swift</td>\n",
       "      <td>Tolerate it (Polskie Tłumaczenie)</td>\n",
       "      <td>6315848</td>\n",
       "      <td>2020-12-11</td>\n",
       "      <td>[Zwrotka 1]\\nSiedzę i patrzę jak czytasz z gło...</td>\n",
       "    </tr>\n",
       "    <tr>\n",
       "      <th>3742</th>\n",
       "      <td>Taylor Swift</td>\n",
       "      <td>Find you</td>\n",
       "      <td>6209316</td>\n",
       "      <td>NaN</td>\n",
       "      <td>Trying just like they say\\nJust taking the ste...</td>\n",
       "    </tr>\n",
       "    <tr>\n",
       "      <th>3743</th>\n",
       "      <td>Taylor Swift</td>\n",
       "      <td>Clean - Türkçe Çeviri</td>\n",
       "      <td>6387638</td>\n",
       "      <td>2014-10-27</td>\n",
       "      <td>[Verse 1]\\nKuraklık en kötüsüydü(Oh-oh-oh)\\nBe...</td>\n",
       "    </tr>\n",
       "  </tbody>\n",
       "</table>\n",
       "<p>3744 rows × 5 columns</p>\n",
       "</div>"
      ],
      "text/plain": [
       "             artist                                              title  \\\n",
       "0     Ariana Grande                                     ​thank u, next   \n",
       "1     Ariana Grande                                            7 rings   \n",
       "2     Ariana Grande                                    ​God is a woman   \n",
       "3     Ariana Grande                                       Side To Side   \n",
       "4     Ariana Grande                             ​​no tears left to cry   \n",
       "...             ...                                                ...   \n",
       "3739   Taylor Swift  Taylor Swift - no body, no crime (Traducción a...   \n",
       "3740   Taylor Swift                              Welcome Back Grunwald   \n",
       "3741   Taylor Swift                  Tolerate it (Polskie Tłumaczenie)   \n",
       "3742   Taylor Swift                                           Find you   \n",
       "3743   Taylor Swift                              Clean - Türkçe Çeviri   \n",
       "\n",
       "           id release_date                                             lyrics  \n",
       "0     4063065   2018-11-03  [Verse 1]\\nThought I'd end up with Sean\\nBut h...  \n",
       "1     4067762   2019-01-18  [Verse 1]\\nYeah, breakfast at Tiffany's and bo...  \n",
       "2     3681280   2018-07-13  [Chorus]\\nYou, you love it how I move you\\nYou...  \n",
       "3     2457495   2016-05-20  [Intro: Ariana Grande & Nicki Minaj]\\nI've bee...  \n",
       "4     3649172   2018-04-20  [Intro]\\nRight now, I'm in a state of mind\\nI ...  \n",
       "...       ...          ...                                                ...  \n",
       "3739  6274728   2020-12-11  [Intro: HAIM]\\nÉl lo hizo\\nÉl lo hizo\\n\\n[Vers...  \n",
       "3740  6226864          NaN  Turn WYCD on\\nYou're\\nOn your Grunwald\\nBack f...  \n",
       "3741  6315848   2020-12-11  [Zwrotka 1]\\nSiedzę i patrzę jak czytasz z gło...  \n",
       "3742  6209316          NaN  Trying just like they say\\nJust taking the ste...  \n",
       "3743  6387638   2014-10-27  [Verse 1]\\nKuraklık en kötüsüydü(Oh-oh-oh)\\nBe...  \n",
       "\n",
       "[3744 rows x 5 columns]"
      ]
     },
     "execution_count": 4,
     "metadata": {},
     "output_type": "execute_result"
    }
   ],
   "source": [
    "df = pd.read_csv('/Users/anita/Documents/NLPSongs-/music_data.csv')  \n",
    "print(\"Data loaded successfully!\")\n",
    "print(\"Sample data:\")\n",
    "df"
   ]
  },
  {
   "cell_type": "code",
   "execution_count": 5,
   "metadata": {},
   "outputs": [
    {
     "data": {
      "text/plain": [
       "array(['Ariana Grande', 'Beyoncé', 'Billie Eilish', 'Cardi B',\n",
       "       'Charlie Puth', 'Coldplay', 'Drake', 'Dua Lipa', 'Ed Sheeran',\n",
       "       'Eminem', 'Justin Bieber', 'Katy Perry', 'Khalid', 'Lady Gaga',\n",
       "       'Maroon 5', 'Nicki Minaj', 'Post Malone', 'Rihanna',\n",
       "       'Selena Gomez', 'Taylor Swift'], dtype=object)"
      ]
     },
     "execution_count": 5,
     "metadata": {},
     "output_type": "execute_result"
    }
   ],
   "source": [
    "df['artist'].unique()"
   ]
  },
  {
   "cell_type": "code",
   "execution_count": 6,
   "metadata": {},
   "outputs": [
    {
     "name": "stdout",
     "output_type": "stream",
     "text": [
      "artist            0\n",
      "title             0\n",
      "id                0\n",
      "release_date    993\n",
      "lyrics            0\n",
      "dtype: int64\n"
     ]
    }
   ],
   "source": [
    "null_values = df.isnull().sum()\n",
    "print(null_values)"
   ]
  },
  {
   "cell_type": "code",
   "execution_count": 7,
   "metadata": {},
   "outputs": [],
   "source": [
    "#Remove null values\n",
    "df= df.dropna()"
   ]
  },
  {
   "cell_type": "code",
   "execution_count": 8,
   "metadata": {},
   "outputs": [
    {
     "name": "stdout",
     "output_type": "stream",
     "text": [
      "0\n"
     ]
    }
   ],
   "source": [
    "duplicate_rows = df.duplicated().sum()\n",
    "print(duplicate_rows)"
   ]
  },
  {
   "cell_type": "code",
   "execution_count": 9,
   "metadata": {},
   "outputs": [
    {
     "data": {
      "text/plain": [
       "array(['\\u200bthank u, next', '7 rings', '\\u200bGod is a woman', ...,\n",
       "       'Taylor Swift - no body, no crime (Traducción al español)',\n",
       "       'Tolerate it (Polskie Tłumaczenie)', 'Clean - Türkçe Çeviri'],\n",
       "      dtype=object)"
      ]
     },
     "execution_count": 9,
     "metadata": {},
     "output_type": "execute_result"
    }
   ],
   "source": [
    "df['title'].unique()"
   ]
  },
  {
   "cell_type": "code",
   "execution_count": 10,
   "metadata": {},
   "outputs": [
    {
     "data": {
      "text/plain": [
       "array(['[Verse 1]\\nThought I\\'d end up with Sean\\nBut he wasn\\'t a match\\nWrote some songs about Ricky\\nNow I listen and laugh\\nEven almost got married\\nAnd for Pete, I\\'m so thankful\\nWish I could say, \"Thank you\" to Malcolm\\n\\'Cause he was an angel\\n\\n[Pre-Chorus]\\nOne taught me love\\nOne taught me patience\\nAnd one taught me pain\\nNow, I\\'m so amazing\\nSay I\\'ve loved and I\\'ve lost\\nBut that\\'s not what I see\\nSo, look what I got\\nLook what you taught me\\nAnd for that, I say\\n\\n[Chorus]\\nThank you, next (Next)\\nThank you, next (Next)\\nThank you, next\\nI\\'m so fuckin\\' grateful for my ex\\nThank you, next (Next)\\nThank you, next (Next)\\nThank you, next (Next)\\nI\\'m so fuckin\\'—\\n\\n[Verse 2]\\nSpend more time with my friends\\nI ain\\'t worried \\'bout nothin\\'\\nPlus, I met someone else\\nWe havin\\' better discussions\\nI know they say I move on too fast\\nBut this one gon\\' last\\n\\'Cause her name is Ari\\nAnd I\\'m so good with that (So good with that)\\n\\n[Pre-Chorus]\\nShe taught me love (Love)\\nShe taught me patience (Patience)\\nHow she handles pain (Pain)\\nThat shit\\'s amazing (Yeah, she\\'s amazing)\\nI\\'ve loved and I\\'ve lost (Yeah, yeah)\\nBut that\\'s not what I see (Yeah, yeah)\\n\\'Cause look what I\\'ve found (Yeah, yeah)\\nAin\\'t no need for searching, and for that, I say\\n\\n[Chorus]\\nThank you, next (Thank you, next)\\nThank you, next (Thank you, next)\\nThank you, next (Thank you)\\nI\\'m so fuckin\\' grateful for my ex\\nThank you, next (Thank you, next)\\nThank you, next (Said thank you, next)\\nThank you, next (Next)\\nI\\'m so fuckin\\' grateful for my ex\\n\\n[Post-Chorus]\\nThank you, next\\nThank you, next\\nThank you, next\\nI\\'m so fuckin\\'—\\n\\n[Bridge]\\nOne day I\\'ll walk down the aisle\\nHolding hands with my mama\\nI\\'ll be thanking my dad\\n\\'Cause she grew from the drama\\nOnly wanna do it once, real bad\\nGon\\' make that shit last\\nGod forbid something happens\\nLeast this song is a smash (Song is a smash)\\n\\n[Pre-Chorus]\\nI\\'ve got so much love (Love)\\nGot so much patience (Patience)\\nAnd I\\'ve learned from the pain (Pain)\\nI turned out amazing (Turned out amazing)\\nSay I\\'ve loved and I\\'ve lost (Yeah, yeah)\\nBut that\\'s not what I see (Yeah, yeah)\\n\\'Cause look what I\\'ve found (Yeah, yeah)\\nAin\\'t no need for searching\\nAnd for that, I say\\n\\n[Chorus]\\nThank you, next (Thank you, next)\\nThank you, next (Thank you, next)\\nThank you, next\\nI\\'m so fuckin\\' grateful for my ex\\nThank you, next (Thank you, next)\\nThank you, next (Said thank you, next)\\nThank you, next (Next)\\nI\\'m so fuckin\\' grateful for my ex\\n\\n[Post-Chorus]\\nThank you, next\\nThank you, next\\nThank you, next\\nYeah, yee\\nThank you, next\\nThank you, next\\nThank you, next\\nYeah, yee',\n",
       "       '[Verse 1]\\nYeah, breakfast at Tiffany\\'s and bottles of bubbles\\nGirls with tattoos who like getting in trouble\\nLashes and diamonds, ATM machines\\nBuy myself all of my favorite things (Yeah)\\nBeen through some bad shit, I should be a sad bitch\\nWho woulda thought it\\'d turn me to a savage?\\nRather be tied up with calls and not strings\\nWrite my own checks like I write what I sing, yeah (Yeah)\\n\\n[Pre-Chorus]\\nMy wrist, stop watchin\\', my neck is flossy\\nMake big deposits, my gloss is poppin\\'\\nYou like my hair? Gee, thanks, just bought it\\nI see it, I like it, I want it, I got it (Yeah)\\n\\n[Chorus]\\nI want it, I got it, I want it, I got it\\nI want it, I got it, I want it, I got it\\nYou like my hair? Gee, thanks, just bought it\\nI see it, I like it, I want it, I got it (Yep)\\n\\n[Verse 2]\\nWearing a ring, but ain\\'t gon\\' be no \"Mrs.\"\\nBought matching diamonds for six of my bitches\\nI\\'d rather spoil all my friends with my riches\\nThink retail therapy my new addiction\\nWhoever said money can\\'t solve your problems\\nMust not have had enough money to solve \\'em\\nThey say, \"Which one?\" I say, \"Nah, I want all of \\'em\"\\nHappiness is the same price as red-bottoms\\n\\n[Pre-Chorus]\\nMy smile is beamin\\' (Yeah), my skin is gleamin\\' (Is gleamin\\')\\nThe way it shine, I know you\\'ve seen it (You\\'ve seen it)\\nI bought a crib just for (Just for) the closet (Closet)\\nBoth his and hers, I want it, I got it, yeah\\n\\n[Chorus]\\nI want it, I got it, I want it, I got it\\nI want it, I got it, I want it, I got it (Baby)\\nYou like my hair? Gee, thanks, just bought it (Oh yeah)\\nI see it, I like it, I want it, I got it (Yep)\\n\\n[Verse 3]\\nYeah, my receipts be lookin\\' like phone numbers\\nIf it ain\\'t money, then wrong number\\nBlack card is my business card\\nThe way it be settin\\' the tone for me\\nI don\\'t mean to brag, but I be like, \"Put it in the bag,\" yeah\\nWhen you see them racks, they stacked up like my ass, yeah\\nShoot, go from the store to the booth\\nMake it all back in one loop, gimme the loot\\nNever mind, I got the juice\\nNothing but net when we shoot\\nLook at my neck, look at my jet\\nAin\\'t got enough money to pay me respect\\nAin\\'t no budget when I\\'m on the set\\nIf I like it, then that\\'s what I get, yeah\\n\\n[Chorus]\\nI want it, I got it, I want it, I got it (Oh yeah)\\nI want it, I got it, I want it, I got it (Oh yeah, yeah)\\nYou like my hair? Gee, thanks, just bought it\\nI see it, I like it, I want it, I got it (I see, yep)',\n",
       "       \"[Chorus]\\nYou, you love it how I move you\\nYou love it how I touch you, my one\\nWhen all is said and done\\nYou'll believe God is a woman\\nAnd I, I feel it after midnight\\nA feelin' that you can't fight, my one\\nIt lingers when we're done\\nYou'll believe God is a woman\\n\\n[Verse 1]\\nI don't wanna waste no time, yeah\\nYou ain't got a one-track mind, yeah\\nHave it any way you like, yeah\\nAnd I can tell that you know I know how I want it\\nAin't nobody else can relate\\nBoy, I like that you ain't afraid\\nBaby, lay me down and let's pray\\nI'm tellin' you the way I like it, how I want it\\n\\n[Pre-Chorus]\\n(Yeah) And I can be all the things you told me not to be\\n(Yeah) When you try to come for me, I keep on flourishing\\n(Yeah) And he see the universe when I'm the company\\nIt's all in me\\n\\n[Chorus]\\nYou, you love it how I move you\\nYou love it how I touch you, my one\\nWhen all is said and done\\nYou'll believe God is a woman\\nAnd I, I feel it after midnight\\nA feelin' that you can't fight, my one\\nIt lingers when we're done\\nYou'll believe God is a woman\\n\\n[Verse 2]\\n(Yeah)\\nI tell you all the things you should know\\nSo baby, take my hands, save your soul\\nWe can make it last, take it slow, hmm\\nAnd I can tell that you know I know how I want it, yeah\\nBut you're different from the rest\\nAnd boy, if you confess, you might get blessed\\nSee if you deserve what comes next\\nI'm tellin' you the way I like it, how I want it\\n\\n[Pre-Chorus]\\n(Yeah) And I can be all the things you told me not to be\\n(Yeah) When you try to come for me, I keep on flourishing\\n(Yeah) And he see the universe when I'm the company\\nIt's all in me\\n\\n[Chorus]\\nYou, you love it how I move you\\nYou love it how I touch you, my one\\nWhen all is said and done\\nYou'll believe God is a woman\\nAnd I, I feel it after midnight\\nA feelin' that you can't fight, my one\\nIt lingers when we're done\\nYou'll believe God is a woman\\n\\n[Outro]\\nYeah, yeah\\n(God is a woman)\\nYeah, yeah\\n(God is a woman, yeah)\\nMy one\\n(One)\\nWhen all is said and done\\nYou'll believe God is a woman\\nYou'll believe God\\n(God is a woman)\\nOh, yeah\\n(God is a woman, yeah)\\n(One)\\nIt lingers when we're done\\nYou'll believe God is a woman\",\n",
       "       ...,\n",
       "       '[Intro: HAIM]\\nÉl lo hizo\\nÉl lo hizo\\n\\n[Verso 1: Taylor Swift]\\nEste es un amigo mío\\nNos reunimos todos los martes por la\\u2005noche\\u2005para cenar y\\u2005tomar una copa de vino\\nEste ha\\u2005estado perdiendo el sueño\\nSu marido está actuando diferente y huele a infidelidad\\nElla dice: \"Ese no es mi Merlot en su boca\\nEsa no es mi joya en nuestra cuenta conjunta \"\\nNo, no hay duda\\nCreo que lo voy a llamar\\n\\n[Estribillo: Taylor Swift y HAIM]\\nElla dice: \"Creo que lo hizo, pero no puedo probarlo\"\\nCreo que lo hizo, pero no puedo probarlo\\nCreo que lo hizo, pero no puedo probarlo\\nNo, sin cuerpo, sin crimen\\nPero no lo dejaré hasta el día de mi muerte\\n\\n[Post-estribillo: HAIM]\\nNo no\\nCreo que lo hizo\\nNo no\\nÉl lo hizo\\n\\n[Verso 2: Taylor Swift]\\nEste no estuvo el martes por la noche en Olive Garden\\nEn su trabajo o en cualquier lugar\\nInforma a su esposa desaparecida\\nY noté cuando pasé por su casa\\nSu camioneta tiene algunos neumáticos nuevos\\nY su ama se mudó\\nDuerme en la cama de Este y todo\\nNo, no hay duda\\nAlguien tiene que atraparlo, porque\\n\\n[Estribillo: Taylor Swift y HAIM]\\nCreo que lo hizo, pero no puedo probarlo (lo hizo)\\nCreo que lo hizo, pero no puedo probarlo (lo hizo)\\nCreo que lo hizo, pero no puedo probarlo\\nNo, sin cuerpo, sin crimen\\nPero no lo dejaré hasta el día de mi muerte\\n\\n[Post-estribillo: HAIM y Taylor Swift]\\nNo no\\nCreo que lo hizo\\nNo no\\nÉl lo hizo\\n\\n[Verso 3: Taylor Swift y Danielle Haim]\\nMenos mal que mi papá me hizo obtener una licencia de navegación cuando tenía quince años\\nY he limpiado suficientes casas para saber cómo encubrir una escena\\nMenos mal que la hermana de Este jurará que estaba conmigo\\n(Ella estaba conmigo, amigo)\\nMenos mal que su amante sacó una gran póliza de seguro de vida\\n\\n[Estribillo: Taylor Swift]\\nCreen que ella lo hizo, pero no pueden probarlo\\nCreen que ella lo hizo, pero no pueden probarlo\\nElla cree que yo lo hice, pero no puede probarlo\\n\\n[Outro: Taylor Swift y HAIM]\\nNo, sin cuerpo, sin crimen\\nNo me dejé levantar hasta el día en que él\\nNo, sin cuerpo, sin crimen\\nNo me dejé levantar hasta el día en que él\\nNo, sin cuerpo, sin crimen\\nNo me dejé levantar hasta el día en que murió',\n",
       "       '[Zwrotka 1]\\nSiedzę i patrzę jak czytasz z głową pochyloną\\nBudzę się i patrzę jakl oddychasz z zamkniętymi oczyma\\nSiedzę i oglądam Ciebie\\nZauważam wszystko co robisz i czego nie robisz\\nJesteś tyle starszy i mądrzejszy, i ja...\\n\\n[Refren 1]\\nCzekam przy drzwiach jak małe dziecko\\nUżywam najlepsze farby na Twój portret\\nNakrywam stół wykwintnymi pierdołami\\nI patrzę jak ty to jedynie znosisz\\nJeśli to wszystko dzieje się w mojej głowie, to powiedz mi teraz\\nPowiedz mi, że mylę się jakoś\\nWiem, że moja miłość powinna być celebrowana\\nA ty ją jedynie znosisz\\n\\n[Zwrotka 2]\\nWitam Cię jak zwycięzcę powracającego z pola walki\\nPobłażliwie traktuję Twoje niedyskrecje\\nSiedzę i słucham\\nPoleruję talеrze aż lśnią i błyszczą\\nJesteś tylе starszy i mądrzejszy, i ja...\\n\\n[Refren 1]\\nCzekam przy drzwiach jak małe dziecko\\nUżywam najlepsze farby na Twój portret\\nNakrywam stół wykwintnymi pierdołami\\nI patrzę jak ty to jedynie znosisz\\nJeśli to wszystko dzieje się w mojej głowie, to powiedz mi teraz\\nPowiedz mi, że mylę się jakoś\\nWiem, że moja miłość powinna być celebrowana\\nA ty ją jedynie znosisz\\n\\n[Bridge]\\nKiedy Cię nie było - budowałeś inne światy, gdzie byłam ja?\\nGdzie ten facet, który rzucałby koce na mój drut kolczasty?\\nZrobiłam z Ciebie moją świątynię, mój mural, moje niebo\\nA teraz błagam o przypisy w historii Twojego życia\\nRysując serca w notce o autorze\\nZawsze zabierałam Ci za dużo miejsca i czasu\\nZakładasz, że u mnie wszystko gra, ale co byś zrobił gdybym...\\n\\n[Refren 2]\\nWyzwoliła sie i zostawiła Cię w ruinach\\nWzięła ten sztylet we mnie i go wyjęła\\nZyskać Twój ciężar, a potem go stracić\\nUwierz mi, jestem w stanie to zrobić\\nJeśli to wszystko dzieje się w mojej głowie, to powiedz mi teraz\\nPowiedz mi, że mylę się jakoś\\nWiem, że moja miłość powinna być celebrowana\\nA ty ją jedynie znosisz\\n\\n[Outro]\\nSiedzę i oglądam Cię',\n",
       "       '[Verse 1]\\nKuraklık en kötüsüydü(Oh-oh-oh)\\nBeraber büyüttüğümüz çiçekler susuzluktan ölünce\\nAylarca ileri geri (Oh-oh-oh)\\nHala benimlesin\\nArtık giyemediğim şarap lekeli bir elbise gibi\\n\\n[Pre-Chorus 1]\\nSavaşı kaybederken kafamı astım\\nVe gökyüzü mükemmel bir fırtına gibi siyaha büründü\\n\\n[Chorus]\\nYağmur bardaktan boşalırcasına geldi\\nBen boğulurken, ve o an sonunda nefes aldım\\nVe sabaha kadar\\nBütün izlerin silindi, sanırım artık arındım\\n(Oh,oh,oh,oh)\\n\\n[Verse 2]\\nYapacak bir şey kalmamıştı  (Oh-oh, oh-oh)\\nKelebekler odamı kaplayan bir toz\\nHaline geldiğinde\\nBen de çatıyı yumrukladım  (Oh-oh, oh-oh)\\nSelin senin bütün rеsimlerini götürmesine izin vеrdim\\n\\n[Pre-Chorus 2]\\nSu ciğerlerimi doldurdu, çığlık çığlığa bağırdım\\nAma kimse duymadı\\n\\n[Chorus]\\nYağmur bardaktan boşalırcasına geldi\\nBen boğulurken, ve o an sonunda nefes aldım\\nVe sabaha kadar\\nBütün izlerin silindi, sanırım artık arındım\\n(Oh,oh,oh,oh)\\nSanırım artık arındım\\n(Oh, oh)\\nOh, oh, oh, oh, oh-oh\\nArtık arındım, dedim\\n(Oh, oh)\\nOh, oh, oh, oh, oh-oh\\n\\n[Bridge]\\n10 aydır temizim, itiraf etmeliyim\\nTemiz olmak özlemediğin anlamına gelmiyor\\n10 ay daha büyüdüm, vazgeçmeyeceğim\\nŞimdi temizim, asla riske atmayacağım\\n\\n[Breakdown]\\nKuraklık en kötüsüydü(Oh-oh-oh)\\nBeraber büyüttüğümüz çiçekler susuzluktan ölünce\\n(Oh)\\n\\n[Chorus]\\nYağmur bardaktan boşalırcasına geldi\\nBen boğulurken, ve o an sonunda nefes aldım\\nVe sabaha kadar\\nBütün izlerin silindi, sanırım artık arındım\\nYağmur bardaktan boşalırcasına geldi\\nBen boğulurken, ve o an sonunda nefes aldım\\nVe sabaha kadar\\nBütün izlerin silindi, sanırım artık arındım\\n\\n[Outro]\\nOh, oh\\nSonunda arınmış\\nSanırım sonunda arındım\\nOh, oh\\nOh-oh, oh-oh\\n(Oh, oh, oh)\\nSanrım sonunda arındım'],\n",
       "      dtype=object)"
      ]
     },
     "execution_count": 10,
     "metadata": {},
     "output_type": "execute_result"
    }
   ],
   "source": [
    "df['lyrics'].unique()"
   ]
  },
  {
   "cell_type": "code",
   "execution_count": 11,
   "metadata": {},
   "outputs": [],
   "source": [
    "# Regex pattern that removes any characters that are not in the range of all basic English letters, numbers and commun punctuation\n",
    "pattern = r'[^\\x00-\\x7F]+'\n",
    "\n",
    "mask = df['title'].str.contains(pattern) | df['lyrics'].str.contains(pattern)\n",
    "\n",
    "df = df[~mask]"
   ]
  },
  {
   "cell_type": "code",
   "execution_count": 12,
   "metadata": {},
   "outputs": [
    {
     "data": {
      "text/plain": [
       "array(['7 rings', 'Dangerous Woman', 'Into You', ..., 'Playlist by ME!',\n",
       "       'Barnyard Song', 'Rare Peer (Brenda Lee Tribute)'], dtype=object)"
      ]
     },
     "execution_count": 12,
     "metadata": {},
     "output_type": "execute_result"
    }
   ],
   "source": [
    "df['title'].unique()"
   ]
  },
  {
   "cell_type": "code",
   "execution_count": 13,
   "metadata": {},
   "outputs": [
    {
     "data": {
      "text/plain": [
       "array(['[Verse 1]\\nYeah, breakfast at Tiffany\\'s and bottles of bubbles\\nGirls with tattoos who like getting in trouble\\nLashes and diamonds, ATM machines\\nBuy myself all of my favorite things (Yeah)\\nBeen through some bad shit, I should be a sad bitch\\nWho woulda thought it\\'d turn me to a savage?\\nRather be tied up with calls and not strings\\nWrite my own checks like I write what I sing, yeah (Yeah)\\n\\n[Pre-Chorus]\\nMy wrist, stop watchin\\', my neck is flossy\\nMake big deposits, my gloss is poppin\\'\\nYou like my hair? Gee, thanks, just bought it\\nI see it, I like it, I want it, I got it (Yeah)\\n\\n[Chorus]\\nI want it, I got it, I want it, I got it\\nI want it, I got it, I want it, I got it\\nYou like my hair? Gee, thanks, just bought it\\nI see it, I like it, I want it, I got it (Yep)\\n\\n[Verse 2]\\nWearing a ring, but ain\\'t gon\\' be no \"Mrs.\"\\nBought matching diamonds for six of my bitches\\nI\\'d rather spoil all my friends with my riches\\nThink retail therapy my new addiction\\nWhoever said money can\\'t solve your problems\\nMust not have had enough money to solve \\'em\\nThey say, \"Which one?\" I say, \"Nah, I want all of \\'em\"\\nHappiness is the same price as red-bottoms\\n\\n[Pre-Chorus]\\nMy smile is beamin\\' (Yeah), my skin is gleamin\\' (Is gleamin\\')\\nThe way it shine, I know you\\'ve seen it (You\\'ve seen it)\\nI bought a crib just for (Just for) the closet (Closet)\\nBoth his and hers, I want it, I got it, yeah\\n\\n[Chorus]\\nI want it, I got it, I want it, I got it\\nI want it, I got it, I want it, I got it (Baby)\\nYou like my hair? Gee, thanks, just bought it (Oh yeah)\\nI see it, I like it, I want it, I got it (Yep)\\n\\n[Verse 3]\\nYeah, my receipts be lookin\\' like phone numbers\\nIf it ain\\'t money, then wrong number\\nBlack card is my business card\\nThe way it be settin\\' the tone for me\\nI don\\'t mean to brag, but I be like, \"Put it in the bag,\" yeah\\nWhen you see them racks, they stacked up like my ass, yeah\\nShoot, go from the store to the booth\\nMake it all back in one loop, gimme the loot\\nNever mind, I got the juice\\nNothing but net when we shoot\\nLook at my neck, look at my jet\\nAin\\'t got enough money to pay me respect\\nAin\\'t no budget when I\\'m on the set\\nIf I like it, then that\\'s what I get, yeah\\n\\n[Chorus]\\nI want it, I got it, I want it, I got it (Oh yeah)\\nI want it, I got it, I want it, I got it (Oh yeah, yeah)\\nYou like my hair? Gee, thanks, just bought it\\nI see it, I like it, I want it, I got it (I see, yep)',\n",
       "       \"[Intro]\\n(Oh, yeah)\\n\\n[Verse 1]\\nDon't need permission\\nMade my decision to test my limits\\n'Cause it's my business, God as my witness\\nStart what I finished\\nDon't need no hold up\\nTaking control of this kind of moment\\nI'm locked and loaded\\nCompletely focused, my mind is open\\n\\n[Pre-Chorus]\\nAll that you got\\nSkin to skin, oh my God\\nDon't you stop, boy\\n\\n[Chorus]\\nSomethin' 'bout you makes me feel like a dangerous woman\\nSomethin' 'bout, somethin' 'bout, somethin' 'bout you\\nMakes me wanna do things that I shouldn't\\nSomethin' 'bout, somethin' 'bout, somethin' 'bout\\n\\n[Verse 2]\\nNothing to prove and I'm bulletproof and\\nKnow what I'm doing\\nThe way we're movin'\\nLike introducing us to a new thing\\nI wanna savor, save it for later\\nThe taste, the flavor, 'cause I'm a taker, 'cause I'm a giver\\nIt's only nature, I live for danger\\n\\n[Pre-Chorus]\\nAll that you got\\nSkin to skin, oh my God\\nDon't ya stop, boy (Oh, yeah)\\n\\n[Chorus]\\nSomethin' 'bout you makes me feel like a dangerous woman\\nSomethin' 'bout, somethin' 'bout, somethin' 'bout you\\nMakes me wanna do things that I shouldn't\\nSomethin' 'bout, somethin' 'bout, somethin' 'bout you\\n\\n[Post-Chorus]\\nAll girls wanna be like that\\nBad girls underneath, like that\\nYou know how I'm feeling inside\\n(Somethin' 'bout, somethin' 'bout)\\nAll girls wanna be like that\\nBad girls underneath, like that\\nYou know how I'm feeling inside\\n(Somethin' 'bout, somethin' 'bout)\\n\\n[Bridge]\\n(Mmm-hmm) (Ooh-ooh)\\n\\n[Chorus]\\nSomethin' 'bout you makes me feel like a dangerous woman\\nSomethin' 'bout, somethin' 'bout, somethin' 'bout you (Eh-eh)\\nMakes me wanna do things that I shouldn't (Yeah)\\nSomethin' 'bout, somethin' 'bout, somethin' 'bout you (Yeah)\\n\\n[Post-Chorus]\\nAll girls wanna be like that (Hmm-mmm)\\nBad girls underneath like that\\nYou know how I'm feeling inside\\n(You know how I'm feeling inside, baby)\\n(Somethin' 'bout, somethin' 'bout)\\nAll girls wanna be like that\\nBad girls underneath like that\\nYou know how I'm feeling inside\\n(Somethin' 'bout, somethin' 'bout)\\n\\n[Outro]\\nYeah, there's somethin' 'bout you boy (Heh)\\nYeah, there's somethin' 'bout you boy (Oh-oh-oh, hey)\\nYeah, there's somethin' 'bout you boy\\nYeah, there's somethin' 'bout you boy\\n(Somethin' 'bout, somethin' 'bout, somethin' 'bout you)\\nYeah, there's somethin' 'bout you boy\\nYeah, there's somethin' 'bout you boy\\n(Yeah, there's somethin' 'bout you boy)\\nYeah, there's somethin' 'bout you boy\\n(Yeah, there's somethin' 'bout you boy, oh, yeah)\\n(Somethin' 'bout, somethin' 'bout, somethin' 'bout) You\",\n",
       "       \"[Verse 1]\\nI'm so into you, I can barely breathe\\nAnd all I wanna do is to fall in deep\\nBut close ain't close enough 'til we cross the line, hey yeah\\nSo name a game to play and I'll roll the dice, hey\\n\\n[Pre-Chorus]\\nOh baby, look what you started\\nThe temperature's rising in here\\nIs this gonna happen?\\nBeen waiting and waiting for you to make a move\\nBefore I make a move\\n\\n[Chorus]\\nSo, baby, come light me up, and, baby, I'll let you on it\\nA little bit dangerous, but, baby, that's how I want it\\nA little less conversation and a little more touch my body\\n'Cause I'm so into you, into you, into you\\nGot everyone watchin' us, so, baby, let's keep this secret\\nA little bit scandalous, but, baby, don't let them see it\\nA little less conversation and a little more touch my body\\n'Cause I'm so into you, into you, into you (Ooh, yeah)\\n\\n[Verse 2]\\nThis could take some time, hey\\nMade too many mistakes\\nBetter get this right, right, baby\\n\\n[Pre-Chorus]\\nOh, baby, look what you started\\nThe temperature's rising in here\\nIs this gonna happen?\\nBeen waiting and waiting for you to make a move\\nBefore I make a move\\n\\n[Chorus]\\nSo, baby, come light me up, and, baby, I'll let you on it\\nA little bit dangerous, but, baby, that's how I want it\\nA little less conversation and a little more touch my body\\n'Cause I'm so into you, into you, into you\\nGot everyone watchin' us, so, baby, let's keep this secret\\nA little bit scandalous, but, baby, don't let them see it\\nA little less conversation and a, little more touch my body\\n'Cause I'm so into you, into you, into you, oh yeah\\n('Cause I'm so into you)\\n\\n[Bridge]\\nTell me what you came here for\\n'Cause I can't, I can't wait no more\\nI'm on the edge with no control\\nAnd I need, I need you to know\\nYou to know, oh, woah, yeah\\n\\n[Chorus]\\nSo, baby, come light me up (Light me up), and, baby, I'll let you on it\\nA little bit dangerous (Dangerous), but, baby, that's how I want it (How I want it)\\nA little less conversation and a little more touch my body\\n'Cause I'm so into you, into you, into you\\nGot everyone watchin' us (Watchin' us), so, baby, let's keep this secret\\nA little bit scandalous (Scandalous), but, baby, don't let them see it (Yeah)\\nA little less conversation  and a little more touch my body\\n'Cause I'm so into you, into you, into you\\n\\n[Outro]\\nSo come light me up\\nSo come light me up, my baby\\nLittle dangerous\\nA little dangerous, my boy (How I want it)\\nA little less conversation and a little more touch my body\\n'Cause I'm so into you, into you, into you\\n(I'm so into you)\",\n",
       "       ...,\n",
       "       \"June 2019 Update\\nTaylor Swift - You Need to Calm Down\\nTwin Shadow - Saturdays (feat. HAIM)\\nCiara - Thinkin' 'Bout You\\nAJR - 100 Bad Days\\nTaylor Swift - ME! (feat. Brendon Urie)\\nMumford & Sons - Woman\\nShy FX - Rudeboy Lovesong (feat. Sweetie Irie & Cara Delevingne)\\nKhalid - Free Spirit\\nLizzo - Juice\\nTove Lo - Glad He's Gone\\nAdam Lambert - New Eyes\\nKaty Perry - Never Really Over\\nBilly Porter - Love Yourself\\nThe National - Light Years\\nLANY - Pancakes\\nJohan - Everybody's Cool But Me\\nDoja Cat - Juicy\\nKing Princess - Cheap Queen\\nDermot Kennedy - Lost\\nBon Iver - Hey, Ma\\nCarlie Hanson - Back in My Arms\\nMaren Morris - The Bones\\nVirginia To Vegas - Just Friends\\nFitz and the Tantrums - Don't Ever Let 'Em\\nLana Del Rey - Venice Bitch\\nNina Nesbitt - Last December\\nKiiara - Open My Mouth\\nJessie Reyez - Great One\\nJames Blake - Can't Believe The Way We Flow\\nK. Flay - This Baby Don't Cry\\nLykke Li - Utopia\\nJulia Michaels - What a Time (feat. Niall Horan)\\nSufjan Stevens - Love Yourself\\nBlake Rose - Lost\\nOliver Tank - I Love You\\nTayla Parx - I Want You\\nThe Japanese House - Follow My Girl\\nAngelo de Augustine - Tomb\\nBastille - Those Nights\\nAlex Lahey - I Want to Live with You\\nIllenium & Jon Bellion - Good Things Fall Apart\\nDennis Lloyd - Never Go Back\\nPanic! At The Disco - Hey Look Ma, I Made It\\nTodrick Hall - Chapstick (feat. Trixie Mattel)\\nRyan Hurd - To a T\\nAmy Shark - Mess Her Up\\nThe Head and the Heart - Honeybee\\nEryn Allen Kane - Fragile\\nGallant - Doesn't Matter\\nBriston Maroney - Fool's Gold\\nCarly Rae Jepsen - Want You in My Room\\nThe National - Oblivions\",\n",
       "       '[Verse 1]\\nYou turn your dial to 93.7\\nBroadway acts like he\\'s 11\\nSelf-proclaimed\\nSay\\'s he\\'s the worst mistake ever to land in Michigan\\nI\\'m just a singer of country songs\\nJust trying to play guitar and not do no wrong\\nBut if you listen to just one thing I say\\n\\n[Chorus]\\nYou should turn Z93 on\\nBroadway\\'s Electric Barnyard\\nI sing a song called \"Tim McGraw\"\\nRequest it and they\\'ll play it all day long\\nI sing in stations all day long\\nBut there\\'s nothing like when you\\'re on\\nThe Electric Barnyard\\n\\n[Verse 2]\\nDaisy\\'s from a trailer park in St. Louis\\nGrowing up not wearing any shoes\\nPrettiest hillbilly girl you\\'ll see all day\\nGrowing up the other trailer park girls\\nCouldn\\'t hide their jealousy\\nBecause she had the only phone for miles\\nNow she uses it as a DJ\\n\\n[Chorus]\\nSo you should turn Z93 on\\nBroadway\\'s Electric Barnyard\\nI sing a song called \"Tim McGraw\"\\nRequest it and they\\'ll play it all day long\\nI sing in stations all day long\\nBut there\\'s nothing like when you\\'re on',\n",
       "       'I\\'m curled up in my mother\\'s bed, staring intently at my laptop. I\\'m watching a video of a familiar-looking man wearing a black tuxedo. The video seems to be of a televised award show. The tape is grainy, but the man steps up to the mic and his words are clear:\\n\\n\"Now I\\'m gonna deal you a queen from the winning hand. Her voice is full like solid gold, with some platinum blended in. Sometimes you\\'ll hear silver when she twists and twirls her notes... but gold is Brenda\\'s metal in this song I wish I\\'d wrote. Ladies and gentlemen... Brenda Lee.\"\\n\\nThe camera then focuses on a woman in her late thirties. The music starts, and she\\'s looking down at a framed picture. She\\'s at ease. She is theatrical. And she is beautiful, in a sparkling gown that matches the twinkle in her eye. Lights, camera, action. She starts to sing. That\\'s when you hear the gold, and you watch her as she holds the crowd in the palm of her hand. The performance ends, and the crowd goes wild. The lovely lady graciously takes a bow. She smiles out into the vast darkness, taking it all in with grace and composure. The video ends, and I reflect back on what I just saw. It was a timeless performance, but here are the facts: The year is 1983. The song is \"Someone Loves You Honey.\" The man in the tuxedo is Johnny Cash. And the woman in the beautiful dress with the honey-like voice is none other than Brenda Lee.\\n\\nBrenda Lee, who was born in 1944 near Atlanta and used her prodigious singing talent to support her family after the tragic death of her father. Brenda Lee, the little girl who took over the music world with chart-topping hits when she was still a child. Brenda Lee, the woman who ushered in a new style of rock & roll and was one of the early musical artists to find her fame through television. Brenda Lee, the artist who later went back to her country roots, proving that she could create classics and break down barriers no matter what genre or category her music fell under. Brenda Lee, the singer who mastered the sound of heartbreak so flawlessly that she made audiences not only identify with her but believe her.\\n\\nI watch the look on her face as she ends her song and first hears that applause. There\\'s a reason she\\'s been able to move people to their feet for almost sixty years. Brenda Lee is grace. Brenda Lee is class and composure. And when she hears the roar of a crowd, Brenda Lee smiles like she\\'s five years old and receiving her first standing ovation. Brenda Lee is someone I will always look up to because of the way she shines. As Johnny Cash said in 1983, it\\'s almost like she\\'s golden.'],\n",
       "      dtype=object)"
      ]
     },
     "execution_count": 13,
     "metadata": {},
     "output_type": "execute_result"
    }
   ],
   "source": [
    "df['lyrics'].unique()"
   ]
  },
  {
   "cell_type": "markdown",
   "metadata": {},
   "source": [
    "### Preprocessing "
   ]
  },
  {
   "cell_type": "code",
   "execution_count": 14,
   "metadata": {},
   "outputs": [],
   "source": [
    "# Utility functions\n",
    "# Expanding Contractions\n",
    "CONTRACTION_MAP = {\n",
    "    \"can't\": \"cannot\",\n",
    "    \"won't\": \"will not\",\n",
    "    \"n't\": \" not\",\n",
    "    \"'re\": \" are\",\n",
    "    \"'s\": \" is\",\n",
    "    \"'m\": \" am\",\n",
    "    \"'ll\": \" will\",\n",
    "    \"'d\": \" would\",\n",
    "    \"'ve\": \" have\",\n",
    "    \"o'clock\": \"of the clock\",\n",
    "    \"ma'am\": \"madam\",\n",
    "    \"let's\": \"let us\"\n",
    "}\n",
    "\n",
    "def expand_contractions(lyrics, contraction_mapping=CONTRACTION_MAP):\n",
    "    contractions_pattern = re.compile('({})'.format('|'.join(contraction_mapping.keys())), flags=re.IGNORECASE|re.DOTALL)\n",
    "    def expand_match(contraction):\n",
    "        match = contraction.group(0)\n",
    "        first_char = match[0]\n",
    "        expanded_contraction = contraction_mapping.get(match.lower() if match.lower() in contraction_mapping else match)\n",
    "        return first_char + expanded_contraction[1:]\n",
    "    expanded_lyrics = contractions_pattern.sub(expand_match, lyrics)\n",
    "    return expanded_lyrics\n",
    "\n",
    "def preprocess_lyrics(lyrics):\n",
    "    lyrics = expand_contractions(lyrics)  \n",
    "    lyrics = re.sub(r'\\[(.*?)\\]', '', lyrics) \n",
    "    lyrics = re.sub(r'\\W+', ' ', lyrics)  # remove anything that is not a word\n",
    "    lyrics = lyrics.lower() \n",
    "    tokens = word_tokenize(lyrics)  \n",
    "    return ' '.join(tokens)  "
   ]
  },
  {
   "cell_type": "markdown",
   "metadata": {},
   "source": [
    "#### Encode Lyrics"
   ]
  },
  {
   "cell_type": "code",
   "execution_count": 15,
   "metadata": {},
   "outputs": [
    {
     "name": "stderr",
     "output_type": "stream",
     "text": [
      "INFO:root:Starting to preprocess lyrics\n",
      "INFO:root:Finished preprocessing lyrics\n"
     ]
    }
   ],
   "source": [
    "logging.basicConfig(level=logging.INFO)\n",
    "logging.info(\"Starting to preprocess lyrics\")\n",
    "df['preprocessed_lyrics'] = df['lyrics'].apply(preprocess_lyrics)\n",
    "logging.info(\"Finished preprocessing lyrics\")"
   ]
  },
  {
   "cell_type": "code",
   "execution_count": 16,
   "metadata": {},
   "outputs": [
    {
     "data": {
      "text/html": [
       "<div>\n",
       "<style scoped>\n",
       "    .dataframe tbody tr th:only-of-type {\n",
       "        vertical-align: middle;\n",
       "    }\n",
       "\n",
       "    .dataframe tbody tr th {\n",
       "        vertical-align: top;\n",
       "    }\n",
       "\n",
       "    .dataframe thead th {\n",
       "        text-align: right;\n",
       "    }\n",
       "</style>\n",
       "<table border=\"1\" class=\"dataframe\">\n",
       "  <thead>\n",
       "    <tr style=\"text-align: right;\">\n",
       "      <th></th>\n",
       "      <th>lyrics</th>\n",
       "      <th>preprocessed_lyrics</th>\n",
       "    </tr>\n",
       "  </thead>\n",
       "  <tbody>\n",
       "    <tr>\n",
       "      <th>1</th>\n",
       "      <td>[Verse 1]\\nYeah, breakfast at Tiffany's and bo...</td>\n",
       "      <td>yeah breakfast at tiffany is and bottles of bu...</td>\n",
       "    </tr>\n",
       "    <tr>\n",
       "      <th>19</th>\n",
       "      <td>[Intro]\\n(Oh, yeah)\\n\\n[Verse 1]\\nDon't need p...</td>\n",
       "      <td>oh yeah donnot need permission made my decisio...</td>\n",
       "    </tr>\n",
       "    <tr>\n",
       "      <th>21</th>\n",
       "      <td>[Verse 1]\\nI'm so into you, I can barely breat...</td>\n",
       "      <td>i am so into you i can barely breathe and all ...</td>\n",
       "    </tr>\n",
       "    <tr>\n",
       "      <th>25</th>\n",
       "      <td>[Verse 1]\\nI was a liar, I gave in to the fire...</td>\n",
       "      <td>i was a liar i gave in to the fire i know i sh...</td>\n",
       "    </tr>\n",
       "    <tr>\n",
       "      <th>31</th>\n",
       "      <td>[Intro: Iggy Azalea &amp; Ariana Grande]\\nUh-huh! ...</td>\n",
       "      <td>uh huh it is iggy iggs i got one more problem ...</td>\n",
       "    </tr>\n",
       "    <tr>\n",
       "      <th>33</th>\n",
       "      <td>[Verse 1]\\nHey\\nI know what I came to do\\nAnd ...</td>\n",
       "      <td>hey i know what i came to do and that ainnot g...</td>\n",
       "    </tr>\n",
       "    <tr>\n",
       "      <th>34</th>\n",
       "      <td>[Verse 1: Ariana Grande]\\nAnytime I'm alone, I...</td>\n",
       "      <td>anytime i am alone i can not help thinking abo...</td>\n",
       "    </tr>\n",
       "    <tr>\n",
       "      <th>40</th>\n",
       "      <td>[Verse 1]\\nMidnight shadows\\nWhen finding love...</td>\n",
       "      <td>midnight shadows when finding love is a battle...</td>\n",
       "    </tr>\n",
       "    <tr>\n",
       "      <th>48</th>\n",
       "      <td>[Verse 1]\\nI cried enough tears to see my own ...</td>\n",
       "      <td>i cried enough tears to see my own reflection ...</td>\n",
       "    </tr>\n",
       "    <tr>\n",
       "      <th>50</th>\n",
       "      <td>[Verse 1]\\nHow do I make the phone ring?\\nWhy ...</td>\n",
       "      <td>how do i make the phone ring why do i even car...</td>\n",
       "    </tr>\n",
       "  </tbody>\n",
       "</table>\n",
       "</div>"
      ],
      "text/plain": [
       "                                               lyrics  \\\n",
       "1   [Verse 1]\\nYeah, breakfast at Tiffany's and bo...   \n",
       "19  [Intro]\\n(Oh, yeah)\\n\\n[Verse 1]\\nDon't need p...   \n",
       "21  [Verse 1]\\nI'm so into you, I can barely breat...   \n",
       "25  [Verse 1]\\nI was a liar, I gave in to the fire...   \n",
       "31  [Intro: Iggy Azalea & Ariana Grande]\\nUh-huh! ...   \n",
       "33  [Verse 1]\\nHey\\nI know what I came to do\\nAnd ...   \n",
       "34  [Verse 1: Ariana Grande]\\nAnytime I'm alone, I...   \n",
       "40  [Verse 1]\\nMidnight shadows\\nWhen finding love...   \n",
       "48  [Verse 1]\\nI cried enough tears to see my own ...   \n",
       "50  [Verse 1]\\nHow do I make the phone ring?\\nWhy ...   \n",
       "\n",
       "                                  preprocessed_lyrics  \n",
       "1   yeah breakfast at tiffany is and bottles of bu...  \n",
       "19  oh yeah donnot need permission made my decisio...  \n",
       "21  i am so into you i can barely breathe and all ...  \n",
       "25  i was a liar i gave in to the fire i know i sh...  \n",
       "31  uh huh it is iggy iggs i got one more problem ...  \n",
       "33  hey i know what i came to do and that ainnot g...  \n",
       "34  anytime i am alone i can not help thinking abo...  \n",
       "40  midnight shadows when finding love is a battle...  \n",
       "48  i cried enough tears to see my own reflection ...  \n",
       "50  how do i make the phone ring why do i even car...  "
      ]
     },
     "execution_count": 16,
     "metadata": {},
     "output_type": "execute_result"
    }
   ],
   "source": [
    "df[['lyrics', 'preprocessed_lyrics']].head(10)"
   ]
  },
  {
   "cell_type": "markdown",
   "metadata": {},
   "source": [
    "The text-embedding-ada-002 model from OpenAI is a text embedding model designed to convert text into high-dimensional vectors. These vectors can be used in various applications such as semantic search, clustering, text similarity, and more. The model is part of the family of models developed by OpenAI, and it is optimized for both performance and efficiency.\n",
    "\n",
    "Like other models from OpenAI, it is trained on a diverse and large corpus of text data. This training helps the model understand a wide variety of topics and contexts."
   ]
  },
  {
   "cell_type": "code",
   "execution_count": 17,
   "metadata": {},
   "outputs": [],
   "source": [
    "def get_openai_embeddings(texts):\n",
    "    # Generate embeddings using OpenAI's API\n",
    "    response = openai.Embedding.create(\n",
    "        input=texts,\n",
    "        engine=\"text-embedding-ada-002\",  \n",
    "        user=api_key\n",
    "    )\n",
    "    # Extract embeddings from the response\n",
    "    embeddings = [embedding['embedding'] for embedding in response['data']]\n",
    "    return embeddings"
   ]
  },
  {
   "cell_type": "code",
   "execution_count": 18,
   "metadata": {},
   "outputs": [
    {
     "name": "stderr",
     "output_type": "stream",
     "text": [
      "INFO:root:Starting to get embeddings\n",
      "INFO:root:Finished getting embeddings\n"
     ]
    }
   ],
   "source": [
    "logging.info(\"Starting to get embeddings\")\n",
    "df['embeddings'] = list(get_openai_embeddings(df['preprocessed_lyrics'].tolist()))\n",
    "logging.info(\"Finished getting embeddings\")"
   ]
  },
  {
   "cell_type": "code",
   "execution_count": 19,
   "metadata": {},
   "outputs": [
    {
     "data": {
      "text/html": [
       "<div>\n",
       "<style scoped>\n",
       "    .dataframe tbody tr th:only-of-type {\n",
       "        vertical-align: middle;\n",
       "    }\n",
       "\n",
       "    .dataframe tbody tr th {\n",
       "        vertical-align: top;\n",
       "    }\n",
       "\n",
       "    .dataframe thead th {\n",
       "        text-align: right;\n",
       "    }\n",
       "</style>\n",
       "<table border=\"1\" class=\"dataframe\">\n",
       "  <thead>\n",
       "    <tr style=\"text-align: right;\">\n",
       "      <th></th>\n",
       "      <th>artist</th>\n",
       "      <th>preprocessed_lyrics</th>\n",
       "      <th>embeddings</th>\n",
       "    </tr>\n",
       "  </thead>\n",
       "  <tbody>\n",
       "    <tr>\n",
       "      <th>1</th>\n",
       "      <td>Ariana Grande</td>\n",
       "      <td>yeah breakfast at tiffany is and bottles of bu...</td>\n",
       "      <td>[-0.03643781691789627, -0.013206989504396915, ...</td>\n",
       "    </tr>\n",
       "    <tr>\n",
       "      <th>19</th>\n",
       "      <td>Ariana Grande</td>\n",
       "      <td>oh yeah donnot need permission made my decisio...</td>\n",
       "      <td>[-0.010308732278645039, -0.014625722542405128,...</td>\n",
       "    </tr>\n",
       "    <tr>\n",
       "      <th>21</th>\n",
       "      <td>Ariana Grande</td>\n",
       "      <td>i am so into you i can barely breathe and all ...</td>\n",
       "      <td>[-0.03010842576622963, -0.013051347807049751, ...</td>\n",
       "    </tr>\n",
       "    <tr>\n",
       "      <th>25</th>\n",
       "      <td>Ariana Grande</td>\n",
       "      <td>i was a liar i gave in to the fire i know i sh...</td>\n",
       "      <td>[-0.021388838067650795, -0.0195090901106596, -...</td>\n",
       "    </tr>\n",
       "    <tr>\n",
       "      <th>31</th>\n",
       "      <td>Ariana Grande</td>\n",
       "      <td>uh huh it is iggy iggs i got one more problem ...</td>\n",
       "      <td>[-0.016048762947320938, 0.000931991555262357, ...</td>\n",
       "    </tr>\n",
       "    <tr>\n",
       "      <th>33</th>\n",
       "      <td>Ariana Grande</td>\n",
       "      <td>hey i know what i came to do and that ainnot g...</td>\n",
       "      <td>[-0.027668043971061707, -0.025612173601984978,...</td>\n",
       "    </tr>\n",
       "    <tr>\n",
       "      <th>34</th>\n",
       "      <td>Ariana Grande</td>\n",
       "      <td>anytime i am alone i can not help thinking abo...</td>\n",
       "      <td>[-0.01779363863170147, -0.005605586338788271, ...</td>\n",
       "    </tr>\n",
       "    <tr>\n",
       "      <th>40</th>\n",
       "      <td>Ariana Grande</td>\n",
       "      <td>midnight shadows when finding love is a battle...</td>\n",
       "      <td>[0.01216826494783163, -0.019625365734100342, 0...</td>\n",
       "    </tr>\n",
       "    <tr>\n",
       "      <th>48</th>\n",
       "      <td>Ariana Grande</td>\n",
       "      <td>i cried enough tears to see my own reflection ...</td>\n",
       "      <td>[-0.001736154081299901, -0.021960001438856125,...</td>\n",
       "    </tr>\n",
       "    <tr>\n",
       "      <th>50</th>\n",
       "      <td>Ariana Grande</td>\n",
       "      <td>how do i make the phone ring why do i even car...</td>\n",
       "      <td>[-0.02340000495314598, -0.013523552566766739, ...</td>\n",
       "    </tr>\n",
       "  </tbody>\n",
       "</table>\n",
       "</div>"
      ],
      "text/plain": [
       "           artist                                preprocessed_lyrics  \\\n",
       "1   Ariana Grande  yeah breakfast at tiffany is and bottles of bu...   \n",
       "19  Ariana Grande  oh yeah donnot need permission made my decisio...   \n",
       "21  Ariana Grande  i am so into you i can barely breathe and all ...   \n",
       "25  Ariana Grande  i was a liar i gave in to the fire i know i sh...   \n",
       "31  Ariana Grande  uh huh it is iggy iggs i got one more problem ...   \n",
       "33  Ariana Grande  hey i know what i came to do and that ainnot g...   \n",
       "34  Ariana Grande  anytime i am alone i can not help thinking abo...   \n",
       "40  Ariana Grande  midnight shadows when finding love is a battle...   \n",
       "48  Ariana Grande  i cried enough tears to see my own reflection ...   \n",
       "50  Ariana Grande  how do i make the phone ring why do i even car...   \n",
       "\n",
       "                                           embeddings  \n",
       "1   [-0.03643781691789627, -0.013206989504396915, ...  \n",
       "19  [-0.010308732278645039, -0.014625722542405128,...  \n",
       "21  [-0.03010842576622963, -0.013051347807049751, ...  \n",
       "25  [-0.021388838067650795, -0.0195090901106596, -...  \n",
       "31  [-0.016048762947320938, 0.000931991555262357, ...  \n",
       "33  [-0.027668043971061707, -0.025612173601984978,...  \n",
       "34  [-0.01779363863170147, -0.005605586338788271, ...  \n",
       "40  [0.01216826494783163, -0.019625365734100342, 0...  \n",
       "48  [-0.001736154081299901, -0.021960001438856125,...  \n",
       "50  [-0.02340000495314598, -0.013523552566766739, ...  "
      ]
     },
     "execution_count": 19,
     "metadata": {},
     "output_type": "execute_result"
    }
   ],
   "source": [
    "df[['artist', 'preprocessed_lyrics', 'embeddings']].head(10)"
   ]
  },
  {
   "cell_type": "code",
   "execution_count": 20,
   "metadata": {},
   "outputs": [],
   "source": [
    "def search_lyrics_sentence_transformer(query, df, get_openai_embeddings):\n",
    "    query_embedding = get_openai_embeddings([query])[0]\n",
    "    df['embeddings'] = get_openai_embeddings(df['lyrics'].tolist())\n",
    "    \n",
    "    similarities = cosine_similarity([query_embedding], df['embeddings'].tolist()).flatten()\n",
    "    top_indices = similarities.argsort()[-5:][::-1]\n",
    "    return df.iloc[top_indices]"
   ]
  },
  {
   "cell_type": "code",
   "execution_count": 21,
   "metadata": {},
   "outputs": [],
   "source": [
    "def search_spotify_from_results(song_title, artist):\n",
    "    query = f\"track:{song_title} artist:{artist}\"\n",
    "    results = spotify.search(q=query, type='track', limit=1)\n",
    "    if results['tracks']['items']:\n",
    "        track = results['tracks']['items'][0]\n",
    "        return {\n",
    "            'name': track['name'],\n",
    "            'artist': track['artists'][0]['name'],\n",
    "            'album': track['album']['name'],\n",
    "            'album_image_url': track['album']['images'][0]['url'] if track['album']['images'] else None,\n",
    "            'preview_url': track['preview_url'],\n",
    "            'spotify_url': track['external_urls']['spotify']\n",
    "        }\n",
    "    else:\n",
    "        return \"No results found on Spotify.\""
   ]
  },
  {
   "cell_type": "markdown",
   "metadata": {},
   "source": [
    "### Search"
   ]
  },
  {
   "cell_type": "code",
   "execution_count": 22,
   "metadata": {},
   "outputs": [],
   "source": [
    "def display_spotify_details(spotify_info):\n",
    "    if isinstance(spotify_info, dict):\n",
    "        html_content = f\"\"\"\n",
    "        <div style=\"border: 1px solid #ccc; padding: 10px; border-radius: 5px; display: flex; align-items: center; gap: 20px; background-color: #f9f9f9;\">\n",
    "            <img src=\"{spotify_info.get('album_image_url', '')}\" style=\"width: 100px; height: auto; border-radius: 5px;\">\n",
    "            <div>\n",
    "                <h3>{spotify_info['name']} - {spotify_info['artist']}</h3>\n",
    "                <p><strong>Album:</strong> {spotify_info['album']}</p>\n",
    "                <p><a href=\"{spotify_info['spotify_url']}\" target=\"_blank\" style=\"color: #1DB954; text-decoration: none;\">Listen on Spotify</a></p>\n",
    "            </div>\n",
    "        </div>\n",
    "        \"\"\"\n",
    "        if spotify_info.get('preview_url'):\n",
    "            html_content += f\"<audio controls src='{spotify_info['preview_url']}' style='width: 100%;'></audio>\"\n",
    "        display(HTML(html_content))\n",
    "    else:\n",
    "        display(HTML(f\"<p>{spotify_info}</p>\"))"
   ]
  },
  {
   "cell_type": "code",
   "execution_count": 24,
   "metadata": {},
   "outputs": [
    {
     "data": {
      "text/html": [
       "\n",
       "<style>\n",
       "    .widget-button .btn { background-color: black; color: white; }\n",
       "</style>\n"
      ],
      "text/plain": [
       "<IPython.core.display.HTML object>"
      ]
     },
     "metadata": {},
     "output_type": "display_data"
    },
    {
     "data": {
      "application/vnd.jupyter.widget-view+json": {
       "model_id": "6aaa8773b8884bf4b048d2a4eadedb98",
       "version_major": 2,
       "version_minor": 0
      },
      "text/plain": [
       "Text(value='', description='Query:', placeholder='Type your lyrics here...')"
      ]
     },
     "metadata": {},
     "output_type": "display_data"
    },
    {
     "data": {
      "application/vnd.jupyter.widget-view+json": {
       "model_id": "b45fa5afba5c452a8b3b0205804dc6b1",
       "version_major": 2,
       "version_minor": 0
      },
      "text/plain": [
       "Button(description='Search Lyrics', icon='search', style=ButtonStyle())"
      ]
     },
     "metadata": {},
     "output_type": "display_data"
    },
    {
     "data": {
      "application/vnd.jupyter.widget-view+json": {
       "model_id": "c6a38f8b96794d6e93b2cee446d339de",
       "version_major": 2,
       "version_minor": 0
      },
      "text/plain": [
       "Output()"
      ]
     },
     "metadata": {},
     "output_type": "display_data"
    },
    {
     "data": {
      "application/vnd.jupyter.widget-view+json": {
       "model_id": "f5d652730b384e0d9d7c4a789eb38cd8",
       "version_major": 2,
       "version_minor": 0
      },
      "text/plain": [
       "Button(description='Search Spotify', icon='spotify', style=ButtonStyle(button_color='rgb(30, 215, 96)'))"
      ]
     },
     "metadata": {},
     "output_type": "display_data"
    },
    {
     "data": {
      "application/vnd.jupyter.widget-view+json": {
       "model_id": "b1577c70fd0246c39b64cf4e71b1c405",
       "version_major": 2,
       "version_minor": 0
      },
      "text/plain": [
       "Output()"
      ]
     },
     "metadata": {},
     "output_type": "display_data"
    }
   ],
   "source": [
    "import ipywidgets as widgets\n",
    "from IPython.display import display, HTML\n",
    "\n",
    "custom_css = HTML(\"\"\"\n",
    "<style>\n",
    "    .widget-button .btn { background-color: black; color: white; }\n",
    "</style>\n",
    "\"\"\")\n",
    "\n",
    "display(custom_css)\n",
    "\n",
    "# Create a text input for lyrics\n",
    "text_input = widgets.Text(\n",
    "    value='',\n",
    "    placeholder='Type your lyrics here...',\n",
    "    description='Query:',\n",
    "    disabled=False\n",
    ")\n",
    "\n",
    "search_button = widgets.Button(\n",
    "    description='Search Lyrics',\n",
    "    button_style='',  # This now uses custom CSS for styling\n",
    "    icon='search'\n",
    ")\n",
    "\n",
    "spotify_button = widgets.Button(\n",
    "    description='Search Spotify',\n",
    "    button_style='',  # Use custom styles instead of predefined\n",
    "    icon='spotify'  # Assuming there's a 'spotify' icon in FontAwesome; otherwise, use 'music'\n",
    ")\n",
    "spotify_button.style.button_color = 'rgb(30, 215, 96)'\n",
    "\n",
    "output = widgets.Output()\n",
    "spotify_output = widgets.Output()\n",
    "\n",
    "def on_search_button_clicked(b):\n",
    "    query = text_input.value\n",
    "    result = search_lyrics_sentence_transformer(query, df, get_openai_embeddings)\n",
    "    with output:\n",
    "        output.clear_output()\n",
    "        first_result = result.iloc[0]\n",
    "        display(HTML(f\"<b>Artist:</b> {first_result['artist']} <br> <b>Title:</b> {first_result['title']} <br> <b>Release Date:</b> {first_result['release_date']}\"))\n",
    "        # Store result for Spotify search\n",
    "        spotify_button.artist = first_result['artist']\n",
    "        spotify_button.title = first_result['title']\n",
    "\n",
    "def on_spotify_button_clicked(b):\n",
    "    artist = spotify_button.artist\n",
    "    title = spotify_button.title\n",
    "    spotify_info = search_spotify_from_results(title, artist)\n",
    "    with spotify_output:\n",
    "        spotify_output.clear_output()\n",
    "        display_spotify_details(spotify_info)  # Use the new visual display function\n",
    "        \n",
    "\n",
    "search_button.on_click(on_search_button_clicked)\n",
    "spotify_button.on_click(on_spotify_button_clicked)\n",
    "\n",
    "display(text_input, search_button, output, spotify_button, spotify_output)"
   ]
  }
 ],
 "metadata": {
  "kernelspec": {
   "display_name": "Python 3 (ipykernel)",
   "language": "python",
   "name": "python3"
  },
  "language_info": {
   "codemirror_mode": {
    "name": "ipython",
    "version": 3
   },
   "file_extension": ".py",
   "mimetype": "text/x-python",
   "name": "python",
   "nbconvert_exporter": "python",
   "pygments_lexer": "ipython3",
   "version": "3.9.7"
  }
 },
 "nbformat": 4,
 "nbformat_minor": 4
}
