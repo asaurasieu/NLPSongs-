{
 "cells": [
  {
   "cell_type": "code",
   "execution_count": 15,
   "id": "60c2d57f-89f1-4766-9478-4d396f0b1869",
   "metadata": {
    "scrolled": true
   },
   "outputs": [
    {
     "name": "stdout",
     "output_type": "stream",
     "text": [
      "Requirement already satisfied: pandas in /Users/anita/.pyenv/versions/3.9.7/lib/python3.9/site-packages (2.2.1)\n",
      "Requirement already satisfied: nltk in /Users/anita/.pyenv/versions/3.9.7/lib/python3.9/site-packages (3.8.1)\n",
      "Requirement already satisfied: numpy<2,>=1.22.4 in /Users/anita/.pyenv/versions/3.9.7/lib/python3.9/site-packages (from pandas) (1.26.4)\n",
      "Requirement already satisfied: python-dateutil>=2.8.2 in /Users/anita/.pyenv/versions/3.9.7/lib/python3.9/site-packages (from pandas) (2.9.0.post0)\n",
      "Requirement already satisfied: pytz>=2020.1 in /Users/anita/.pyenv/versions/3.9.7/lib/python3.9/site-packages (from pandas) (2024.1)\n",
      "Requirement already satisfied: tzdata>=2022.7 in /Users/anita/.pyenv/versions/3.9.7/lib/python3.9/site-packages (from pandas) (2024.1)\n",
      "Requirement already satisfied: click in /Users/anita/.pyenv/versions/3.9.7/lib/python3.9/site-packages (from nltk) (8.1.7)\n",
      "Requirement already satisfied: joblib in /Users/anita/.pyenv/versions/3.9.7/lib/python3.9/site-packages (from nltk) (1.3.2)\n",
      "Requirement already satisfied: regex>=2021.8.3 in /Users/anita/.pyenv/versions/3.9.7/lib/python3.9/site-packages (from nltk) (2023.12.25)\n",
      "Requirement already satisfied: tqdm in /Users/anita/.pyenv/versions/3.9.7/lib/python3.9/site-packages (from nltk) (4.66.2)\n",
      "Requirement already satisfied: six>=1.5 in /Users/anita/.pyenv/versions/3.9.7/lib/python3.9/site-packages (from python-dateutil>=2.8.2->pandas) (1.16.0)\n",
      "Requirement already satisfied: ipywidgets in /Users/anita/.pyenv/versions/3.9.7/lib/python3.9/site-packages (8.1.2)\n",
      "Requirement already satisfied: comm>=0.1.3 in /Users/anita/.pyenv/versions/3.9.7/lib/python3.9/site-packages (from ipywidgets) (0.2.2)\n",
      "Requirement already satisfied: ipython>=6.1.0 in /Users/anita/.pyenv/versions/3.9.7/lib/python3.9/site-packages (from ipywidgets) (8.18.1)\n",
      "Requirement already satisfied: traitlets>=4.3.1 in /Users/anita/.pyenv/versions/3.9.7/lib/python3.9/site-packages (from ipywidgets) (5.14.2)\n",
      "Requirement already satisfied: widgetsnbextension~=4.0.10 in /Users/anita/.pyenv/versions/3.9.7/lib/python3.9/site-packages (from ipywidgets) (4.0.10)\n",
      "Requirement already satisfied: jupyterlab-widgets~=3.0.10 in /Users/anita/.pyenv/versions/3.9.7/lib/python3.9/site-packages (from ipywidgets) (3.0.10)\n",
      "Requirement already satisfied: decorator in /Users/anita/.pyenv/versions/3.9.7/lib/python3.9/site-packages (from ipython>=6.1.0->ipywidgets) (5.1.1)\n",
      "Requirement already satisfied: jedi>=0.16 in /Users/anita/.pyenv/versions/3.9.7/lib/python3.9/site-packages (from ipython>=6.1.0->ipywidgets) (0.19.1)\n",
      "Requirement already satisfied: matplotlib-inline in /Users/anita/.pyenv/versions/3.9.7/lib/python3.9/site-packages (from ipython>=6.1.0->ipywidgets) (0.1.6)\n",
      "Requirement already satisfied: prompt-toolkit<3.1.0,>=3.0.41 in /Users/anita/.pyenv/versions/3.9.7/lib/python3.9/site-packages (from ipython>=6.1.0->ipywidgets) (3.0.43)\n",
      "Requirement already satisfied: pygments>=2.4.0 in /Users/anita/.pyenv/versions/3.9.7/lib/python3.9/site-packages (from ipython>=6.1.0->ipywidgets) (2.17.2)\n",
      "Requirement already satisfied: stack-data in /Users/anita/.pyenv/versions/3.9.7/lib/python3.9/site-packages (from ipython>=6.1.0->ipywidgets) (0.6.3)\n",
      "Requirement already satisfied: typing-extensions in /Users/anita/.pyenv/versions/3.9.7/lib/python3.9/site-packages (from ipython>=6.1.0->ipywidgets) (4.10.0)\n",
      "Requirement already satisfied: exceptiongroup in /Users/anita/.pyenv/versions/3.9.7/lib/python3.9/site-packages (from ipython>=6.1.0->ipywidgets) (1.2.0)\n",
      "Requirement already satisfied: pexpect>4.3 in /Users/anita/.pyenv/versions/3.9.7/lib/python3.9/site-packages (from ipython>=6.1.0->ipywidgets) (4.9.0)\n",
      "Requirement already satisfied: parso<0.9.0,>=0.8.3 in /Users/anita/.pyenv/versions/3.9.7/lib/python3.9/site-packages (from jedi>=0.16->ipython>=6.1.0->ipywidgets) (0.8.3)\n",
      "Requirement already satisfied: ptyprocess>=0.5 in /Users/anita/.pyenv/versions/3.9.7/lib/python3.9/site-packages (from pexpect>4.3->ipython>=6.1.0->ipywidgets) (0.7.0)\n",
      "Requirement already satisfied: wcwidth in /Users/anita/.pyenv/versions/3.9.7/lib/python3.9/site-packages (from prompt-toolkit<3.1.0,>=3.0.41->ipython>=6.1.0->ipywidgets) (0.2.13)\n",
      "Requirement already satisfied: executing>=1.2.0 in /Users/anita/.pyenv/versions/3.9.7/lib/python3.9/site-packages (from stack-data->ipython>=6.1.0->ipywidgets) (2.0.1)\n",
      "Requirement already satisfied: asttokens>=2.1.0 in /Users/anita/.pyenv/versions/3.9.7/lib/python3.9/site-packages (from stack-data->ipython>=6.1.0->ipywidgets) (2.4.1)\n",
      "Requirement already satisfied: pure-eval in /Users/anita/.pyenv/versions/3.9.7/lib/python3.9/site-packages (from stack-data->ipython>=6.1.0->ipywidgets) (0.2.2)\n",
      "Requirement already satisfied: six>=1.12.0 in /Users/anita/.pyenv/versions/3.9.7/lib/python3.9/site-packages (from asttokens>=2.1.0->stack-data->ipython>=6.1.0->ipywidgets) (1.16.0)\n",
      "^C\n",
      "\u001b[31mERROR: Operation cancelled by user\u001b[0m\u001b[31m\n",
      "\u001b[0mRequirement already satisfied: spotipy in /Users/anita/.pyenv/versions/3.9.7/lib/python3.9/site-packages (2.23.0)\n",
      "Requirement already satisfied: redis>=3.5.3 in /Users/anita/.pyenv/versions/3.9.7/lib/python3.9/site-packages (from spotipy) (5.0.3)\n",
      "Requirement already satisfied: requests>=2.25.0 in /Users/anita/.pyenv/versions/3.9.7/lib/python3.9/site-packages (from spotipy) (2.31.0)\n",
      "Requirement already satisfied: six>=1.15.0 in /Users/anita/.pyenv/versions/3.9.7/lib/python3.9/site-packages (from spotipy) (1.16.0)\n",
      "Requirement already satisfied: urllib3>=1.26.0 in /Users/anita/.pyenv/versions/3.9.7/lib/python3.9/site-packages (from spotipy) (2.2.1)\n",
      "Requirement already satisfied: async-timeout>=4.0.3 in /Users/anita/.pyenv/versions/3.9.7/lib/python3.9/site-packages (from redis>=3.5.3->spotipy) (4.0.3)\n",
      "Requirement already satisfied: charset-normalizer<4,>=2 in /Users/anita/.pyenv/versions/3.9.7/lib/python3.9/site-packages (from requests>=2.25.0->spotipy) (3.3.2)\n",
      "Requirement already satisfied: idna<4,>=2.5 in /Users/anita/.pyenv/versions/3.9.7/lib/python3.9/site-packages (from requests>=2.25.0->spotipy) (3.6)\n",
      "Requirement already satisfied: certifi>=2017.4.17 in /Users/anita/.pyenv/versions/3.9.7/lib/python3.9/site-packages (from requests>=2.25.0->spotipy) (2024.2.2)\n",
      "Setup complete. Ready to load data.\n"
     ]
    },
    {
     "name": "stderr",
     "output_type": "stream",
     "text": [
      "[nltk_data] Downloading package punkt to /Users/anita/nltk_data...\n",
      "[nltk_data]   Package punkt is already up-to-date!\n",
      "[nltk_data] Downloading package stopwords to /Users/anita/nltk_data...\n",
      "[nltk_data]   Package stopwords is already up-to-date!\n",
      "[nltk_data] Downloading package wordnet to /Users/anita/nltk_data...\n",
      "[nltk_data]   Package wordnet is already up-to-date!\n",
      "[nltk_data] Downloading package omw-1.4 to /Users/anita/nltk_data...\n",
      "[nltk_data]   Package omw-1.4 is already up-to-date!\n"
     ]
    }
   ],
   "source": [
    "# Install necessary libraries\n",
    "!pip install pandas nltk\n",
    "!pip install ipywidgets\n",
    "!pip install spotipy\n",
    "\n",
    "# Importing libraries\n",
    "import nltk\n",
    "from nltk.corpus import stopwords\n",
    "from nltk.tokenize import word_tokenize\n",
    "from nltk.stem import PorterStemmer\n",
    "from nltk.stem import WordNetLemmatizer\n",
    "from sklearn.feature_extraction.text import TfidfVectorizer\n",
    "\n",
    "import pandas as pd\n",
    "import numpy as np\n",
    "import string\n",
    "from IPython.display import display, Markdown\n",
    "import ipywidgets as widgets\n",
    "\n",
    "nltk.download('punkt')\n",
    "nltk.download('stopwords')\n",
    "nltk.download('wordnet')\n",
    "nltk.download('omw-1.4')\n",
    "\n",
    "print(\"Setup complete. Ready to load data.\")"
   ]
  },
  {
   "cell_type": "markdown",
   "id": "79e9b171",
   "metadata": {},
   "source": [
    "##### Clean Data"
   ]
  },
  {
   "cell_type": "code",
   "execution_count": null,
   "id": "d45ca480-fad4-4366-bbb9-b6edf85ef8b6",
   "metadata": {},
   "outputs": [],
   "source": [
    "# Import the Spotipy library\n",
    "import spotipy\n",
    "from spotipy.oauth2 import SpotifyClientCredentials\n",
    "\n",
    "# Initialize Spotipy with Spotify Developer Credentials\n",
    "client_id = '1075d2afec3d414ca02ec7002f1d5576'  # Replace with your actual Spotify Client ID\n",
    "client_secret = 'bb1fd201730b484983d952ecbd344b33'  # Replace with your actual Spotify Client Secret\n",
    "\n",
    "credentials = SpotifyClientCredentials(client_id=client_id, client_secret=client_secret)\n",
    "spotify = spotipy.Spotify(client_credentials_manager=credentials)"
   ]
  },
  {
   "cell_type": "code",
   "execution_count": null,
   "id": "84cea903-a0c2-468e-882d-de753ce5a7c7",
   "metadata": {},
   "outputs": [
    {
     "name": "stdout",
     "output_type": "stream",
     "text": [
      "Data loaded successfully!\n",
      "Sample data:\n"
     ]
    },
    {
     "data": {
      "text/html": [
       "<div>\n",
       "<style scoped>\n",
       "    .dataframe tbody tr th:only-of-type {\n",
       "        vertical-align: middle;\n",
       "    }\n",
       "\n",
       "    .dataframe tbody tr th {\n",
       "        vertical-align: top;\n",
       "    }\n",
       "\n",
       "    .dataframe thead th {\n",
       "        text-align: right;\n",
       "    }\n",
       "</style>\n",
       "<table border=\"1\" class=\"dataframe\">\n",
       "  <thead>\n",
       "    <tr style=\"text-align: right;\">\n",
       "      <th></th>\n",
       "      <th>Rank</th>\n",
       "      <th>Song</th>\n",
       "      <th>Artist</th>\n",
       "      <th>Year</th>\n",
       "      <th>Lyrics</th>\n",
       "      <th>Source</th>\n",
       "    </tr>\n",
       "  </thead>\n",
       "  <tbody>\n",
       "    <tr>\n",
       "      <th>0</th>\n",
       "      <td>1</td>\n",
       "      <td>wooly bully</td>\n",
       "      <td>sam the sham and the pharaohs</td>\n",
       "      <td>1965</td>\n",
       "      <td>sam the sham miscellaneous wooly bully wooly b...</td>\n",
       "      <td>3.0</td>\n",
       "    </tr>\n",
       "    <tr>\n",
       "      <th>1</th>\n",
       "      <td>2</td>\n",
       "      <td>i cant help myself sugar pie honey bunch</td>\n",
       "      <td>four tops</td>\n",
       "      <td>1965</td>\n",
       "      <td>sugar pie honey bunch you know that i love yo...</td>\n",
       "      <td>1.0</td>\n",
       "    </tr>\n",
       "    <tr>\n",
       "      <th>2</th>\n",
       "      <td>3</td>\n",
       "      <td>i cant get no satisfaction</td>\n",
       "      <td>the rolling stones</td>\n",
       "      <td>1965</td>\n",
       "      <td></td>\n",
       "      <td>1.0</td>\n",
       "    </tr>\n",
       "    <tr>\n",
       "      <th>3</th>\n",
       "      <td>4</td>\n",
       "      <td>you were on my mind</td>\n",
       "      <td>we five</td>\n",
       "      <td>1965</td>\n",
       "      <td>when i woke up this morning you were on my mi...</td>\n",
       "      <td>1.0</td>\n",
       "    </tr>\n",
       "    <tr>\n",
       "      <th>4</th>\n",
       "      <td>5</td>\n",
       "      <td>youve lost that lovin feelin</td>\n",
       "      <td>the righteous brothers</td>\n",
       "      <td>1965</td>\n",
       "      <td>you never close your eyes anymore when i kiss...</td>\n",
       "      <td>1.0</td>\n",
       "    </tr>\n",
       "    <tr>\n",
       "      <th>...</th>\n",
       "      <td>...</td>\n",
       "      <td>...</td>\n",
       "      <td>...</td>\n",
       "      <td>...</td>\n",
       "      <td>...</td>\n",
       "      <td>...</td>\n",
       "    </tr>\n",
       "    <tr>\n",
       "      <th>5095</th>\n",
       "      <td>96</td>\n",
       "      <td>el perdon</td>\n",
       "      <td>nicky jam and enrique iglesias</td>\n",
       "      <td>2015</td>\n",
       "      <td>enrique iglesias dime si es verdad me dijeron ...</td>\n",
       "      <td>3.0</td>\n",
       "    </tr>\n",
       "    <tr>\n",
       "      <th>5096</th>\n",
       "      <td>97</td>\n",
       "      <td>she knows</td>\n",
       "      <td>neyo featuring juicy j</td>\n",
       "      <td>2015</td>\n",
       "      <td>NaN</td>\n",
       "      <td>NaN</td>\n",
       "    </tr>\n",
       "    <tr>\n",
       "      <th>5097</th>\n",
       "      <td>98</td>\n",
       "      <td>night changes</td>\n",
       "      <td>one direction</td>\n",
       "      <td>2015</td>\n",
       "      <td>going out tonight changes into something red ...</td>\n",
       "      <td>1.0</td>\n",
       "    </tr>\n",
       "    <tr>\n",
       "      <th>5098</th>\n",
       "      <td>99</td>\n",
       "      <td>back to back</td>\n",
       "      <td>drake</td>\n",
       "      <td>2015</td>\n",
       "      <td>oh man oh man oh man not againyeah i learned ...</td>\n",
       "      <td>1.0</td>\n",
       "    </tr>\n",
       "    <tr>\n",
       "      <th>5099</th>\n",
       "      <td>100</td>\n",
       "      <td>how deep is your love</td>\n",
       "      <td>calvin harris and disciples</td>\n",
       "      <td>2015</td>\n",
       "      <td>i want you to breathe me in let me be your ai...</td>\n",
       "      <td>1.0</td>\n",
       "    </tr>\n",
       "  </tbody>\n",
       "</table>\n",
       "<p>5100 rows × 6 columns</p>\n",
       "</div>"
      ],
      "text/plain": [
       "      Rank                                      Song  \\\n",
       "0        1                               wooly bully   \n",
       "1        2  i cant help myself sugar pie honey bunch   \n",
       "2        3                i cant get no satisfaction   \n",
       "3        4                       you were on my mind   \n",
       "4        5              youve lost that lovin feelin   \n",
       "...    ...                                       ...   \n",
       "5095    96                                 el perdon   \n",
       "5096    97                                 she knows   \n",
       "5097    98                             night changes   \n",
       "5098    99                              back to back   \n",
       "5099   100                     how deep is your love   \n",
       "\n",
       "                              Artist  Year  \\\n",
       "0      sam the sham and the pharaohs  1965   \n",
       "1                          four tops  1965   \n",
       "2                 the rolling stones  1965   \n",
       "3                            we five  1965   \n",
       "4             the righteous brothers  1965   \n",
       "...                              ...   ...   \n",
       "5095  nicky jam and enrique iglesias  2015   \n",
       "5096          neyo featuring juicy j  2015   \n",
       "5097                   one direction  2015   \n",
       "5098                           drake  2015   \n",
       "5099     calvin harris and disciples  2015   \n",
       "\n",
       "                                                 Lyrics  Source  \n",
       "0     sam the sham miscellaneous wooly bully wooly b...     3.0  \n",
       "1      sugar pie honey bunch you know that i love yo...     1.0  \n",
       "2                                                           1.0  \n",
       "3      when i woke up this morning you were on my mi...     1.0  \n",
       "4      you never close your eyes anymore when i kiss...     1.0  \n",
       "...                                                 ...     ...  \n",
       "5095  enrique iglesias dime si es verdad me dijeron ...     3.0  \n",
       "5096                                                NaN     NaN  \n",
       "5097   going out tonight changes into something red ...     1.0  \n",
       "5098   oh man oh man oh man not againyeah i learned ...     1.0  \n",
       "5099   i want you to breathe me in let me be your ai...     1.0  \n",
       "\n",
       "[5100 rows x 6 columns]"
      ]
     },
     "execution_count": 3,
     "metadata": {},
     "output_type": "execute_result"
    }
   ],
   "source": [
    "# Load data from a CSV file\n",
    "data = pd.read_csv('/Users/anita/Documents/NLPSongs-/billboard_lyrics_1964-2015.csv', encoding='ISO-8859-1')\n",
    "print(\"Data loaded successfully!\")\n",
    "print(\"Sample data:\")\n",
    "data # Display the first few rows of the dataset to verify it's loaded correctly"
   ]
  },
  {
   "cell_type": "code",
   "execution_count": null,
   "id": "2575387a",
   "metadata": {},
   "outputs": [
    {
     "name": "stdout",
     "output_type": "stream",
     "text": [
      "Rank        0\n",
      "Song        0\n",
      "Artist      0\n",
      "Year        0\n",
      "Lyrics    187\n",
      "Source    187\n",
      "dtype: int64\n"
     ]
    }
   ],
   "source": [
    "null_values = data.isnull().sum()\n",
    "print(null_values)"
   ]
  },
  {
   "cell_type": "code",
   "execution_count": null,
   "id": "bfa3b79e",
   "metadata": {},
   "outputs": [],
   "source": [
    "#Remove null values\n",
    "data = data.dropna()"
   ]
  },
  {
   "cell_type": "code",
   "execution_count": null,
   "id": "bc68f385",
   "metadata": {},
   "outputs": [
    {
     "name": "stdout",
     "output_type": "stream",
     "text": [
      "0\n"
     ]
    }
   ],
   "source": [
    "duplicate_rows = data.duplicated().sum()\n",
    "print(duplicate_rows)"
   ]
  },
  {
   "cell_type": "markdown",
   "id": "093d06b5",
   "metadata": {},
   "source": [
    "#### Preprocess"
   ]
  },
  {
   "cell_type": "markdown",
   "id": "2aef5900",
   "metadata": {},
   "source": [
    "##### Tokenization and Lemmatization "
   ]
  },
  {
   "cell_type": "code",
   "execution_count": null,
   "id": "4312c1d1",
   "metadata": {},
   "outputs": [
    {
     "name": "stdout",
     "output_type": "stream",
     "text": [
      "Tokenization and lemmatization complete!\n",
      "Sample data:\n"
     ]
    },
    {
     "name": "stderr",
     "output_type": "stream",
     "text": [
      "/var/folders/hf/rxmfqb811qxdyqmz1rmf070c0000gn/T/ipykernel_57273/4038878403.py:7: SettingWithCopyWarning: \n",
      "A value is trying to be set on a copy of a slice from a DataFrame.\n",
      "Try using .loc[row_indexer,col_indexer] = value instead\n",
      "\n",
      "See the caveats in the documentation: https://pandas.pydata.org/pandas-docs/stable/user_guide/indexing.html#returning-a-view-versus-a-copy\n",
      "  data['Preprocessed_data'] = data['Lyrics'].apply(tokenize_and_lemmatize)\n"
     ]
    },
    {
     "data": {
      "text/plain": [
       "0       sam the sham miscellaneous wooly bully wooly b...\n",
       "1       sugar pie honey bunch you know that i love you...\n",
       "2                                                        \n",
       "3       when i woke up this morning you were on my min...\n",
       "4       you never close your eye anymore when i kiss y...\n",
       "                              ...                        \n",
       "5094    my face above the water my foot cant touch the...\n",
       "5095    enrique iglesias dime si e verdad me dijeron q...\n",
       "5097    going out tonight change into something red he...\n",
       "5098    oh man oh man oh man not againyeah i learned t...\n",
       "5099    i want you to breathe me in let me be your air...\n",
       "Name: Preprocessed_data, Length: 4913, dtype: object"
      ]
     },
     "execution_count": 7,
     "metadata": {},
     "output_type": "execute_result"
    }
   ],
   "source": [
    "def tokenize_and_lemmatize(text):\n",
    "    lemmatizer = WordNetLemmatizer()\n",
    "    tokens = word_tokenize(text)\n",
    "    lemmatized_tokens = [lemmatizer.lemmatize(token) for token in tokens]\n",
    "    return ' '.join(lemmatized_tokens)\n",
    "\n",
    "data['Preprocessed_data'] = data['Lyrics'].apply(tokenize_and_lemmatize)\n",
    "print(\"Tokenization and lemmatization complete!\")\n",
    "print(\"Sample data:\")\n",
    "data['Preprocessed_data']"
   ]
  },
  {
   "cell_type": "code",
   "execution_count": null,
   "id": "ae27bf6a",
   "metadata": {},
   "outputs": [],
   "source": [
    "data = data.dropna(subset=['Preprocessed_data'])\n",
    "\n",
    "# Remove rows with empty lyrics or that contain only one word\n",
    "data = data[data['Preprocessed_data'].str.split().str.len() > 1]"
   ]
  },
  {
   "cell_type": "markdown",
   "id": "7de77097",
   "metadata": {},
   "source": [
    "#### Spotify Connection"
   ]
  },
  {
   "cell_type": "code",
   "execution_count": 17,
   "id": "8a327b6b-10ad-48cf-9d79-477e65adab2c",
   "metadata": {},
   "outputs": [],
   "source": [
    "def search_spotify(song_title, artist):\n",
    "    query = f\"track:{song_title} artist:{artist}\"\n",
    "    results = spotify.search(q=query, type='track', limit=1)\n",
    "    if results['tracks']['items']:\n",
    "        track = results['tracks']['items'][0]\n",
    "        return {\n",
    "            'name': track['name'],\n",
    "            'artist': track['artists'][0]['name'],\n",
    "            'album': track['album']['name'],\n",
    "            'preview_url': track['preview_url'],\n",
    "            'spotify_url': track['external_urls']['spotify']\n",
    "        }\n",
    "    else:\n",
    "        return \"No results found on Spotify.\""
   ]
  },
  {
   "cell_type": "code",
   "execution_count": 19,
   "id": "a6c45975-069c-4156-83f7-5b82fa459fb7",
   "metadata": {},
   "outputs": [],
   "source": [
    "def retrieve_song_and_search_spotify(lyrics_input):\n",
    "    processed_input = tokenize_and_lemmatize(lyrics_input)\n",
    "    match = data[data['processed_lyrics'].str.contains(processed_input, na=False)]\n",
    "    if not match.empty:\n",
    "        song_title = match.iloc[0]['title']\n",
    "        artist = match.iloc[0]['artist']\n",
    "        spotify_info = search_spotify(song_title, artist)\n",
    "        display_spotify_result(spotify_info)  # Using the new display function\n",
    "    else:\n",
    "        display(Markdown(\"**No matching song found.**\"))"
   ]
  },
  {
   "cell_type": "code",
   "execution_count": 20,
   "id": "3bf90616-f58e-4d95-9227-14593b4f2190",
   "metadata": {},
   "outputs": [],
   "source": [
    "from IPython.display import display, HTML, Audio\n",
    "\n",
    "def display_spotify_result(spotify_info):\n",
    "    if isinstance(spotify_info, dict):\n",
    "        html_content = f\"<h3>{spotify_info['name']} by {spotify_info['artist']}</h3>\"\n",
    "        html_content += f\"<p><strong>Album:</strong> {spotify_info['album']}</p>\"\n",
    "        html_content += f\"<a href='{spotify_info['spotify_url']}' target='_blank'>Listen on Spotify</a>\"\n",
    "        if spotify_info['preview_url']:\n",
    "            display(HTML(html_content))\n",
    "            display(Audio(spotify_info['preview_url'], autoplay=False))\n",
    "        else:\n",
    "            display(HTML(html_content))\n",
    "    else:\n",
    "        print(spotify_info)"
   ]
  },
  {
   "cell_type": "markdown",
   "id": "0adc5b57",
   "metadata": {},
   "source": [
    "#### Search"
   ]
  },
  {
   "cell_type": "code",
   "execution_count": 21,
   "id": "74b6b2b4-fefc-4455-919e-4dc8e1ba4a8e",
   "metadata": {},
   "outputs": [
    {
     "data": {
      "application/vnd.jupyter.widget-view+json": {
       "model_id": "ab55f28e41314781957d1e86dd07cf39",
       "version_major": 2,
       "version_minor": 0
      },
      "text/plain": [
       "Text(value='', description='Lyrics:', placeholder='Type lyrics here...')"
      ]
     },
     "metadata": {},
     "output_type": "display_data"
    },
    {
     "data": {
      "application/vnd.jupyter.widget-view+json": {
       "model_id": "d9f49113d520448b8ef4fd4633b87f64",
       "version_major": 2,
       "version_minor": 0
      },
      "text/plain": [
       "Button(button_style='info', description='Search', icon='search', style=ButtonStyle())"
      ]
     },
     "metadata": {},
     "output_type": "display_data"
    },
    {
     "data": {
      "application/vnd.jupyter.widget-view+json": {
       "model_id": "62ec88aaa98e43c4a6d5a552674609fe",
       "version_major": 2,
       "version_minor": 0
      },
      "text/plain": [
       "Output()"
      ]
     },
     "metadata": {},
     "output_type": "display_data"
    }
   ],
   "source": [
    "import ipywidgets as widgets\n",
    "from IPython.display import display\n",
    "\n",
    "# Input for lyrics\n",
    "lyrics_input = widgets.Text(\n",
    "    value='',\n",
    "    placeholder='Type lyrics here...',\n",
    "    description='Lyrics:',\n",
    "    disabled=False\n",
    ")\n",
    "\n",
    "# Button to trigger the search\n",
    "search_button = widgets.Button(\n",
    "    description='Search',\n",
    "    button_style='info',  # 'success', 'info', 'warning', 'danger' or ''\n",
    "    icon='search'  # FontAwesome icon name (without 'fa-')\n",
    ")\n",
    "\n",
    "output = widgets.Output()\n",
    "\n",
    "def on_button_clicked(b):\n",
    "    with output:\n",
    "        output.clear_output()\n",
    "        retrieve_song_and_search_spotify(lyrics_input.value)\n",
    "\n",
    "search_button.on_click(on_button_clicked)\n",
    "\n",
    "display(lyrics_input, search_button, output)\n"
   ]
  },
  {
   "cell_type": "markdown",
   "id": "1e336cdb-6d1c-46c6-bb24-0659961410f7",
   "metadata": {},
   "source": [
    "we need more preprocessing, show metrics of the model, try and remove duplicates from the dataset in order to get more nuanced results, look to improve performance in every way possible, refine the data so that it is all fully in English"
   ]
  },
  {
   "cell_type": "code",
   "execution_count": null,
   "id": "adc16aa7-48a6-41b6-a57c-cc3bc44d943f",
   "metadata": {},
   "outputs": [],
   "source": []
  }
 ],
 "metadata": {
  "kernelspec": {
   "display_name": "Python 3 (ipykernel)",
   "language": "python",
   "name": "python3"
  },
  "language_info": {
   "codemirror_mode": {
    "name": "ipython",
    "version": 3
   },
   "file_extension": ".py",
   "mimetype": "text/x-python",
   "name": "python",
   "nbconvert_exporter": "python",
   "pygments_lexer": "ipython3",
   "version": "3.9.7"
  }
 },
 "nbformat": 4,
 "nbformat_minor": 5
}
