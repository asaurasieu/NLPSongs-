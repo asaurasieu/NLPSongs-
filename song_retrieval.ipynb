{
 "cells": [
  {
   "cell_type": "code",
   "execution_count": 46,
   "id": "60c2d57f-89f1-4766-9478-4d396f0b1869",
   "metadata": {
    "scrolled": true
   },
   "outputs": [
    {
     "name": "stdout",
     "output_type": "stream",
     "text": [
      "Requirement already satisfied: pandas in /Users/manuelamiranda/anaconda3/lib/python3.11/site-packages (2.1.4)\n",
      "Requirement already satisfied: nltk in /Users/manuelamiranda/anaconda3/lib/python3.11/site-packages (3.8.1)\n",
      "Requirement already satisfied: numpy<2,>=1.23.2 in /Users/manuelamiranda/anaconda3/lib/python3.11/site-packages (from pandas) (1.26.4)\n",
      "Requirement already satisfied: python-dateutil>=2.8.2 in /Users/manuelamiranda/anaconda3/lib/python3.11/site-packages (from pandas) (2.8.2)\n",
      "Requirement already satisfied: pytz>=2020.1 in /Users/manuelamiranda/anaconda3/lib/python3.11/site-packages (from pandas) (2023.3.post1)\n",
      "Requirement already satisfied: tzdata>=2022.1 in /Users/manuelamiranda/anaconda3/lib/python3.11/site-packages (from pandas) (2023.3)\n",
      "Requirement already satisfied: click in /Users/manuelamiranda/anaconda3/lib/python3.11/site-packages (from nltk) (8.1.7)\n",
      "Requirement already satisfied: joblib in /Users/manuelamiranda/anaconda3/lib/python3.11/site-packages (from nltk) (1.2.0)\n",
      "Requirement already satisfied: regex>=2021.8.3 in /Users/manuelamiranda/anaconda3/lib/python3.11/site-packages (from nltk) (2023.10.3)\n",
      "Requirement already satisfied: tqdm in /Users/manuelamiranda/anaconda3/lib/python3.11/site-packages (from nltk) (4.65.0)\n",
      "Requirement already satisfied: six>=1.5 in /Users/manuelamiranda/anaconda3/lib/python3.11/site-packages (from python-dateutil>=2.8.2->pandas) (1.16.0)\n",
      "Setup complete. Ready to load data.\n"
     ]
    },
    {
     "name": "stderr",
     "output_type": "stream",
     "text": [
      "[nltk_data] Downloading package punkt to\n",
      "[nltk_data]     /Users/manuelamiranda/nltk_data...\n",
      "[nltk_data]   Package punkt is already up-to-date!\n"
     ]
    }
   ],
   "source": [
    "# Install necessary libraries\n",
    "!pip install pandas nltk\n",
    "\n",
    "# Importing libraries\n",
    "import pandas as pd\n",
    "import numpy as np\n",
    "from nltk.stem import PorterStemmer\n",
    "from nltk.tokenize import word_tokenize\n",
    "import ipywidgets as widgets\n",
    "from IPython.display import display\n",
    "\n",
    "# Ensure NLTK components are downloaded\n",
    "import nltk\n",
    "nltk.download('punkt')\n",
    "\n",
    "print(\"Setup complete. Ready to load data.\")"
   ]
  },
  {
   "cell_type": "code",
   "execution_count": 47,
   "id": "d45ca480-fad4-4366-bbb9-b6edf85ef8b6",
   "metadata": {},
   "outputs": [],
   "source": [
    "# Import the Spotipy library\n",
    "import spotipy\n",
    "from spotipy.oauth2 import SpotifyClientCredentials\n",
    "\n",
    "# Initialize Spotipy with Spotify Developer Credentials\n",
    "client_id = '1075d2afec3d414ca02ec7002f1d5576'  # Replace with your actual Spotify Client ID\n",
    "client_secret = 'bb1fd201730b484983d952ecbd344b33'  # Replace with your actual Spotify Client Secret\n",
    "\n",
    "credentials = SpotifyClientCredentials(client_id=client_id, client_secret=client_secret)\n",
    "spotify = spotipy.Spotify(client_credentials_manager=credentials)"
   ]
  },
  {
   "cell_type": "code",
   "execution_count": 48,
   "id": "84cea903-a0c2-468e-882d-de753ce5a7c7",
   "metadata": {},
   "outputs": [
    {
     "name": "stdout",
     "output_type": "stream",
     "text": [
      "Data loaded successfully!\n",
      "Sample data:\n"
     ]
    },
    {
     "data": {
      "text/html": [
       "<div>\n",
       "<style scoped>\n",
       "    .dataframe tbody tr th:only-of-type {\n",
       "        vertical-align: middle;\n",
       "    }\n",
       "\n",
       "    .dataframe tbody tr th {\n",
       "        vertical-align: top;\n",
       "    }\n",
       "\n",
       "    .dataframe thead th {\n",
       "        text-align: right;\n",
       "    }\n",
       "</style>\n",
       "<table border=\"1\" class=\"dataframe\">\n",
       "  <thead>\n",
       "    <tr style=\"text-align: right;\">\n",
       "      <th></th>\n",
       "      <th>artist</th>\n",
       "      <th>title</th>\n",
       "      <th>id</th>\n",
       "      <th>release_date</th>\n",
       "      <th>lyrics</th>\n",
       "    </tr>\n",
       "  </thead>\n",
       "  <tbody>\n",
       "    <tr>\n",
       "      <th>0</th>\n",
       "      <td>Ariana Grande</td>\n",
       "      <td>​thank u, next</td>\n",
       "      <td>4063065</td>\n",
       "      <td>2018-11-03</td>\n",
       "      <td>[Verse 1]\\nThought I'd end up with Sean\\nBut h...</td>\n",
       "    </tr>\n",
       "    <tr>\n",
       "      <th>1</th>\n",
       "      <td>Ariana Grande</td>\n",
       "      <td>7 rings</td>\n",
       "      <td>4067762</td>\n",
       "      <td>2019-01-18</td>\n",
       "      <td>[Verse 1]\\nYeah, breakfast at Tiffany's and bo...</td>\n",
       "    </tr>\n",
       "    <tr>\n",
       "      <th>2</th>\n",
       "      <td>Ariana Grande</td>\n",
       "      <td>​God is a woman</td>\n",
       "      <td>3681280</td>\n",
       "      <td>2018-07-13</td>\n",
       "      <td>[Chorus]\\nYou, you love it how I move you\\nYou...</td>\n",
       "    </tr>\n",
       "    <tr>\n",
       "      <th>3</th>\n",
       "      <td>Ariana Grande</td>\n",
       "      <td>Side To Side</td>\n",
       "      <td>2457495</td>\n",
       "      <td>2016-05-20</td>\n",
       "      <td>[Intro: Ariana Grande &amp; Nicki Minaj]\\nI've bee...</td>\n",
       "    </tr>\n",
       "    <tr>\n",
       "      <th>4</th>\n",
       "      <td>Ariana Grande</td>\n",
       "      <td>​​no tears left to cry</td>\n",
       "      <td>3649172</td>\n",
       "      <td>2018-04-20</td>\n",
       "      <td>[Intro]\\nRight now, I'm in a state of mind\\nI ...</td>\n",
       "    </tr>\n",
       "  </tbody>\n",
       "</table>\n",
       "</div>"
      ],
      "text/plain": [
       "          artist                   title       id release_date  \\\n",
       "0  Ariana Grande          ​thank u, next  4063065   2018-11-03   \n",
       "1  Ariana Grande                 7 rings  4067762   2019-01-18   \n",
       "2  Ariana Grande         ​God is a woman  3681280   2018-07-13   \n",
       "3  Ariana Grande            Side To Side  2457495   2016-05-20   \n",
       "4  Ariana Grande  ​​no tears left to cry  3649172   2018-04-20   \n",
       "\n",
       "                                              lyrics  \n",
       "0  [Verse 1]\\nThought I'd end up with Sean\\nBut h...  \n",
       "1  [Verse 1]\\nYeah, breakfast at Tiffany's and bo...  \n",
       "2  [Chorus]\\nYou, you love it how I move you\\nYou...  \n",
       "3  [Intro: Ariana Grande & Nicki Minaj]\\nI've bee...  \n",
       "4  [Intro]\\nRight now, I'm in a state of mind\\nI ...  "
      ]
     },
     "execution_count": 48,
     "metadata": {},
     "output_type": "execute_result"
    }
   ],
   "source": [
    "# Load data from a CSV file\n",
    "data = pd.read_csv('/Users/manuelamiranda/Desktop/lyrics_retrieval/music_data.csv')\n",
    "print(\"Data loaded successfully!\")\n",
    "print(\"Sample data:\")\n",
    "data.head()  # Display the first few rows of the dataset to verify it's loaded correctly"
   ]
  },
  {
   "cell_type": "code",
   "execution_count": 49,
   "id": "b4f95c9b-42b2-45bb-86d9-c600d3ca39e2",
   "metadata": {},
   "outputs": [
    {
     "name": "stdout",
     "output_type": "stream",
     "text": [
      "Data preprocessing complete. Here's a preview:\n"
     ]
    },
    {
     "data": {
      "text/html": [
       "<div>\n",
       "<style scoped>\n",
       "    .dataframe tbody tr th:only-of-type {\n",
       "        vertical-align: middle;\n",
       "    }\n",
       "\n",
       "    .dataframe tbody tr th {\n",
       "        vertical-align: top;\n",
       "    }\n",
       "\n",
       "    .dataframe thead th {\n",
       "        text-align: right;\n",
       "    }\n",
       "</style>\n",
       "<table border=\"1\" class=\"dataframe\">\n",
       "  <thead>\n",
       "    <tr style=\"text-align: right;\">\n",
       "      <th></th>\n",
       "      <th>lyrics</th>\n",
       "      <th>processed_lyrics</th>\n",
       "    </tr>\n",
       "  </thead>\n",
       "  <tbody>\n",
       "    <tr>\n",
       "      <th>0</th>\n",
       "      <td>[Verse 1]\\nThought I'd end up with Sean\\nBut h...</td>\n",
       "      <td>[ vers 1 ] thought i 'd end up with sean but h...</td>\n",
       "    </tr>\n",
       "    <tr>\n",
       "      <th>1</th>\n",
       "      <td>[Verse 1]\\nYeah, breakfast at Tiffany's and bo...</td>\n",
       "      <td>[ vers 1 ] yeah , breakfast at tiffani 's and ...</td>\n",
       "    </tr>\n",
       "    <tr>\n",
       "      <th>2</th>\n",
       "      <td>[Chorus]\\nYou, you love it how I move you\\nYou...</td>\n",
       "      <td>[ choru ] you , you love it how i move you you...</td>\n",
       "    </tr>\n",
       "    <tr>\n",
       "      <th>3</th>\n",
       "      <td>[Intro: Ariana Grande &amp; Nicki Minaj]\\nI've bee...</td>\n",
       "      <td>[ intro : ariana grand &amp; nicki minaj ] i 've b...</td>\n",
       "    </tr>\n",
       "    <tr>\n",
       "      <th>4</th>\n",
       "      <td>[Intro]\\nRight now, I'm in a state of mind\\nI ...</td>\n",
       "      <td>[ intro ] right now , i 'm in a state of mind ...</td>\n",
       "    </tr>\n",
       "  </tbody>\n",
       "</table>\n",
       "</div>"
      ],
      "text/plain": [
       "                                              lyrics  \\\n",
       "0  [Verse 1]\\nThought I'd end up with Sean\\nBut h...   \n",
       "1  [Verse 1]\\nYeah, breakfast at Tiffany's and bo...   \n",
       "2  [Chorus]\\nYou, you love it how I move you\\nYou...   \n",
       "3  [Intro: Ariana Grande & Nicki Minaj]\\nI've bee...   \n",
       "4  [Intro]\\nRight now, I'm in a state of mind\\nI ...   \n",
       "\n",
       "                                    processed_lyrics  \n",
       "0  [ vers 1 ] thought i 'd end up with sean but h...  \n",
       "1  [ vers 1 ] yeah , breakfast at tiffani 's and ...  \n",
       "2  [ choru ] you , you love it how i move you you...  \n",
       "3  [ intro : ariana grand & nicki minaj ] i 've b...  \n",
       "4  [ intro ] right now , i 'm in a state of mind ...  "
      ]
     },
     "execution_count": 49,
     "metadata": {},
     "output_type": "execute_result"
    }
   ],
   "source": [
    "# Function to preprocess data\n",
    "def preprocess_text(text):\n",
    "    # Convert to lowercase\n",
    "    text = text.lower()\n",
    "    # Tokenize text\n",
    "    tokens = word_tokenize(text)\n",
    "    # Stemming using PorterStemmer\n",
    "    stemmer = PorterStemmer()\n",
    "    stemmed_tokens = [stemmer.stem(token) for token in tokens]\n",
    "    return ' '.join(stemmed_tokens)\n",
    "\n",
    "# Apply preprocessing to the lyrics column\n",
    "data['processed_lyrics'] = data['lyrics'].apply(preprocess_text)\n",
    "print(\"Data preprocessing complete. Here's a preview:\")\n",
    "data[['lyrics', 'processed_lyrics']].head()"
   ]
  },
  {
   "cell_type": "code",
   "execution_count": 50,
   "id": "8a327b6b-10ad-48cf-9d79-477e65adab2c",
   "metadata": {},
   "outputs": [],
   "source": [
    "def search_spotify(song_title, artist):\n",
    "    query = f\"track:{song_title} artist:{artist}\"\n",
    "    results = spotify.search(q=query, type='track', limit=1)\n",
    "    if results['tracks']['items']:\n",
    "        track = results['tracks']['items'][0]\n",
    "        return {\n",
    "            'name': track['name'],\n",
    "            'artist': track['artists'][0]['name'],\n",
    "            'album': track['album']['name'],\n",
    "            'preview_url': track['preview_url'],\n",
    "            'spotify_url': track['external_urls']['spotify']\n",
    "        }\n",
    "    else:\n",
    "        return \"No results found on Spotify.\""
   ]
  },
  {
   "cell_type": "code",
   "execution_count": 51,
   "id": "a6c45975-069c-4156-83f7-5b82fa459fb7",
   "metadata": {},
   "outputs": [],
   "source": [
    "def retrieve_song_and_search_spotify(lyrics_input):\n",
    "    processed_input = preprocess_text(lyrics_input)\n",
    "    match = data[data['processed_lyrics'].str.contains(processed_input, na=False)]\n",
    "    if not match.empty:\n",
    "        song_title = match.iloc[0]['title']\n",
    "        artist = match.iloc[0]['artist']\n",
    "        spotify_info = search_spotify(song_title, artist)\n",
    "        display_spotify_result(spotify_info)  # Using the new display function\n",
    "    else:\n",
    "        display(Markdown(\"**No matching song found.**\"))"
   ]
  },
  {
   "cell_type": "code",
   "execution_count": 52,
   "id": "3bf90616-f58e-4d95-9227-14593b4f2190",
   "metadata": {},
   "outputs": [],
   "source": [
    "from IPython.display import display, HTML, Audio\n",
    "\n",
    "def display_spotify_result(spotify_info):\n",
    "    if isinstance(spotify_info, dict):\n",
    "        html_content = f\"<h3>{spotify_info['name']} by {spotify_info['artist']}</h3>\"\n",
    "        html_content += f\"<p><strong>Album:</strong> {spotify_info['album']}</p>\"\n",
    "        html_content += f\"<a href='{spotify_info['spotify_url']}' target='_blank'>Listen on Spotify</a>\"\n",
    "        if spotify_info['preview_url']:\n",
    "            display(HTML(html_content))\n",
    "            display(Audio(spotify_info['preview_url'], autoplay=False))\n",
    "        else:\n",
    "            display(HTML(html_content))\n",
    "    else:\n",
    "        print(spotify_info)"
   ]
  },
  {
   "cell_type": "code",
   "execution_count": 53,
   "id": "74b6b2b4-fefc-4455-919e-4dc8e1ba4a8e",
   "metadata": {},
   "outputs": [
    {
     "data": {
      "application/vnd.jupyter.widget-view+json": {
       "model_id": "dc4256c3d1bc4678923882fc6282f1f5",
       "version_major": 2,
       "version_minor": 0
      },
      "text/plain": [
       "Text(value='', description='Lyrics:', placeholder='Type lyrics here...')"
      ]
     },
     "metadata": {},
     "output_type": "display_data"
    },
    {
     "data": {
      "application/vnd.jupyter.widget-view+json": {
       "model_id": "02df56245a31498b92761f0bb8a43d8b",
       "version_major": 2,
       "version_minor": 0
      },
      "text/plain": [
       "Button(button_style='info', description='Search', icon='search', style=ButtonStyle())"
      ]
     },
     "metadata": {},
     "output_type": "display_data"
    },
    {
     "data": {
      "application/vnd.jupyter.widget-view+json": {
       "model_id": "fb4dd79761db4d29a911c31cae9ad11e",
       "version_major": 2,
       "version_minor": 0
      },
      "text/plain": [
       "Output()"
      ]
     },
     "metadata": {},
     "output_type": "display_data"
    }
   ],
   "source": [
    "import ipywidgets as widgets\n",
    "from IPython.display import display\n",
    "\n",
    "# Input for lyrics\n",
    "lyrics_input = widgets.Text(\n",
    "    value='',\n",
    "    placeholder='Type lyrics here...',\n",
    "    description='Lyrics:',\n",
    "    disabled=False\n",
    ")\n",
    "\n",
    "# Button to trigger the search\n",
    "search_button = widgets.Button(\n",
    "    description='Search',\n",
    "    button_style='info',  # 'success', 'info', 'warning', 'danger' or ''\n",
    "    icon='search'  # FontAwesome icon name (without 'fa-')\n",
    ")\n",
    "\n",
    "output = widgets.Output()\n",
    "\n",
    "def on_button_clicked(b):\n",
    "    with output:\n",
    "        output.clear_output()\n",
    "        retrieve_song_and_search_spotify(lyrics_input.value)\n",
    "\n",
    "search_button.on_click(on_button_clicked)\n",
    "\n",
    "display(lyrics_input, search_button, output)\n"
   ]
  },
  {
   "cell_type": "markdown",
   "id": "1e336cdb-6d1c-46c6-bb24-0659961410f7",
   "metadata": {},
   "source": [
    "we need more preprocessing, show metrics of the model, try and remove duplicates from the dataset in order to get more nuanced results, look to improve performance in every way possible, refine the data so that it is all fully in English"
   ]
  },
  {
   "cell_type": "code",
   "execution_count": null,
   "id": "adc16aa7-48a6-41b6-a57c-cc3bc44d943f",
   "metadata": {},
   "outputs": [],
   "source": []
  }
 ],
 "metadata": {
  "kernelspec": {
   "display_name": "Python 3 (ipykernel)",
   "language": "python",
   "name": "python3"
  },
  "language_info": {
   "codemirror_mode": {
    "name": "ipython",
    "version": 3
   },
   "file_extension": ".py",
   "mimetype": "text/x-python",
   "name": "python",
   "nbconvert_exporter": "python",
   "pygments_lexer": "ipython3",
   "version": "3.11.8"
  }
 },
 "nbformat": 4,
 "nbformat_minor": 5
}
