{
 "cells": [
  {
   "cell_type": "code",
   "execution_count": 1,
   "id": "60c2d57f-89f1-4766-9478-4d396f0b1869",
   "metadata": {
    "scrolled": true
   },
   "outputs": [
    {
     "name": "stdout",
     "output_type": "stream",
     "text": [
      "Requirement already satisfied: pandas in /Users/anita/.pyenv/versions/3.9.7/lib/python3.9/site-packages (2.2.1)\n",
      "Requirement already satisfied: nltk in /Users/anita/.pyenv/versions/3.9.7/lib/python3.9/site-packages (3.8.1)\n",
      "Requirement already satisfied: numpy<2,>=1.22.4 in /Users/anita/.pyenv/versions/3.9.7/lib/python3.9/site-packages (from pandas) (1.26.4)\n",
      "Requirement already satisfied: python-dateutil>=2.8.2 in /Users/anita/.pyenv/versions/3.9.7/lib/python3.9/site-packages (from pandas) (2.9.0.post0)\n",
      "Requirement already satisfied: pytz>=2020.1 in /Users/anita/.pyenv/versions/3.9.7/lib/python3.9/site-packages (from pandas) (2024.1)\n",
      "Requirement already satisfied: tzdata>=2022.7 in /Users/anita/.pyenv/versions/3.9.7/lib/python3.9/site-packages (from pandas) (2024.1)\n",
      "Requirement already satisfied: click in /Users/anita/.pyenv/versions/3.9.7/lib/python3.9/site-packages (from nltk) (8.1.7)\n",
      "Requirement already satisfied: joblib in /Users/anita/.pyenv/versions/3.9.7/lib/python3.9/site-packages (from nltk) (1.3.2)\n",
      "Requirement already satisfied: regex>=2021.8.3 in /Users/anita/.pyenv/versions/3.9.7/lib/python3.9/site-packages (from nltk) (2023.12.25)\n",
      "Requirement already satisfied: tqdm in /Users/anita/.pyenv/versions/3.9.7/lib/python3.9/site-packages (from nltk) (4.66.2)\n",
      "Requirement already satisfied: six>=1.5 in /Users/anita/.pyenv/versions/3.9.7/lib/python3.9/site-packages (from python-dateutil>=2.8.2->pandas) (1.16.0)\n",
      "Requirement already satisfied: ipywidgets in /Users/anita/.pyenv/versions/3.9.7/lib/python3.9/site-packages (8.1.2)\n",
      "Requirement already satisfied: comm>=0.1.3 in /Users/anita/.pyenv/versions/3.9.7/lib/python3.9/site-packages (from ipywidgets) (0.2.2)\n",
      "Requirement already satisfied: ipython>=6.1.0 in /Users/anita/.pyenv/versions/3.9.7/lib/python3.9/site-packages (from ipywidgets) (8.18.1)\n",
      "Requirement already satisfied: traitlets>=4.3.1 in /Users/anita/.pyenv/versions/3.9.7/lib/python3.9/site-packages (from ipywidgets) (5.14.2)\n",
      "Requirement already satisfied: widgetsnbextension~=4.0.10 in /Users/anita/.pyenv/versions/3.9.7/lib/python3.9/site-packages (from ipywidgets) (4.0.10)\n",
      "Requirement already satisfied: jupyterlab-widgets~=3.0.10 in /Users/anita/.pyenv/versions/3.9.7/lib/python3.9/site-packages (from ipywidgets) (3.0.10)\n",
      "Requirement already satisfied: decorator in /Users/anita/.pyenv/versions/3.9.7/lib/python3.9/site-packages (from ipython>=6.1.0->ipywidgets) (5.1.1)\n",
      "Requirement already satisfied: jedi>=0.16 in /Users/anita/.pyenv/versions/3.9.7/lib/python3.9/site-packages (from ipython>=6.1.0->ipywidgets) (0.19.1)\n",
      "Requirement already satisfied: matplotlib-inline in /Users/anita/.pyenv/versions/3.9.7/lib/python3.9/site-packages (from ipython>=6.1.0->ipywidgets) (0.1.6)\n",
      "Requirement already satisfied: prompt-toolkit<3.1.0,>=3.0.41 in /Users/anita/.pyenv/versions/3.9.7/lib/python3.9/site-packages (from ipython>=6.1.0->ipywidgets) (3.0.43)\n",
      "Requirement already satisfied: pygments>=2.4.0 in /Users/anita/.pyenv/versions/3.9.7/lib/python3.9/site-packages (from ipython>=6.1.0->ipywidgets) (2.17.2)\n",
      "Requirement already satisfied: stack-data in /Users/anita/.pyenv/versions/3.9.7/lib/python3.9/site-packages (from ipython>=6.1.0->ipywidgets) (0.6.3)\n",
      "Requirement already satisfied: typing-extensions in /Users/anita/.pyenv/versions/3.9.7/lib/python3.9/site-packages (from ipython>=6.1.0->ipywidgets) (4.10.0)\n",
      "Requirement already satisfied: exceptiongroup in /Users/anita/.pyenv/versions/3.9.7/lib/python3.9/site-packages (from ipython>=6.1.0->ipywidgets) (1.2.0)\n",
      "Requirement already satisfied: pexpect>4.3 in /Users/anita/.pyenv/versions/3.9.7/lib/python3.9/site-packages (from ipython>=6.1.0->ipywidgets) (4.9.0)\n",
      "Requirement already satisfied: parso<0.9.0,>=0.8.3 in /Users/anita/.pyenv/versions/3.9.7/lib/python3.9/site-packages (from jedi>=0.16->ipython>=6.1.0->ipywidgets) (0.8.3)\n",
      "Requirement already satisfied: ptyprocess>=0.5 in /Users/anita/.pyenv/versions/3.9.7/lib/python3.9/site-packages (from pexpect>4.3->ipython>=6.1.0->ipywidgets) (0.7.0)\n",
      "Requirement already satisfied: wcwidth in /Users/anita/.pyenv/versions/3.9.7/lib/python3.9/site-packages (from prompt-toolkit<3.1.0,>=3.0.41->ipython>=6.1.0->ipywidgets) (0.2.13)\n",
      "Requirement already satisfied: executing>=1.2.0 in /Users/anita/.pyenv/versions/3.9.7/lib/python3.9/site-packages (from stack-data->ipython>=6.1.0->ipywidgets) (2.0.1)\n",
      "Requirement already satisfied: asttokens>=2.1.0 in /Users/anita/.pyenv/versions/3.9.7/lib/python3.9/site-packages (from stack-data->ipython>=6.1.0->ipywidgets) (2.4.1)\n",
      "Requirement already satisfied: pure-eval in /Users/anita/.pyenv/versions/3.9.7/lib/python3.9/site-packages (from stack-data->ipython>=6.1.0->ipywidgets) (0.2.2)\n",
      "Requirement already satisfied: six>=1.12.0 in /Users/anita/.pyenv/versions/3.9.7/lib/python3.9/site-packages (from asttokens>=2.1.0->stack-data->ipython>=6.1.0->ipywidgets) (1.16.0)\n",
      "Requirement already satisfied: spotipy in /Users/anita/.pyenv/versions/3.9.7/lib/python3.9/site-packages (2.23.0)\n",
      "Requirement already satisfied: redis>=3.5.3 in /Users/anita/.pyenv/versions/3.9.7/lib/python3.9/site-packages (from spotipy) (5.0.3)\n",
      "Requirement already satisfied: requests>=2.25.0 in /Users/anita/.pyenv/versions/3.9.7/lib/python3.9/site-packages (from spotipy) (2.31.0)\n",
      "Requirement already satisfied: six>=1.15.0 in /Users/anita/.pyenv/versions/3.9.7/lib/python3.9/site-packages (from spotipy) (1.16.0)\n",
      "Requirement already satisfied: urllib3>=1.26.0 in /Users/anita/.pyenv/versions/3.9.7/lib/python3.9/site-packages (from spotipy) (2.2.1)\n",
      "Requirement already satisfied: async-timeout>=4.0.3 in /Users/anita/.pyenv/versions/3.9.7/lib/python3.9/site-packages (from redis>=3.5.3->spotipy) (4.0.3)\n",
      "Requirement already satisfied: charset-normalizer<4,>=2 in /Users/anita/.pyenv/versions/3.9.7/lib/python3.9/site-packages (from requests>=2.25.0->spotipy) (3.3.2)\n",
      "Requirement already satisfied: idna<4,>=2.5 in /Users/anita/.pyenv/versions/3.9.7/lib/python3.9/site-packages (from requests>=2.25.0->spotipy) (3.6)\n",
      "Requirement already satisfied: certifi>=2017.4.17 in /Users/anita/.pyenv/versions/3.9.7/lib/python3.9/site-packages (from requests>=2.25.0->spotipy) (2024.2.2)\n",
      "Requirement already satisfied: langdetect in /Users/anita/.pyenv/versions/3.9.7/lib/python3.9/site-packages (1.0.9)\n",
      "Requirement already satisfied: six in /Users/anita/.pyenv/versions/3.9.7/lib/python3.9/site-packages (from langdetect) (1.16.0)\n",
      "Setup complete. Ready to load data.\n"
     ]
    },
    {
     "name": "stderr",
     "output_type": "stream",
     "text": [
      "[nltk_data] Downloading package punkt to /Users/anita/nltk_data...\n",
      "[nltk_data]   Package punkt is already up-to-date!\n",
      "[nltk_data] Downloading package stopwords to /Users/anita/nltk_data...\n",
      "[nltk_data]   Package stopwords is already up-to-date!\n",
      "[nltk_data] Downloading package wordnet to /Users/anita/nltk_data...\n",
      "[nltk_data]   Package wordnet is already up-to-date!\n",
      "[nltk_data] Downloading package omw-1.4 to /Users/anita/nltk_data...\n",
      "[nltk_data]   Package omw-1.4 is already up-to-date!\n"
     ]
    }
   ],
   "source": [
    "# Install necessary libraries\n",
    "!pip install pandas nltk\n",
    "!pip install ipywidgets\n",
    "!pip install spotipy\n",
    "!pip install langdetect\n",
    "\n",
    "# Importing libraries\n",
    "import nltk\n",
    "from nltk.corpus import stopwords\n",
    "from nltk.tokenize import word_tokenize\n",
    "from nltk.stem import PorterStemmer\n",
    "from nltk.stem import WordNetLemmatizer\n",
    "from sklearn.feature_extraction.text import TfidfVectorizer\n",
    "\n",
    "import pandas as pd\n",
    "import numpy as np\n",
    "import string\n",
    "from IPython.display import display, Markdown\n",
    "import ipywidgets as widgets\n",
    "\n",
    "nltk.download('punkt')\n",
    "nltk.download('stopwords')\n",
    "nltk.download('wordnet')\n",
    "nltk.download('omw-1.4')\n",
    "\n",
    "print(\"Setup complete. Ready to load data.\")"
   ]
  },
  {
   "cell_type": "markdown",
   "id": "79e9b171",
   "metadata": {},
   "source": [
    "##### Clean Data"
   ]
  },
  {
   "cell_type": "code",
   "execution_count": 2,
   "id": "d45ca480-fad4-4366-bbb9-b6edf85ef8b6",
   "metadata": {},
   "outputs": [],
   "source": [
    "# Import the Spotipy library\n",
    "import spotipy\n",
    "from spotipy.oauth2 import SpotifyClientCredentials\n",
    "\n",
    "# Initialize Spotipy with Spotify Developer Credentials\n",
    "client_id = '1075d2afec3d414ca02ec7002f1d5576'  # Replace with your actual Spotify Client ID\n",
    "client_secret = 'bb1fd201730b484983d952ecbd344b33'  # Replace with your actual Spotify Client Secret\n",
    "\n",
    "credentials = SpotifyClientCredentials(client_id=client_id, client_secret=client_secret)\n",
    "spotify = spotipy.Spotify(client_credentials_manager=credentials)"
   ]
  },
  {
   "cell_type": "code",
   "execution_count": 3,
   "id": "84cea903-a0c2-468e-882d-de753ce5a7c7",
   "metadata": {},
   "outputs": [
    {
     "name": "stdout",
     "output_type": "stream",
     "text": [
      "Data loaded successfully!\n",
      "Sample data:\n"
     ]
    },
    {
     "data": {
      "text/html": [
       "<div>\n",
       "<style scoped>\n",
       "    .dataframe tbody tr th:only-of-type {\n",
       "        vertical-align: middle;\n",
       "    }\n",
       "\n",
       "    .dataframe tbody tr th {\n",
       "        vertical-align: top;\n",
       "    }\n",
       "\n",
       "    .dataframe thead th {\n",
       "        text-align: right;\n",
       "    }\n",
       "</style>\n",
       "<table border=\"1\" class=\"dataframe\">\n",
       "  <thead>\n",
       "    <tr style=\"text-align: right;\">\n",
       "      <th></th>\n",
       "      <th>artist</th>\n",
       "      <th>title</th>\n",
       "      <th>id</th>\n",
       "      <th>release_date</th>\n",
       "      <th>lyrics</th>\n",
       "    </tr>\n",
       "  </thead>\n",
       "  <tbody>\n",
       "    <tr>\n",
       "      <th>0</th>\n",
       "      <td>Ariana Grande</td>\n",
       "      <td>​thank u, next</td>\n",
       "      <td>4063065</td>\n",
       "      <td>2018-11-03</td>\n",
       "      <td>[Verse 1]\\nThought I'd end up with Sean\\nBut h...</td>\n",
       "    </tr>\n",
       "    <tr>\n",
       "      <th>1</th>\n",
       "      <td>Ariana Grande</td>\n",
       "      <td>7 rings</td>\n",
       "      <td>4067762</td>\n",
       "      <td>2019-01-18</td>\n",
       "      <td>[Verse 1]\\nYeah, breakfast at Tiffany's and bo...</td>\n",
       "    </tr>\n",
       "    <tr>\n",
       "      <th>2</th>\n",
       "      <td>Ariana Grande</td>\n",
       "      <td>​God is a woman</td>\n",
       "      <td>3681280</td>\n",
       "      <td>2018-07-13</td>\n",
       "      <td>[Chorus]\\nYou, you love it how I move you\\nYou...</td>\n",
       "    </tr>\n",
       "    <tr>\n",
       "      <th>3</th>\n",
       "      <td>Ariana Grande</td>\n",
       "      <td>Side To Side</td>\n",
       "      <td>2457495</td>\n",
       "      <td>2016-05-20</td>\n",
       "      <td>[Intro: Ariana Grande &amp; Nicki Minaj]\\nI've bee...</td>\n",
       "    </tr>\n",
       "    <tr>\n",
       "      <th>4</th>\n",
       "      <td>Ariana Grande</td>\n",
       "      <td>​​no tears left to cry</td>\n",
       "      <td>3649172</td>\n",
       "      <td>2018-04-20</td>\n",
       "      <td>[Intro]\\nRight now, I'm in a state of mind\\nI ...</td>\n",
       "    </tr>\n",
       "    <tr>\n",
       "      <th>...</th>\n",
       "      <td>...</td>\n",
       "      <td>...</td>\n",
       "      <td>...</td>\n",
       "      <td>...</td>\n",
       "      <td>...</td>\n",
       "    </tr>\n",
       "    <tr>\n",
       "      <th>3739</th>\n",
       "      <td>Taylor Swift</td>\n",
       "      <td>Taylor Swift - no body, no crime (Traducción a...</td>\n",
       "      <td>6274728</td>\n",
       "      <td>2020-12-11</td>\n",
       "      <td>[Intro: HAIM]\\nÉl lo hizo\\nÉl lo hizo\\n\\n[Vers...</td>\n",
       "    </tr>\n",
       "    <tr>\n",
       "      <th>3740</th>\n",
       "      <td>Taylor Swift</td>\n",
       "      <td>Welcome Back Grunwald</td>\n",
       "      <td>6226864</td>\n",
       "      <td>NaN</td>\n",
       "      <td>Turn WYCD on\\nYou're\\nOn your Grunwald\\nBack f...</td>\n",
       "    </tr>\n",
       "    <tr>\n",
       "      <th>3741</th>\n",
       "      <td>Taylor Swift</td>\n",
       "      <td>Tolerate it (Polskie Tłumaczenie)</td>\n",
       "      <td>6315848</td>\n",
       "      <td>2020-12-11</td>\n",
       "      <td>[Zwrotka 1]\\nSiedzę i patrzę jak czytasz z gło...</td>\n",
       "    </tr>\n",
       "    <tr>\n",
       "      <th>3742</th>\n",
       "      <td>Taylor Swift</td>\n",
       "      <td>Find you</td>\n",
       "      <td>6209316</td>\n",
       "      <td>NaN</td>\n",
       "      <td>Trying just like they say\\nJust taking the ste...</td>\n",
       "    </tr>\n",
       "    <tr>\n",
       "      <th>3743</th>\n",
       "      <td>Taylor Swift</td>\n",
       "      <td>Clean - Türkçe Çeviri</td>\n",
       "      <td>6387638</td>\n",
       "      <td>2014-10-27</td>\n",
       "      <td>[Verse 1]\\nKuraklık en kötüsüydü(Oh-oh-oh)\\nBe...</td>\n",
       "    </tr>\n",
       "  </tbody>\n",
       "</table>\n",
       "<p>3744 rows × 5 columns</p>\n",
       "</div>"
      ],
      "text/plain": [
       "             artist                                              title  \\\n",
       "0     Ariana Grande                                     ​thank u, next   \n",
       "1     Ariana Grande                                            7 rings   \n",
       "2     Ariana Grande                                    ​God is a woman   \n",
       "3     Ariana Grande                                       Side To Side   \n",
       "4     Ariana Grande                             ​​no tears left to cry   \n",
       "...             ...                                                ...   \n",
       "3739   Taylor Swift  Taylor Swift - no body, no crime (Traducción a...   \n",
       "3740   Taylor Swift                              Welcome Back Grunwald   \n",
       "3741   Taylor Swift                  Tolerate it (Polskie Tłumaczenie)   \n",
       "3742   Taylor Swift                                           Find you   \n",
       "3743   Taylor Swift                              Clean - Türkçe Çeviri   \n",
       "\n",
       "           id release_date                                             lyrics  \n",
       "0     4063065   2018-11-03  [Verse 1]\\nThought I'd end up with Sean\\nBut h...  \n",
       "1     4067762   2019-01-18  [Verse 1]\\nYeah, breakfast at Tiffany's and bo...  \n",
       "2     3681280   2018-07-13  [Chorus]\\nYou, you love it how I move you\\nYou...  \n",
       "3     2457495   2016-05-20  [Intro: Ariana Grande & Nicki Minaj]\\nI've bee...  \n",
       "4     3649172   2018-04-20  [Intro]\\nRight now, I'm in a state of mind\\nI ...  \n",
       "...       ...          ...                                                ...  \n",
       "3739  6274728   2020-12-11  [Intro: HAIM]\\nÉl lo hizo\\nÉl lo hizo\\n\\n[Vers...  \n",
       "3740  6226864          NaN  Turn WYCD on\\nYou're\\nOn your Grunwald\\nBack f...  \n",
       "3741  6315848   2020-12-11  [Zwrotka 1]\\nSiedzę i patrzę jak czytasz z gło...  \n",
       "3742  6209316          NaN  Trying just like they say\\nJust taking the ste...  \n",
       "3743  6387638   2014-10-27  [Verse 1]\\nKuraklık en kötüsüydü(Oh-oh-oh)\\nBe...  \n",
       "\n",
       "[3744 rows x 5 columns]"
      ]
     },
     "execution_count": 3,
     "metadata": {},
     "output_type": "execute_result"
    }
   ],
   "source": [
    "# Load data from a CSV file\n",
    "data = pd.read_csv('/Users/anita/Documents/NLPSongs-/music_data.csv')\n",
    "print(\"Data loaded successfully!\")\n",
    "print(\"Sample data:\")\n",
    "data # Display the first few rows of the dataset to verify it's loaded correctly"
   ]
  },
  {
   "cell_type": "code",
   "execution_count": 4,
   "id": "2575387a",
   "metadata": {},
   "outputs": [
    {
     "name": "stdout",
     "output_type": "stream",
     "text": [
      "artist            0\n",
      "title             0\n",
      "id                0\n",
      "release_date    993\n",
      "lyrics            0\n",
      "dtype: int64\n"
     ]
    }
   ],
   "source": [
    "null_values = data.isnull().sum()\n",
    "print(null_values)"
   ]
  },
  {
   "cell_type": "code",
   "execution_count": 5,
   "id": "bfa3b79e",
   "metadata": {},
   "outputs": [],
   "source": [
    "#Remove null values\n",
    "data = data.dropna()"
   ]
  },
  {
   "cell_type": "code",
   "execution_count": 6,
   "id": "bc68f385",
   "metadata": {},
   "outputs": [
    {
     "name": "stdout",
     "output_type": "stream",
     "text": [
      "0\n"
     ]
    }
   ],
   "source": [
    "duplicate_rows = data.duplicated().sum()\n",
    "print(duplicate_rows)"
   ]
  },
  {
   "cell_type": "code",
   "execution_count": 7,
   "id": "46a7ee78",
   "metadata": {},
   "outputs": [],
   "source": [
    "from langdetect import detect\n",
    "\n",
    "def is_english(row):\n",
    "    for column in row:\n",
    "        try:\n",
    "            if detect(str(column)) != 'en':\n",
    "                return False\n",
    "        except:\n",
    "            pass\n",
    "    return True\n",
    "\n",
    "mask = data.apply(is_english, axis=1)\n",
    "data = data[mask]"
   ]
  },
  {
   "cell_type": "markdown",
   "id": "093d06b5",
   "metadata": {},
   "source": [
    "#### Preprocess"
   ]
  },
  {
   "cell_type": "markdown",
   "id": "2aef5900",
   "metadata": {},
   "source": [
    "##### Tokenization and Lemmatization "
   ]
  },
  {
   "cell_type": "code",
   "execution_count": 20,
   "id": "4312c1d1",
   "metadata": {},
   "outputs": [
    {
     "name": "stdout",
     "output_type": "stream",
     "text": [
      "Data preprocessing complete. Here's a preview:\n",
      "                                                lyrics  \\\n",
      "517  [Chorus: Charlie Puth]\\nWe don't talk anymore,...   \n",
      "518  [Intro]\\nAlright\\nOoh, yeah\\n\\n[Verse 1]\\nI'll...   \n",
      "519  [Intro: Charlie Puth]\\nLet's Marvin Gaye and g...   \n",
      "520  [Chorus]\\nI'm only one call away\\nI'll be ther...   \n",
      "522  [Verse 1]\\nYeah, maybe I'ma get a little anxio...   \n",
      "\n",
      "                                      processed_lyrics  \n",
      "517  [ chorus : charlie puth ] we do n't talk anymo...  \n",
      "518  [ intro ] alright ooh , yeah [ verse 1 ] i 'll...  \n",
      "519  [ intro : charlie puth ] let 's marvin gaye an...  \n",
      "520  [ chorus ] i 'm only one call away i 'll be th...  \n",
      "522  [ verse 1 ] yeah , maybe i'ma get a little anx...  \n"
     ]
    }
   ],
   "source": [
    "# Function to preprocess data\n",
    "def preprocess_text(text):\n",
    "    # Convert to lowercase\n",
    "    text = text.lower()\n",
    "    # Tokenize text\n",
    "    tokens = word_tokenize(text)\n",
    "    return ' '.join(tokens)\n",
    "\n",
    "# Apply preprocessing to the lyrics column\n",
    "data['processed_lyrics'] = data['lyrics'].apply(preprocess_text)\n",
    "print(\"Data preprocessing complete. Here's a preview:\")\n",
    "print(data[['lyrics', 'processed_lyrics']].head())"
   ]
  },
  {
   "cell_type": "code",
   "execution_count": 21,
   "id": "93a0f590",
   "metadata": {},
   "outputs": [
    {
     "data": {
      "text/plain": [
       "517    [ chorus : charlie puth ] we do n't talk anymo...\n",
       "518    [ intro ] alright ooh , yeah [ verse 1 ] i 'll...\n",
       "519    [ intro : charlie puth ] let 's marvin gaye an...\n",
       "520    [ chorus ] i 'm only one call away i 'll be th...\n",
       "522    [ verse 1 ] yeah , maybe i'ma get a little anx...\n",
       "523    [ verse 1 : charlie puth ] no , this is not go...\n",
       "526    [ verse 1 ] it started with a kiss on your mam...\n",
       "528    [ chorus ] i warned myself that i should n't p...\n",
       "531    [ verse 1 ] he 's such a nice boy , so well-ma...\n",
       "533    [ chorus ] do n't run from me , river do n't r...\n",
       "535    [ verse 1 ] i got a situation , this girl been...\n",
       "536    [ verse 1 ] i was just with you on your birthd...\n",
       "538    [ verse 1 ] oh , the way that you dance on me ...\n",
       "539    [ verse 1 ] you could say i lived a crazy life...\n",
       "541    [ verse 1 ] when i 'm old and grown i wo n't s...\n",
       "545    [ intro ] mmm , mmm , mmm [ verse 1 ] somebody...\n",
       "548    [ verse 1 ] well , i get a thrill from down my...\n",
       "549    [ intro ] ohh , ooh [ verse 1 ] some girls wal...\n",
       "550    [ verse 1 ] oh , darling , i know you 're take...\n",
       "560    [ intro : charlie puth ] okay this is a song a...\n",
       "564    [ verse 1 ] i got ta have you now , it 's not ...\n",
       "567    [ intro ] ohh doo doo doo doo doo right next t...\n",
       "570    [ verse 1 ] all of you you could do so much be...\n",
       "571    [ intro ] yeah , yeah see i ’ ve been thinkin ...\n",
       "574    [ verse 1 ] so i heard you found somebody else...\n",
       "584    [ verse 1 ] where you think to go now , sexy l...\n",
       "587    [ verse 1 ] there 's a moment when you find ou...\n",
       "589    [ verse 1 ] it 's 10 p.m. and i am missin' my ...\n",
       "594    [ verse 1 ] picture perfect memories scattered...\n",
       "595    ( tiktok snippet ) girl , i really trusted you...\n",
       "596    [ intro ] da-da-da-da-da-da-da da-da-da-da da-...\n",
       "597    [ chorus ] it 's been a long day without you ,...\n",
       "599    [ verse 1 ] i 'll miss you singing stevie wond...\n",
       "603    [ intro ] hey uh um hi ummmmmm you know how yo...\n",
       "610    [ verse 1 : robert gillies ] bluebird , sweet ...\n",
       "612    [ verse ] ooo girl i really trusted you tore m...\n",
       "615    [ intro ] aw yeah what ? i have a little story...\n",
       "616    [ intro ] oh-oh doo doo doo doo doo doo doo do...\n",
       "617    [ verse 1 ] i see the people all the time coun...\n",
       "618    [ verse 1 ] i 'm going under , and this time ,...\n",
       "624    [ verse 1 ] come up to meet you , tell you i '...\n",
       "626    [ verse 1 : chris martin ] when you try your b...\n",
       "627    [ verse 1 : chris martin ] look at the stars l...\n",
       "628    [ intro : beyoncé ] and said drink from me , d...\n",
       "629    [ verse 1 ] 'cause you 're a sky , 'cause you ...\n",
       "630    [ verse 1 ] oh , they say people come , say pe...\n",
       "631    [ intro ] [ indecipherable ] [ verse 1 ] turn ...\n",
       "640    [ verse 1 ] oh no , i see a spider web is tang...\n",
       "642    [ verse 1 ] been rusting in the rubble running...\n",
       "643    [ intro ] one , two , three [ verse 1 ] fish f...\n",
       "Name: processed_lyrics, dtype: object"
      ]
     },
     "execution_count": 21,
     "metadata": {},
     "output_type": "execute_result"
    }
   ],
   "source": [
    "data['processed_lyrics'].head(50)"
   ]
  },
  {
   "cell_type": "code",
   "execution_count": 22,
   "id": "ae27bf6a",
   "metadata": {},
   "outputs": [],
   "source": [
    "# Remove rows with empty lyrics or that contain only one word\n",
    "data = data[data['processed_lyrics'].str.split().str.len() > 1]"
   ]
  },
  {
   "cell_type": "markdown",
   "id": "7de77097",
   "metadata": {},
   "source": [
    "#### Spotify Connection"
   ]
  },
  {
   "cell_type": "code",
   "execution_count": 23,
   "id": "8a327b6b-10ad-48cf-9d79-477e65adab2c",
   "metadata": {},
   "outputs": [],
   "source": [
    "def search_spotify(song_title, artist):\n",
    "    query = f\"track:{song_title} artist:{artist}\"\n",
    "    results = spotify.search(q=query, type='track', limit=1)\n",
    "    if results['tracks']['items']:\n",
    "        track = results['tracks']['items'][0]\n",
    "        return {\n",
    "            'name': track['name'],\n",
    "            'artist': track['artists'][0]['name'],\n",
    "            'album': track['album']['name'],\n",
    "            'preview_url': track['preview_url'],\n",
    "            'spotify_url': track['external_urls']['spotify']\n",
    "        }\n",
    "    else:\n",
    "        return \"No results found on Spotify.\""
   ]
  },
  {
   "cell_type": "code",
   "execution_count": 24,
   "id": "a6c45975-069c-4156-83f7-5b82fa459fb7",
   "metadata": {},
   "outputs": [],
   "source": [
    "def retrieve_song_and_search_spotify(lyrics_input):\n",
    "    processed_input = preprocess_text(lyrics_input)\n",
    "    match = data[data['processed_lyrics'].str.contains(processed_input, na=False)]\n",
    "    if not match.empty:\n",
    "        song_title = match.iloc[0]['title']\n",
    "        artist = match.iloc[0]['artist']\n",
    "        spotify_info = search_spotify(song_title, artist)\n",
    "        display_spotify_result(spotify_info)  # Using the new display function\n",
    "    else:\n",
    "        display(Markdown(\"**No matching song found.**\"))"
   ]
  },
  {
   "cell_type": "code",
   "execution_count": 25,
   "id": "3bf90616-f58e-4d95-9227-14593b4f2190",
   "metadata": {},
   "outputs": [],
   "source": [
    "from IPython.display import display, HTML, Audio\n",
    "\n",
    "def display_spotify_result(spotify_info):\n",
    "    if isinstance(spotify_info, dict):\n",
    "        html_content = f\"<h3>{spotify_info['name']} by {spotify_info['artist']}</h3>\"\n",
    "        html_content += f\"<p><strong>Album:</strong> {spotify_info['album']}</p>\"\n",
    "        html_content += f\"<a href='{spotify_info['spotify_url']}' target='_blank'>Listen on Spotify</a>\"\n",
    "        if spotify_info['preview_url']:\n",
    "            display(HTML(html_content))\n",
    "            display(Audio(spotify_info['preview_url'], autoplay=False))\n",
    "        else:\n",
    "            display(HTML(html_content))\n",
    "    else:\n",
    "        print(spotify_info)"
   ]
  },
  {
   "cell_type": "markdown",
   "id": "0adc5b57",
   "metadata": {},
   "source": [
    "#### Search"
   ]
  },
  {
   "cell_type": "code",
   "execution_count": 26,
   "id": "74b6b2b4-fefc-4455-919e-4dc8e1ba4a8e",
   "metadata": {},
   "outputs": [
    {
     "data": {
      "application/vnd.jupyter.widget-view+json": {
       "model_id": "3dde83e9ae3745c8a4ab84968cbe51d0",
       "version_major": 2,
       "version_minor": 0
      },
      "text/plain": [
       "Text(value='', description='Lyrics:', placeholder='Type lyrics here...')"
      ]
     },
     "metadata": {},
     "output_type": "display_data"
    },
    {
     "data": {
      "application/vnd.jupyter.widget-view+json": {
       "model_id": "a862f3bda8454ffb919a63786c78fd51",
       "version_major": 2,
       "version_minor": 0
      },
      "text/plain": [
       "Button(button_style='info', description='Search', icon='search', style=ButtonStyle())"
      ]
     },
     "metadata": {},
     "output_type": "display_data"
    },
    {
     "data": {
      "application/vnd.jupyter.widget-view+json": {
       "model_id": "f1e8fd5d6dc14073ba167e2958652b79",
       "version_major": 2,
       "version_minor": 0
      },
      "text/plain": [
       "Output()"
      ]
     },
     "metadata": {},
     "output_type": "display_data"
    }
   ],
   "source": [
    "import ipywidgets as widgets\n",
    "from IPython.display import display\n",
    "\n",
    "# Input for lyrics\n",
    "lyrics_input = widgets.Text(\n",
    "    value='',\n",
    "    placeholder='Type lyrics here...',\n",
    "    description='Lyrics:',\n",
    "    disabled=False\n",
    ")\n",
    "\n",
    "# Button to trigger the search\n",
    "search_button = widgets.Button(\n",
    "    description='Search',\n",
    "    button_style='info',  # 'success', 'info', 'warning', 'danger' or ''\n",
    "    icon='search'  # FontAwesome icon name (without 'fa-')\n",
    ")\n",
    "\n",
    "output = widgets.Output()\n",
    "\n",
    "def on_button_clicked(b):\n",
    "    with output:\n",
    "        output.clear_output()\n",
    "        retrieve_song_and_search_spotify(lyrics_input.value)\n",
    "\n",
    "search_button.on_click(on_button_clicked)\n",
    "\n",
    "display(lyrics_input, search_button, output)"
   ]
  },
  {
   "cell_type": "markdown",
   "id": "1e336cdb-6d1c-46c6-bb24-0659961410f7",
   "metadata": {},
   "source": [
    "we need more preprocessing, show metrics of the model, try and remove duplicates from the dataset in order to get more nuanced results, look to improve performance in every way possible, refine the data so that it is all fully in English"
   ]
  },
  {
   "cell_type": "code",
   "execution_count": null,
   "id": "adc16aa7-48a6-41b6-a57c-cc3bc44d943f",
   "metadata": {},
   "outputs": [],
   "source": []
  }
 ],
 "metadata": {
  "kernelspec": {
   "display_name": "Python 3 (ipykernel)",
   "language": "python",
   "name": "python3"
  },
  "language_info": {
   "codemirror_mode": {
    "name": "ipython",
    "version": 3
   },
   "file_extension": ".py",
   "mimetype": "text/x-python",
   "name": "python",
   "nbconvert_exporter": "python",
   "pygments_lexer": "ipython3",
   "version": "3.9.7"
  }
 },
 "nbformat": 4,
 "nbformat_minor": 5
}
