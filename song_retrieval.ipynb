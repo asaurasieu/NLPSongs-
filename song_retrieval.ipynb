{
 "cells": [
  {
   "cell_type": "code",
   "execution_count": 1,
   "id": "60c2d57f-89f1-4766-9478-4d396f0b1869",
   "metadata": {
    "scrolled": true
   },
   "outputs": [
    {
     "name": "stdout",
     "output_type": "stream",
     "text": [
      "Requirement already satisfied: pandas in /Users/anita/.pyenv/versions/3.9.7/lib/python3.9/site-packages (2.2.1)\n",
      "Requirement already satisfied: nltk in /Users/anita/.pyenv/versions/3.9.7/lib/python3.9/site-packages (3.6.2)\n",
      "Requirement already satisfied: numpy<2,>=1.22.4 in /Users/anita/.pyenv/versions/3.9.7/lib/python3.9/site-packages (from pandas) (1.26.4)\n",
      "Requirement already satisfied: python-dateutil>=2.8.2 in /Users/anita/.pyenv/versions/3.9.7/lib/python3.9/site-packages (from pandas) (2.9.0.post0)\n",
      "Requirement already satisfied: pytz>=2020.1 in /Users/anita/.pyenv/versions/3.9.7/lib/python3.9/site-packages (from pandas) (2024.1)\n",
      "Requirement already satisfied: tzdata>=2022.7 in /Users/anita/.pyenv/versions/3.9.7/lib/python3.9/site-packages (from pandas) (2024.1)\n",
      "Requirement already satisfied: click in /Users/anita/.pyenv/versions/3.9.7/lib/python3.9/site-packages (from nltk) (8.1.7)\n",
      "Requirement already satisfied: joblib in /Users/anita/.pyenv/versions/3.9.7/lib/python3.9/site-packages (from nltk) (1.3.2)\n",
      "Requirement already satisfied: regex in /Users/anita/.pyenv/versions/3.9.7/lib/python3.9/site-packages (from nltk) (2023.12.25)\n",
      "Requirement already satisfied: tqdm in /Users/anita/.pyenv/versions/3.9.7/lib/python3.9/site-packages (from nltk) (4.66.2)\n",
      "Requirement already satisfied: six>=1.5 in /Users/anita/.pyenv/versions/3.9.7/lib/python3.9/site-packages (from python-dateutil>=2.8.2->pandas) (1.16.0)\n",
      "Requirement already satisfied: ipywidgets in /Users/anita/.pyenv/versions/3.9.7/lib/python3.9/site-packages (8.1.2)\n",
      "Requirement already satisfied: comm>=0.1.3 in /Users/anita/.pyenv/versions/3.9.7/lib/python3.9/site-packages (from ipywidgets) (0.2.2)\n",
      "Requirement already satisfied: ipython>=6.1.0 in /Users/anita/.pyenv/versions/3.9.7/lib/python3.9/site-packages (from ipywidgets) (8.18.1)\n",
      "Requirement already satisfied: traitlets>=4.3.1 in /Users/anita/.pyenv/versions/3.9.7/lib/python3.9/site-packages (from ipywidgets) (5.14.2)\n",
      "Requirement already satisfied: widgetsnbextension~=4.0.10 in /Users/anita/.pyenv/versions/3.9.7/lib/python3.9/site-packages (from ipywidgets) (4.0.10)\n",
      "Requirement already satisfied: jupyterlab-widgets~=3.0.10 in /Users/anita/.pyenv/versions/3.9.7/lib/python3.9/site-packages (from ipywidgets) (3.0.10)\n",
      "Requirement already satisfied: decorator in /Users/anita/.pyenv/versions/3.9.7/lib/python3.9/site-packages (from ipython>=6.1.0->ipywidgets) (5.1.1)\n",
      "Requirement already satisfied: jedi>=0.16 in /Users/anita/.pyenv/versions/3.9.7/lib/python3.9/site-packages (from ipython>=6.1.0->ipywidgets) (0.19.1)\n",
      "Requirement already satisfied: matplotlib-inline in /Users/anita/.pyenv/versions/3.9.7/lib/python3.9/site-packages (from ipython>=6.1.0->ipywidgets) (0.1.6)\n",
      "Requirement already satisfied: prompt-toolkit<3.1.0,>=3.0.41 in /Users/anita/.pyenv/versions/3.9.7/lib/python3.9/site-packages (from ipython>=6.1.0->ipywidgets) (3.0.43)\n",
      "Requirement already satisfied: pygments>=2.4.0 in /Users/anita/.pyenv/versions/3.9.7/lib/python3.9/site-packages (from ipython>=6.1.0->ipywidgets) (2.17.2)\n",
      "Requirement already satisfied: stack-data in /Users/anita/.pyenv/versions/3.9.7/lib/python3.9/site-packages (from ipython>=6.1.0->ipywidgets) (0.6.3)\n",
      "Requirement already satisfied: typing-extensions in /Users/anita/.pyenv/versions/3.9.7/lib/python3.9/site-packages (from ipython>=6.1.0->ipywidgets) (4.10.0)\n",
      "Requirement already satisfied: exceptiongroup in /Users/anita/.pyenv/versions/3.9.7/lib/python3.9/site-packages (from ipython>=6.1.0->ipywidgets) (1.2.0)\n",
      "Requirement already satisfied: pexpect>4.3 in /Users/anita/.pyenv/versions/3.9.7/lib/python3.9/site-packages (from ipython>=6.1.0->ipywidgets) (4.9.0)\n",
      "Requirement already satisfied: parso<0.9.0,>=0.8.3 in /Users/anita/.pyenv/versions/3.9.7/lib/python3.9/site-packages (from jedi>=0.16->ipython>=6.1.0->ipywidgets) (0.8.3)\n",
      "Requirement already satisfied: ptyprocess>=0.5 in /Users/anita/.pyenv/versions/3.9.7/lib/python3.9/site-packages (from pexpect>4.3->ipython>=6.1.0->ipywidgets) (0.7.0)\n",
      "Requirement already satisfied: wcwidth in /Users/anita/.pyenv/versions/3.9.7/lib/python3.9/site-packages (from prompt-toolkit<3.1.0,>=3.0.41->ipython>=6.1.0->ipywidgets) (0.2.13)\n",
      "Requirement already satisfied: executing>=1.2.0 in /Users/anita/.pyenv/versions/3.9.7/lib/python3.9/site-packages (from stack-data->ipython>=6.1.0->ipywidgets) (2.0.1)\n",
      "Requirement already satisfied: asttokens>=2.1.0 in /Users/anita/.pyenv/versions/3.9.7/lib/python3.9/site-packages (from stack-data->ipython>=6.1.0->ipywidgets) (2.4.1)\n",
      "Requirement already satisfied: pure-eval in /Users/anita/.pyenv/versions/3.9.7/lib/python3.9/site-packages (from stack-data->ipython>=6.1.0->ipywidgets) (0.2.2)\n",
      "Requirement already satisfied: six>=1.12.0 in /Users/anita/.pyenv/versions/3.9.7/lib/python3.9/site-packages (from asttokens>=2.1.0->stack-data->ipython>=6.1.0->ipywidgets) (1.16.0)\n",
      "Requirement already satisfied: spotipy in /Users/anita/.pyenv/versions/3.9.7/lib/python3.9/site-packages (2.23.0)\n",
      "Requirement already satisfied: redis>=3.5.3 in /Users/anita/.pyenv/versions/3.9.7/lib/python3.9/site-packages (from spotipy) (5.0.3)\n",
      "Requirement already satisfied: requests>=2.25.0 in /Users/anita/.pyenv/versions/3.9.7/lib/python3.9/site-packages (from spotipy) (2.31.0)\n",
      "Requirement already satisfied: six>=1.15.0 in /Users/anita/.pyenv/versions/3.9.7/lib/python3.9/site-packages (from spotipy) (1.16.0)\n",
      "Requirement already satisfied: urllib3>=1.26.0 in /Users/anita/.pyenv/versions/3.9.7/lib/python3.9/site-packages (from spotipy) (2.2.1)\n",
      "Requirement already satisfied: async-timeout>=4.0.3 in /Users/anita/.pyenv/versions/3.9.7/lib/python3.9/site-packages (from redis>=3.5.3->spotipy) (4.0.3)\n",
      "Requirement already satisfied: charset-normalizer<4,>=2 in /Users/anita/.pyenv/versions/3.9.7/lib/python3.9/site-packages (from requests>=2.25.0->spotipy) (3.3.2)\n",
      "Requirement already satisfied: idna<4,>=2.5 in /Users/anita/.pyenv/versions/3.9.7/lib/python3.9/site-packages (from requests>=2.25.0->spotipy) (3.6)\n",
      "Requirement already satisfied: certifi>=2017.4.17 in /Users/anita/.pyenv/versions/3.9.7/lib/python3.9/site-packages (from requests>=2.25.0->spotipy) (2024.2.2)\n",
      "Requirement already satisfied: langdetect in /Users/anita/.pyenv/versions/3.9.7/lib/python3.9/site-packages (1.0.9)\n",
      "Requirement already satisfied: six in /Users/anita/.pyenv/versions/3.9.7/lib/python3.9/site-packages (from langdetect) (1.16.0)\n",
      "Requirement already satisfied: sentence-transformers in /Users/anita/.pyenv/versions/3.9.7/lib/python3.9/site-packages (2.6.1)\n",
      "Requirement already satisfied: transformers<5.0.0,>=4.32.0 in /Users/anita/.pyenv/versions/3.9.7/lib/python3.9/site-packages (from sentence-transformers) (4.39.2)\n",
      "Requirement already satisfied: tqdm in /Users/anita/.pyenv/versions/3.9.7/lib/python3.9/site-packages (from sentence-transformers) (4.66.2)\n",
      "Requirement already satisfied: torch>=1.11.0 in /Users/anita/.pyenv/versions/3.9.7/lib/python3.9/site-packages (from sentence-transformers) (2.2.1)\n",
      "Requirement already satisfied: numpy in /Users/anita/.pyenv/versions/3.9.7/lib/python3.9/site-packages (from sentence-transformers) (1.26.4)\n",
      "Requirement already satisfied: scikit-learn in /Users/anita/.pyenv/versions/3.9.7/lib/python3.9/site-packages (from sentence-transformers) (1.1.3)\n",
      "Requirement already satisfied: scipy in /Users/anita/.pyenv/versions/3.9.7/lib/python3.9/site-packages (from sentence-transformers) (1.12.0)\n",
      "Requirement already satisfied: huggingface-hub>=0.15.1 in /Users/anita/.pyenv/versions/3.9.7/lib/python3.9/site-packages (from sentence-transformers) (0.21.4)\n",
      "Requirement already satisfied: Pillow in /Users/anita/.pyenv/versions/3.9.7/lib/python3.9/site-packages (from sentence-transformers) (10.3.0)\n",
      "Requirement already satisfied: filelock in /Users/anita/.pyenv/versions/3.9.7/lib/python3.9/site-packages (from huggingface-hub>=0.15.1->sentence-transformers) (3.13.1)\n",
      "Requirement already satisfied: fsspec>=2023.5.0 in /Users/anita/.pyenv/versions/3.9.7/lib/python3.9/site-packages (from huggingface-hub>=0.15.1->sentence-transformers) (2024.2.0)\n",
      "Requirement already satisfied: requests in /Users/anita/.pyenv/versions/3.9.7/lib/python3.9/site-packages (from huggingface-hub>=0.15.1->sentence-transformers) (2.31.0)\n",
      "Requirement already satisfied: pyyaml>=5.1 in /Users/anita/.pyenv/versions/3.9.7/lib/python3.9/site-packages (from huggingface-hub>=0.15.1->sentence-transformers) (6.0.1)\n",
      "Requirement already satisfied: typing-extensions>=3.7.4.3 in /Users/anita/.pyenv/versions/3.9.7/lib/python3.9/site-packages (from huggingface-hub>=0.15.1->sentence-transformers) (4.10.0)\n",
      "Requirement already satisfied: packaging>=20.9 in /Users/anita/.pyenv/versions/3.9.7/lib/python3.9/site-packages (from huggingface-hub>=0.15.1->sentence-transformers) (23.2)\n",
      "Requirement already satisfied: sympy in /Users/anita/.pyenv/versions/3.9.7/lib/python3.9/site-packages (from torch>=1.11.0->sentence-transformers) (1.12)\n",
      "Requirement already satisfied: networkx in /Users/anita/.pyenv/versions/3.9.7/lib/python3.9/site-packages (from torch>=1.11.0->sentence-transformers) (3.2.1)\n",
      "Requirement already satisfied: jinja2 in /Users/anita/.pyenv/versions/3.9.7/lib/python3.9/site-packages (from torch>=1.11.0->sentence-transformers) (3.1.3)\n",
      "Requirement already satisfied: regex!=2019.12.17 in /Users/anita/.pyenv/versions/3.9.7/lib/python3.9/site-packages (from transformers<5.0.0,>=4.32.0->sentence-transformers) (2023.12.25)\n",
      "Requirement already satisfied: tokenizers<0.19,>=0.14 in /Users/anita/.pyenv/versions/3.9.7/lib/python3.9/site-packages (from transformers<5.0.0,>=4.32.0->sentence-transformers) (0.15.2)\n",
      "Requirement already satisfied: safetensors>=0.4.1 in /Users/anita/.pyenv/versions/3.9.7/lib/python3.9/site-packages (from transformers<5.0.0,>=4.32.0->sentence-transformers) (0.4.2)\n",
      "Requirement already satisfied: joblib>=1.0.0 in /Users/anita/.pyenv/versions/3.9.7/lib/python3.9/site-packages (from scikit-learn->sentence-transformers) (1.3.2)\n",
      "Requirement already satisfied: threadpoolctl>=2.0.0 in /Users/anita/.pyenv/versions/3.9.7/lib/python3.9/site-packages (from scikit-learn->sentence-transformers) (3.4.0)\n",
      "Requirement already satisfied: MarkupSafe>=2.0 in /Users/anita/.pyenv/versions/3.9.7/lib/python3.9/site-packages (from jinja2->torch>=1.11.0->sentence-transformers) (2.1.5)\n",
      "Requirement already satisfied: charset-normalizer<4,>=2 in /Users/anita/.pyenv/versions/3.9.7/lib/python3.9/site-packages (from requests->huggingface-hub>=0.15.1->sentence-transformers) (3.3.2)\n",
      "Requirement already satisfied: idna<4,>=2.5 in /Users/anita/.pyenv/versions/3.9.7/lib/python3.9/site-packages (from requests->huggingface-hub>=0.15.1->sentence-transformers) (3.6)\n",
      "Requirement already satisfied: urllib3<3,>=1.21.1 in /Users/anita/.pyenv/versions/3.9.7/lib/python3.9/site-packages (from requests->huggingface-hub>=0.15.1->sentence-transformers) (2.2.1)\n",
      "Requirement already satisfied: certifi>=2017.4.17 in /Users/anita/.pyenv/versions/3.9.7/lib/python3.9/site-packages (from requests->huggingface-hub>=0.15.1->sentence-transformers) (2024.2.2)\n",
      "Requirement already satisfied: mpmath>=0.19 in /Users/anita/.pyenv/versions/3.9.7/lib/python3.9/site-packages (from sympy->torch>=1.11.0->sentence-transformers) (1.3.0)\n",
      "Requirement already satisfied: spacy in /Users/anita/.pyenv/versions/3.9.7/lib/python3.9/site-packages (3.7.4)\n",
      "Requirement already satisfied: spacy-legacy<3.1.0,>=3.0.11 in /Users/anita/.pyenv/versions/3.9.7/lib/python3.9/site-packages (from spacy) (3.0.12)\n",
      "Requirement already satisfied: spacy-loggers<2.0.0,>=1.0.0 in /Users/anita/.pyenv/versions/3.9.7/lib/python3.9/site-packages (from spacy) (1.0.5)\n",
      "Requirement already satisfied: murmurhash<1.1.0,>=0.28.0 in /Users/anita/.pyenv/versions/3.9.7/lib/python3.9/site-packages (from spacy) (1.0.10)\n",
      "Requirement already satisfied: cymem<2.1.0,>=2.0.2 in /Users/anita/.pyenv/versions/3.9.7/lib/python3.9/site-packages (from spacy) (2.0.8)\n",
      "Requirement already satisfied: preshed<3.1.0,>=3.0.2 in /Users/anita/.pyenv/versions/3.9.7/lib/python3.9/site-packages (from spacy) (3.0.9)\n",
      "Requirement already satisfied: thinc<8.3.0,>=8.2.2 in /Users/anita/.pyenv/versions/3.9.7/lib/python3.9/site-packages (from spacy) (8.2.3)\n",
      "Requirement already satisfied: wasabi<1.2.0,>=0.9.1 in /Users/anita/.pyenv/versions/3.9.7/lib/python3.9/site-packages (from spacy) (1.1.2)\n",
      "Requirement already satisfied: srsly<3.0.0,>=2.4.3 in /Users/anita/.pyenv/versions/3.9.7/lib/python3.9/site-packages (from spacy) (2.4.8)\n",
      "Requirement already satisfied: catalogue<2.1.0,>=2.0.6 in /Users/anita/.pyenv/versions/3.9.7/lib/python3.9/site-packages (from spacy) (2.0.10)\n",
      "Requirement already satisfied: weasel<0.4.0,>=0.1.0 in /Users/anita/.pyenv/versions/3.9.7/lib/python3.9/site-packages (from spacy) (0.3.4)\n",
      "Requirement already satisfied: typer<0.10.0,>=0.3.0 in /Users/anita/.pyenv/versions/3.9.7/lib/python3.9/site-packages (from spacy) (0.9.4)\n",
      "Requirement already satisfied: smart-open<7.0.0,>=5.2.1 in /Users/anita/.pyenv/versions/3.9.7/lib/python3.9/site-packages (from spacy) (6.4.0)\n",
      "Requirement already satisfied: tqdm<5.0.0,>=4.38.0 in /Users/anita/.pyenv/versions/3.9.7/lib/python3.9/site-packages (from spacy) (4.66.2)\n",
      "Requirement already satisfied: requests<3.0.0,>=2.13.0 in /Users/anita/.pyenv/versions/3.9.7/lib/python3.9/site-packages (from spacy) (2.31.0)\n",
      "Requirement already satisfied: pydantic!=1.8,!=1.8.1,<3.0.0,>=1.7.4 in /Users/anita/.pyenv/versions/3.9.7/lib/python3.9/site-packages (from spacy) (2.6.4)\n",
      "Requirement already satisfied: jinja2 in /Users/anita/.pyenv/versions/3.9.7/lib/python3.9/site-packages (from spacy) (3.1.3)\n",
      "Requirement already satisfied: setuptools in /Users/anita/.pyenv/versions/3.9.7/lib/python3.9/site-packages (from spacy) (69.2.0)\n",
      "Requirement already satisfied: packaging>=20.0 in /Users/anita/.pyenv/versions/3.9.7/lib/python3.9/site-packages (from spacy) (23.2)\n",
      "Requirement already satisfied: langcodes<4.0.0,>=3.2.0 in /Users/anita/.pyenv/versions/3.9.7/lib/python3.9/site-packages (from spacy) (3.3.0)\n",
      "Requirement already satisfied: numpy>=1.19.0 in /Users/anita/.pyenv/versions/3.9.7/lib/python3.9/site-packages (from spacy) (1.26.4)\n",
      "Requirement already satisfied: annotated-types>=0.4.0 in /Users/anita/.pyenv/versions/3.9.7/lib/python3.9/site-packages (from pydantic!=1.8,!=1.8.1,<3.0.0,>=1.7.4->spacy) (0.6.0)\n",
      "Requirement already satisfied: pydantic-core==2.16.3 in /Users/anita/.pyenv/versions/3.9.7/lib/python3.9/site-packages (from pydantic!=1.8,!=1.8.1,<3.0.0,>=1.7.4->spacy) (2.16.3)\n",
      "Requirement already satisfied: typing-extensions>=4.6.1 in /Users/anita/.pyenv/versions/3.9.7/lib/python3.9/site-packages (from pydantic!=1.8,!=1.8.1,<3.0.0,>=1.7.4->spacy) (4.10.0)\n",
      "Requirement already satisfied: charset-normalizer<4,>=2 in /Users/anita/.pyenv/versions/3.9.7/lib/python3.9/site-packages (from requests<3.0.0,>=2.13.0->spacy) (3.3.2)\n",
      "Requirement already satisfied: idna<4,>=2.5 in /Users/anita/.pyenv/versions/3.9.7/lib/python3.9/site-packages (from requests<3.0.0,>=2.13.0->spacy) (3.6)\n",
      "Requirement already satisfied: urllib3<3,>=1.21.1 in /Users/anita/.pyenv/versions/3.9.7/lib/python3.9/site-packages (from requests<3.0.0,>=2.13.0->spacy) (2.2.1)\n",
      "Requirement already satisfied: certifi>=2017.4.17 in /Users/anita/.pyenv/versions/3.9.7/lib/python3.9/site-packages (from requests<3.0.0,>=2.13.0->spacy) (2024.2.2)\n",
      "Requirement already satisfied: blis<0.8.0,>=0.7.8 in /Users/anita/.pyenv/versions/3.9.7/lib/python3.9/site-packages (from thinc<8.3.0,>=8.2.2->spacy) (0.7.11)\n",
      "Requirement already satisfied: confection<1.0.0,>=0.0.1 in /Users/anita/.pyenv/versions/3.9.7/lib/python3.9/site-packages (from thinc<8.3.0,>=8.2.2->spacy) (0.1.4)\n",
      "Requirement already satisfied: click<9.0.0,>=7.1.1 in /Users/anita/.pyenv/versions/3.9.7/lib/python3.9/site-packages (from typer<0.10.0,>=0.3.0->spacy) (8.1.7)\n",
      "Requirement already satisfied: cloudpathlib<0.17.0,>=0.7.0 in /Users/anita/.pyenv/versions/3.9.7/lib/python3.9/site-packages (from weasel<0.4.0,>=0.1.0->spacy) (0.16.0)\n",
      "Requirement already satisfied: MarkupSafe>=2.0 in /Users/anita/.pyenv/versions/3.9.7/lib/python3.9/site-packages (from jinja2->spacy) (2.1.5)\n"
     ]
    },
    {
     "name": "stderr",
     "output_type": "stream",
     "text": [
      "[nltk_data] Downloading package punkt to /Users/anita/nltk_data...\n",
      "[nltk_data]   Package punkt is already up-to-date!\n",
      "[nltk_data] Downloading package stopwords to /Users/anita/nltk_data...\n",
      "[nltk_data]   Package stopwords is already up-to-date!\n",
      "[nltk_data] Downloading package wordnet to /Users/anita/nltk_data...\n",
      "[nltk_data]   Package wordnet is already up-to-date!\n",
      "[nltk_data] Downloading package omw-1.4 to /Users/anita/nltk_data...\n",
      "[nltk_data]   Package omw-1.4 is already up-to-date!\n"
     ]
    },
    {
     "name": "stdout",
     "output_type": "stream",
     "text": [
      "Setup complete. Ready to load data.\n"
     ]
    }
   ],
   "source": [
    "# Install necessary libraries\n",
    "!pip install pandas nltk\n",
    "!pip install ipywidgets\n",
    "!pip install spotipy\n",
    "!pip install langdetect\n",
    "!pip install sentence-transformers\n",
    "!pip install spacy\n",
    "\n",
    "# Importing libraries\n",
    "import spacy\n",
    "import re\n",
    "from difflib import SequenceMatcher\n",
    "import nltk\n",
    "from nltk.tokenize import word_tokenize\n",
    "from spacy.lang.en.stop_words import STOP_WORDS\n",
    "import logging\n",
    "from nltk.stem import PorterStemmer\n",
    "from sentence_transformers import SentenceTransformer\n",
    "\n",
    "import pandas as pd\n",
    "from IPython.display import display, Markdown\n",
    "import ipywidgets as widgets\n",
    "\n",
    "nltk.download('punkt')\n",
    "nltk.download('stopwords')\n",
    "nltk.download('wordnet')\n",
    "nltk.download('omw-1.4')\n",
    "\n",
    "# Load the BERT model\n",
    "model = SentenceTransformer('paraphrase-MiniLM-L6-v2')\n",
    "\n",
    "print(\"Setup complete. Ready to load data.\")"
   ]
  },
  {
   "cell_type": "markdown",
   "id": "79e9b171",
   "metadata": {},
   "source": [
    "##### Clean Data"
   ]
  },
  {
   "cell_type": "code",
   "execution_count": 2,
   "id": "5ffa19fb",
   "metadata": {},
   "outputs": [],
   "source": [
    "logging.basicConfig(level=logging.INFO)"
   ]
  },
  {
   "cell_type": "code",
   "execution_count": 3,
   "id": "84cea903-a0c2-468e-882d-de753ce5a7c7",
   "metadata": {},
   "outputs": [
    {
     "name": "stdout",
     "output_type": "stream",
     "text": [
      "Data loaded successfully!\n",
      "Sample data:\n"
     ]
    },
    {
     "data": {
      "text/html": [
       "<div>\n",
       "<style scoped>\n",
       "    .dataframe tbody tr th:only-of-type {\n",
       "        vertical-align: middle;\n",
       "    }\n",
       "\n",
       "    .dataframe tbody tr th {\n",
       "        vertical-align: top;\n",
       "    }\n",
       "\n",
       "    .dataframe thead th {\n",
       "        text-align: right;\n",
       "    }\n",
       "</style>\n",
       "<table border=\"1\" class=\"dataframe\">\n",
       "  <thead>\n",
       "    <tr style=\"text-align: right;\">\n",
       "      <th></th>\n",
       "      <th>artist</th>\n",
       "      <th>title</th>\n",
       "      <th>id</th>\n",
       "      <th>release_date</th>\n",
       "      <th>lyrics</th>\n",
       "    </tr>\n",
       "  </thead>\n",
       "  <tbody>\n",
       "    <tr>\n",
       "      <th>0</th>\n",
       "      <td>Ariana Grande</td>\n",
       "      <td>​thank u, next</td>\n",
       "      <td>4063065</td>\n",
       "      <td>2018-11-03</td>\n",
       "      <td>[Verse 1]\\nThought I'd end up with Sean\\nBut h...</td>\n",
       "    </tr>\n",
       "    <tr>\n",
       "      <th>1</th>\n",
       "      <td>Ariana Grande</td>\n",
       "      <td>7 rings</td>\n",
       "      <td>4067762</td>\n",
       "      <td>2019-01-18</td>\n",
       "      <td>[Verse 1]\\nYeah, breakfast at Tiffany's and bo...</td>\n",
       "    </tr>\n",
       "    <tr>\n",
       "      <th>2</th>\n",
       "      <td>Ariana Grande</td>\n",
       "      <td>​God is a woman</td>\n",
       "      <td>3681280</td>\n",
       "      <td>2018-07-13</td>\n",
       "      <td>[Chorus]\\nYou, you love it how I move you\\nYou...</td>\n",
       "    </tr>\n",
       "    <tr>\n",
       "      <th>3</th>\n",
       "      <td>Ariana Grande</td>\n",
       "      <td>Side To Side</td>\n",
       "      <td>2457495</td>\n",
       "      <td>2016-05-20</td>\n",
       "      <td>[Intro: Ariana Grande &amp; Nicki Minaj]\\nI've bee...</td>\n",
       "    </tr>\n",
       "    <tr>\n",
       "      <th>4</th>\n",
       "      <td>Ariana Grande</td>\n",
       "      <td>​​no tears left to cry</td>\n",
       "      <td>3649172</td>\n",
       "      <td>2018-04-20</td>\n",
       "      <td>[Intro]\\nRight now, I'm in a state of mind\\nI ...</td>\n",
       "    </tr>\n",
       "    <tr>\n",
       "      <th>...</th>\n",
       "      <td>...</td>\n",
       "      <td>...</td>\n",
       "      <td>...</td>\n",
       "      <td>...</td>\n",
       "      <td>...</td>\n",
       "    </tr>\n",
       "    <tr>\n",
       "      <th>3739</th>\n",
       "      <td>Taylor Swift</td>\n",
       "      <td>Taylor Swift - no body, no crime (Traducción a...</td>\n",
       "      <td>6274728</td>\n",
       "      <td>2020-12-11</td>\n",
       "      <td>[Intro: HAIM]\\nÉl lo hizo\\nÉl lo hizo\\n\\n[Vers...</td>\n",
       "    </tr>\n",
       "    <tr>\n",
       "      <th>3740</th>\n",
       "      <td>Taylor Swift</td>\n",
       "      <td>Welcome Back Grunwald</td>\n",
       "      <td>6226864</td>\n",
       "      <td>NaN</td>\n",
       "      <td>Turn WYCD on\\nYou're\\nOn your Grunwald\\nBack f...</td>\n",
       "    </tr>\n",
       "    <tr>\n",
       "      <th>3741</th>\n",
       "      <td>Taylor Swift</td>\n",
       "      <td>Tolerate it (Polskie Tłumaczenie)</td>\n",
       "      <td>6315848</td>\n",
       "      <td>2020-12-11</td>\n",
       "      <td>[Zwrotka 1]\\nSiedzę i patrzę jak czytasz z gło...</td>\n",
       "    </tr>\n",
       "    <tr>\n",
       "      <th>3742</th>\n",
       "      <td>Taylor Swift</td>\n",
       "      <td>Find you</td>\n",
       "      <td>6209316</td>\n",
       "      <td>NaN</td>\n",
       "      <td>Trying just like they say\\nJust taking the ste...</td>\n",
       "    </tr>\n",
       "    <tr>\n",
       "      <th>3743</th>\n",
       "      <td>Taylor Swift</td>\n",
       "      <td>Clean - Türkçe Çeviri</td>\n",
       "      <td>6387638</td>\n",
       "      <td>2014-10-27</td>\n",
       "      <td>[Verse 1]\\nKuraklık en kötüsüydü(Oh-oh-oh)\\nBe...</td>\n",
       "    </tr>\n",
       "  </tbody>\n",
       "</table>\n",
       "<p>3744 rows × 5 columns</p>\n",
       "</div>"
      ],
      "text/plain": [
       "             artist                                              title  \\\n",
       "0     Ariana Grande                                     ​thank u, next   \n",
       "1     Ariana Grande                                            7 rings   \n",
       "2     Ariana Grande                                    ​God is a woman   \n",
       "3     Ariana Grande                                       Side To Side   \n",
       "4     Ariana Grande                             ​​no tears left to cry   \n",
       "...             ...                                                ...   \n",
       "3739   Taylor Swift  Taylor Swift - no body, no crime (Traducción a...   \n",
       "3740   Taylor Swift                              Welcome Back Grunwald   \n",
       "3741   Taylor Swift                  Tolerate it (Polskie Tłumaczenie)   \n",
       "3742   Taylor Swift                                           Find you   \n",
       "3743   Taylor Swift                              Clean - Türkçe Çeviri   \n",
       "\n",
       "           id release_date                                             lyrics  \n",
       "0     4063065   2018-11-03  [Verse 1]\\nThought I'd end up with Sean\\nBut h...  \n",
       "1     4067762   2019-01-18  [Verse 1]\\nYeah, breakfast at Tiffany's and bo...  \n",
       "2     3681280   2018-07-13  [Chorus]\\nYou, you love it how I move you\\nYou...  \n",
       "3     2457495   2016-05-20  [Intro: Ariana Grande & Nicki Minaj]\\nI've bee...  \n",
       "4     3649172   2018-04-20  [Intro]\\nRight now, I'm in a state of mind\\nI ...  \n",
       "...       ...          ...                                                ...  \n",
       "3739  6274728   2020-12-11  [Intro: HAIM]\\nÉl lo hizo\\nÉl lo hizo\\n\\n[Vers...  \n",
       "3740  6226864          NaN  Turn WYCD on\\nYou're\\nOn your Grunwald\\nBack f...  \n",
       "3741  6315848   2020-12-11  [Zwrotka 1]\\nSiedzę i patrzę jak czytasz z gło...  \n",
       "3742  6209316          NaN  Trying just like they say\\nJust taking the ste...  \n",
       "3743  6387638   2014-10-27  [Verse 1]\\nKuraklık en kötüsüydü(Oh-oh-oh)\\nBe...  \n",
       "\n",
       "[3744 rows x 5 columns]"
      ]
     },
     "execution_count": 3,
     "metadata": {},
     "output_type": "execute_result"
    }
   ],
   "source": [
    "# Load data from a CSV file\n",
    "df = pd.read_csv('/Users/anita/Documents/NLPSongs-/music_data.csv')\n",
    "print(\"Data loaded successfully!\")\n",
    "print(\"Sample data:\")\n",
    "df # Display the first few rows of the dataset to verify it's loaded correctly"
   ]
  },
  {
   "cell_type": "code",
   "execution_count": 4,
   "id": "2575387a",
   "metadata": {},
   "outputs": [
    {
     "name": "stdout",
     "output_type": "stream",
     "text": [
      "artist            0\n",
      "title             0\n",
      "id                0\n",
      "release_date    993\n",
      "lyrics            0\n",
      "dtype: int64\n"
     ]
    }
   ],
   "source": [
    "null_values = df.isnull().sum()\n",
    "print(null_values)"
   ]
  },
  {
   "cell_type": "code",
   "execution_count": 5,
   "id": "bfa3b79e",
   "metadata": {},
   "outputs": [],
   "source": [
    "#Remove null values\n",
    "df= df.dropna()"
   ]
  },
  {
   "cell_type": "code",
   "execution_count": 6,
   "id": "bc68f385",
   "metadata": {},
   "outputs": [
    {
     "name": "stdout",
     "output_type": "stream",
     "text": [
      "0\n"
     ]
    }
   ],
   "source": [
    "duplicate_rows = df.duplicated().sum()\n",
    "print(duplicate_rows)"
   ]
  },
  {
   "cell_type": "code",
   "execution_count": 7,
   "id": "46a7ee78",
   "metadata": {},
   "outputs": [],
   "source": [
    "from langdetect import detect\n",
    "\n",
    "def is_english(row):\n",
    "    for column in row:\n",
    "        try:\n",
    "            if detect(str(column)) != 'en':\n",
    "                return False\n",
    "        except:\n",
    "            pass\n",
    "    return True\n",
    "\n",
    "mask = df.apply(is_english, axis=1)\n",
    "df = df[mask]"
   ]
  },
  {
   "cell_type": "code",
   "execution_count": 8,
   "id": "c867f807",
   "metadata": {},
   "outputs": [
    {
     "name": "stdout",
     "output_type": "stream",
     "text": [
      "Filtered and cleaned data:\n",
      "           artist                  title       id release_date  \\\n",
      "517  Charlie Puth  We Don’t Talk Anymore  2388373   2016-05-24   \n",
      "518  Charlie Puth               How Long  3236636   2017-10-05   \n",
      "519  Charlie Puth            Marvin Gaye   706298   2015-02-10   \n",
      "520  Charlie Puth          One Call Away  2276633   2015-08-20   \n",
      "522  Charlie Puth           The Way I Am  3598344   2018-05-03   \n",
      "\n",
      "                                                lyrics  \n",
      "517  [Chorus: Charlie Puth]\\nWe don't talk anymore,...  \n",
      "518  [Intro]\\nAlright\\nOoh, yeah\\n\\n[Verse 1]\\nI'll...  \n",
      "519  [Intro: Charlie Puth]\\nLet's Marvin Gaye and g...  \n",
      "520  [Chorus]\\nI'm only one call away\\nI'll be ther...  \n",
      "522  [Verse 1]\\nYeah, maybe I'ma get a little anxio...  \n"
     ]
    }
   ],
   "source": [
    "print(\"Filtered and cleaned data:\")\n",
    "print(df.head())"
   ]
  },
  {
   "cell_type": "markdown",
   "id": "093d06b5",
   "metadata": {},
   "source": [
    "#### Preprocess"
   ]
  },
  {
   "cell_type": "code",
   "execution_count": 9,
   "id": "c35f749c",
   "metadata": {},
   "outputs": [],
   "source": [
    "# Load English tokenizer, tagger, parser, NER, and word vectors\n",
    "nlp = spacy.load(\"en_core_web_sm\")\n",
    "\n",
    "CONTRACTION_MAP = {\n",
    "    \"can't\": \"cannot\",\n",
    "    \"won't\": \"will not\",\n",
    "    \"n't\": \" not\",\n",
    "    \"'re\": \" are\",\n",
    "    \"'s\": \" is\",\n",
    "    \"'m\": \" am\",\n",
    "    \"'ll\": \" will\",\n",
    "    \"'d\": \" would\",\n",
    "    \"'ve\": \" have\",\n",
    "    \"o'clock\": \"of the clock\",\n",
    "    \"ma'am\": \"madam\",\n",
    "    \"let's\": \"let us\"\n",
    "}\n",
    "\n",
    "def expand_contractions(text, contraction_map):\n",
    "    # Regular expression for finding contractions\n",
    "    contractions_pattern = re.compile('({})'.format('|'.join(contraction_map.keys())), \n",
    "                                      flags=re.IGNORECASE|re.DOTALL)\n",
    "    def expand_match(contraction):\n",
    "        match = contraction.group(0)\n",
    "        first_char = match[0]\n",
    "        expanded_contraction = contraction_map.get(match.lower() if match.lower() in contraction_map else match)\n",
    "        if expanded_contraction is None:\n",
    "            return\n",
    "        expanded_contraction = first_char+expanded_contraction[1:]\n",
    "        return expanded_contraction\n",
    "    \n",
    "    expanded_text = contractions_pattern.sub(expand_match, text)\n",
    "    return expanded_text"
   ]
  },
  {
   "cell_type": "code",
   "execution_count": 10,
   "id": "4312c1d1",
   "metadata": {},
   "outputs": [
    {
     "name": "stdout",
     "output_type": "stream",
     "text": [
      "Data preprocessing complete. Here's a preview:\n",
      "                                                lyrics  \\\n",
      "517  [Chorus: Charlie Puth]\\nWe don't talk anymore,...   \n",
      "518  [Intro]\\nAlright\\nOoh, yeah\\n\\n[Verse 1]\\nI'll...   \n",
      "519  [Intro: Charlie Puth]\\nLet's Marvin Gaye and g...   \n",
      "520  [Chorus]\\nI'm only one call away\\nI'll be ther...   \n",
      "522  [Verse 1]\\nYeah, maybe I'ma get a little anxio...   \n",
      "\n",
      "                                      processed_lyrics  \n",
      "517  chorus charlie puth donnot talk anymore donnot...  \n",
      "518  intro alright ooh yeah verse admit wrong girl ...  \n",
      "519  intro charlie puth let marvin gaye get healing...  \n",
      "520  chorus away save day superman get away verse b...  \n",
      "522  verse yeah maybe little anxious maybe little s...  \n"
     ]
    }
   ],
   "source": [
    "def preprocess_text(text):\n",
    "    # Expand contractions\n",
    "    text = expand_contractions(text, CONTRACTION_MAP)\n",
    "    # Convert to lowercase\n",
    "    text = text.lower()\n",
    "    # Perform tokenization and lemmatization using spaCy\n",
    "    doc = nlp(text)\n",
    "    # Lemmatization and filtering out stop words and non-alphabetic characters\n",
    "    lemmatized_tokens = [token.lemma_ for token in doc if token.is_alpha and not token.is_stop]\n",
    "    return ' '.join(lemmatized_tokens)\n",
    "\n",
    "\n",
    "# Apply preprocessing to the lyrics column\n",
    "df['processed_lyrics'] = df['lyrics'].apply(preprocess_text)\n",
    "print(\"Data preprocessing complete. Here's a preview:\")\n",
    "print(df[['lyrics', 'processed_lyrics']].head())"
   ]
  },
  {
   "cell_type": "code",
   "execution_count": 12,
   "id": "c822852f",
   "metadata": {},
   "outputs": [],
   "source": [
    "# Function to find the best match for the lyrics snippet in the dataset\n",
    "def find_best_match(lyrics_input, df):\n",
    "    def similarity(a, b):\n",
    "        return SequenceMatcher(None, a, b).ratio()\n",
    "    \n",
    "    processed_input = preprocess_text(lyrics_input)\n",
    "    df['similarity'] = df['processed_lyrics'].apply(lambda x: similarity(processed_input, x))\n",
    "    best_match = df.loc[df['similarity'].idxmax()]\n",
    "    print(f\"Best match: {best_match['title']} by {best_match['artist']} with similarity score: {best_match['similarity']}\")\n",
    "    if best_match['similarity'] > 0.5:  # Threshold for similarity\n",
    "        return best_match\n",
    "    else:\n",
    "        return None"
   ]
  },
  {
   "cell_type": "markdown",
   "id": "7de77097",
   "metadata": {},
   "source": [
    "#### Spotify Connection"
   ]
  },
  {
   "cell_type": "code",
   "execution_count": 13,
   "id": "a3a9603f",
   "metadata": {},
   "outputs": [],
   "source": [
    "# Import the Spotipy library\n",
    "import spotipy\n",
    "from spotipy.oauth2 import SpotifyClientCredentials\n",
    "\n",
    "# Initialize Spotipy with Spotify Developer Credentials\n",
    "client_id = '1075d2afec3d414ca02ec7002f1d5576'  # Replace with your actual Spotify Client ID\n",
    "client_secret = 'bb1fd201730b484983d952ecbd344b33'  # Replace with your actual Spotify Client Secret\n",
    "\n",
    "credentials = SpotifyClientCredentials(client_id=client_id, client_secret=client_secret)\n",
    "spotify = spotipy.Spotify(client_credentials_manager=credentials)"
   ]
  },
  {
   "cell_type": "code",
   "execution_count": 14,
   "id": "8a327b6b-10ad-48cf-9d79-477e65adab2c",
   "metadata": {},
   "outputs": [],
   "source": [
    "def search_spotify(song_title, artist):\n",
    "    query = f\"track:{song_title} artist:{artist}\"\n",
    "    results = spotify.search(q=query, type='track', limit=1)\n",
    "    if results['tracks']['items']:\n",
    "        track = results['tracks']['items'][0]\n",
    "        print(f\"Found on Spotify: {track['name']} by {track['artists'][0]['name']}\")\n",
    "        return {\n",
    "            'name': track['name'],\n",
    "            'artist': track['artists'][0]['name'],\n",
    "            'album': track['album']['name'],\n",
    "            'preview_url': track['preview_url'],\n",
    "            'spotify_url': track['external_urls']['spotify']\n",
    "        }\n",
    "    else:\n",
    "        return \"No results found on Spotify.\""
   ]
  },
  {
   "cell_type": "code",
   "execution_count": 15,
   "id": "a6c45975-069c-4156-83f7-5b82fa459fb7",
   "metadata": {},
   "outputs": [],
   "source": [
    "# Function to retrieve and search Spotify based on the best match\n",
    "def retrieve_song_and_search_spotify(lyrics_input):\n",
    "    match = find_best_match(lyrics_input, df)\n",
    "    if match is not None:\n",
    "        print(f\"Attempting to retrieve: {match['title']} by {match['artist']}\")\n",
    "        spotify_info = search_spotify(match['title'], match['artist'])\n",
    "        display_spotify_result(spotify_info)\n",
    "    else:\n",
    "        display(Markdown(\"**No matching song found.**\"))"
   ]
  },
  {
   "cell_type": "code",
   "execution_count": 16,
   "id": "923ec42a",
   "metadata": {},
   "outputs": [],
   "source": [
    "from IPython.display import display, HTML, Audio\n",
    "\n",
    "def display_spotify_result(spotify_info):\n",
    "    if isinstance(spotify_info, dict):\n",
    "        html_content = f\"<h3>{spotify_info['name']} by {spotify_info['artist']}</h3>\"\n",
    "        html_content += f\"<p><strong>Album:</strong> {spotify_info['album']}</p>\"\n",
    "        html_content += f\"<a href='{spotify_info['spotify_url']}' target='_blank'>Listen on Spotify</a>\"\n",
    "        if spotify_info['preview_url']:\n",
    "            display(HTML(html_content))\n",
    "            display(Audio(spotify_info['preview_url'], autoplay=False))\n",
    "        else:\n",
    "            display(HTML(html_content))\n",
    "    else:\n",
    "        print(spotify_info)"
   ]
  },
  {
   "cell_type": "markdown",
   "id": "0adc5b57",
   "metadata": {},
   "source": [
    "#### Search"
   ]
  },
  {
   "cell_type": "code",
   "execution_count": 17,
   "id": "74b6b2b4-fefc-4455-919e-4dc8e1ba4a8e",
   "metadata": {},
   "outputs": [
    {
     "data": {
      "application/vnd.jupyter.widget-view+json": {
       "model_id": "626b208671a04092ac53144db04b712e",
       "version_major": 2,
       "version_minor": 0
      },
      "text/plain": [
       "Text(value='', description='Lyrics:', placeholder='Type lyrics here...')"
      ]
     },
     "metadata": {},
     "output_type": "display_data"
    },
    {
     "data": {
      "application/vnd.jupyter.widget-view+json": {
       "model_id": "3c9c4a1124ee4e6299021e700f0cb63b",
       "version_major": 2,
       "version_minor": 0
      },
      "text/plain": [
       "Button(button_style='info', description='Search', icon='search', style=ButtonStyle())"
      ]
     },
     "metadata": {},
     "output_type": "display_data"
    },
    {
     "data": {
      "application/vnd.jupyter.widget-view+json": {
       "model_id": "bf245b9287904303bb9bc559f54b8a15",
       "version_major": 2,
       "version_minor": 0
      },
      "text/plain": [
       "Output()"
      ]
     },
     "metadata": {},
     "output_type": "display_data"
    }
   ],
   "source": [
    "import ipywidgets as widgets\n",
    "from IPython.display import display\n",
    "\n",
    "# Input for lyrics\n",
    "lyrics_input = widgets.Text(\n",
    "    value='',\n",
    "    placeholder='Type lyrics here...',\n",
    "    description='Lyrics:',\n",
    "    disabled=False\n",
    ")\n",
    "\n",
    "# Button to trigger the search\n",
    "search_button = widgets.Button(\n",
    "    description='Search',\n",
    "    button_style='info',  # 'success', 'info', 'warning', 'danger' or ''\n",
    "    icon='search'  # FontAwesome icon name (without 'fa-')\n",
    ")\n",
    "\n",
    "output = widgets.Output()\n",
    "\n",
    "def on_button_clicked(b):\n",
    "    with output:\n",
    "        output.clear_output()\n",
    "        retrieve_song_and_search_spotify(lyrics_input.value)\n",
    "\n",
    "search_button.on_click(on_button_clicked)\n",
    "\n",
    "display(lyrics_input, search_button, output)\n"
   ]
  },
  {
   "cell_type": "code",
   "execution_count": null,
   "id": "adc16aa7-48a6-41b6-a57c-cc3bc44d943f",
   "metadata": {},
   "outputs": [],
   "source": []
  }
 ],
 "metadata": {
  "kernelspec": {
   "display_name": "Python 3 (ipykernel)",
   "language": "python",
   "name": "python3"
  },
  "language_info": {
   "codemirror_mode": {
    "name": "ipython",
    "version": 3
   },
   "file_extension": ".py",
   "mimetype": "text/x-python",
   "name": "python",
   "nbconvert_exporter": "python",
   "pygments_lexer": "ipython3",
   "version": "3.9.7"
  }
 },
 "nbformat": 4,
 "nbformat_minor": 5
}
